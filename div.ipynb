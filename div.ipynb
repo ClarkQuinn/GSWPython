{
 "cells": [
  {
   "cell_type": "markdown",
   "id": "8b522b71",
   "metadata": {},
   "source": [
    "## Div mod Function"
   ]
  },
  {
   "cell_type": "code",
   "execution_count": 2,
   "id": "8089f778",
   "metadata": {},
   "outputs": [
    {
     "name": "stdout",
     "output_type": "stream",
     "text": [
      "(3, 4)\n"
     ]
    },
    {
     "data": {
      "text/plain": [
       "tuple"
      ]
     },
     "execution_count": 2,
     "metadata": {},
     "output_type": "execute_result"
    }
   ],
   "source": [
    "a = divmod(25,7)\n",
    "print(a)\n",
    "type(a)"
   ]
  },
  {
   "cell_type": "code",
   "execution_count": 3,
   "id": "4c3a7f58",
   "metadata": {},
   "outputs": [
    {
     "name": "stdout",
     "output_type": "stream",
     "text": [
      "3\n"
     ]
    }
   ],
   "source": [
    "print(a[0])"
   ]
  },
  {
   "cell_type": "code",
   "execution_count": 4,
   "id": "9e9ff3c1",
   "metadata": {},
   "outputs": [
    {
     "data": {
      "text/plain": [
       "' divide the number 148 by 12, 13, 14 and 15 and their quotient and remainder add '"
      ]
     },
     "execution_count": 4,
     "metadata": {},
     "output_type": "execute_result"
    }
   ],
   "source": [
    "\"\"\" divide the number 148 by 12, 13, 14 and 15 and their quotient and remainder add \"\"\""
   ]
  },
  {
   "cell_type": "code",
   "execution_count": 5,
   "id": "7cf84007",
   "metadata": {},
   "outputs": [
    {
     "name": "stdout",
     "output_type": "stream",
     "text": [
      "(3.0, 0.35599999999999987)\n"
     ]
    }
   ],
   "source": [
    "a = divmod(12.356, 4)\n",
    "print(a)"
   ]
  },
  {
   "cell_type": "markdown",
   "id": "19aedb80",
   "metadata": {},
   "source": [
    "## isinstance Function "
   ]
  },
  {
   "cell_type": "markdown",
   "id": "658f5c32",
   "metadata": {},
   "source": [
    "The isinstance function is used to check if an object is an instance of a specified class or a tuple of classes. It returns True if the object is an instance of the class, otherwise it returns False.      \n",
    "syntax :    \n",
    "isinstance(object, type)"
   ]
  },
  {
   "cell_type": "code",
   "execution_count": 6,
   "id": "2788ef9a",
   "metadata": {},
   "outputs": [
    {
     "name": "stdout",
     "output_type": "stream",
     "text": [
      "True\n"
     ]
    }
   ],
   "source": [
    "print(isinstance(3, int))"
   ]
  },
  {
   "cell_type": "code",
   "execution_count": 8,
   "id": "06863c85",
   "metadata": {},
   "outputs": [
    {
     "name": "stdout",
     "output_type": "stream",
     "text": [
      "True\n"
     ]
    }
   ],
   "source": [
    "print(isinstance(3.4,(int,float)))"
   ]
  },
  {
   "cell_type": "code",
   "execution_count": 9,
   "id": "aa2722fd",
   "metadata": {},
   "outputs": [
    {
     "name": "stdout",
     "output_type": "stream",
     "text": [
      "True\n"
     ]
    }
   ],
   "source": [
    "print(isinstance(\"My name is Darshan\", (int, float, str, bool, list, tuple, dict)))"
   ]
  },
  {
   "cell_type": "code",
   "execution_count": 10,
   "id": "4c2261b6",
   "metadata": {},
   "outputs": [
    {
     "data": {
      "text/plain": [
       "True"
      ]
     },
     "execution_count": 10,
     "metadata": {},
     "output_type": "execute_result"
    }
   ],
   "source": [
    "isinstance(2+3j, (int, float, complex, bool, list, tuple, dict))"
   ]
  },
  {
   "cell_type": "markdown",
   "id": "4ab8b68f",
   "metadata": {},
   "source": [
    "## Pow function "
   ]
  },
  {
   "cell_type": "markdown",
   "id": "c0d39570",
   "metadata": {},
   "source": [
    "The pow() function is used to raise a number to a specified power. It takes two arguments: the base and the exponent, and returns the result of raising the base to the exponent.     \n",
    "pow(x,y)\n",
    "pow(2,4)     \n",
    "\n",
    "pow(base, exp, mod) returns (base ** exp) % mod "
   ]
  },
  {
   "cell_type": "code",
   "execution_count": 12,
   "id": "45d32a7e",
   "metadata": {},
   "outputs": [
    {
     "data": {
      "text/plain": [
       "16"
      ]
     },
     "execution_count": 12,
     "metadata": {},
     "output_type": "execute_result"
    }
   ],
   "source": [
    "pow(2,4)"
   ]
  },
  {
   "cell_type": "code",
   "execution_count": 13,
   "id": "71ef0353",
   "metadata": {},
   "outputs": [
    {
     "data": {
      "text/plain": [
       "128"
      ]
     },
     "execution_count": 13,
     "metadata": {},
     "output_type": "execute_result"
    }
   ],
   "source": [
    "2**7"
   ]
  },
  {
   "cell_type": "code",
   "execution_count": 14,
   "id": "bde9ea2b",
   "metadata": {},
   "outputs": [
    {
     "data": {
      "text/plain": [
       "440708114432049181300415063666719528087013353565824484387456153915412187611618132138981140943911896101781167089939117431640625"
      ]
     },
     "execution_count": 14,
     "metadata": {},
     "output_type": "execute_result"
    }
   ],
   "source": [
    "pow(45,76)"
   ]
  },
  {
   "cell_type": "code",
   "execution_count": 15,
   "id": "00c87340",
   "metadata": {},
   "outputs": [
    {
     "data": {
      "text/plain": [
       "454.35423999999995"
      ]
     },
     "execution_count": 15,
     "metadata": {},
     "output_type": "execute_result"
    }
   ],
   "source": [
    "pow(3.4,5)"
   ]
  },
  {
   "cell_type": "code",
   "execution_count": null,
   "id": "b0506ea5",
   "metadata": {},
   "outputs": [
    {
     "data": {
      "text/plain": [
       "2"
      ]
     },
     "execution_count": 16,
     "metadata": {},
     "output_type": "execute_result"
    }
   ],
   "source": [
    "pow(2,4,7)  # pow(base, exp, mod) returns (base ** exp) % mod , (2**4 % 7)  , remender of 2**4 divided by 7"
   ]
  },
  {
   "cell_type": "markdown",
   "id": "da3228fb",
   "metadata": {},
   "source": [
    "## Input Function "
   ]
  },
  {
   "cell_type": "code",
   "execution_count": 6,
   "id": "3fed05b6",
   "metadata": {},
   "outputs": [
    {
     "name": "stdout",
     "output_type": "stream",
     "text": [
      "56\n",
      "<class 'str'>\n",
      "56\n",
      "<class 'int'>\n"
     ]
    }
   ],
   "source": [
    "x = input(\"Enter a number: \") #input always returns a string\n",
    "print(x)\n",
    "print(type(x))\n",
    "x = int(x)  # convert string to integer\n",
    "print(x)\n",
    "print(type(x))"
   ]
  },
  {
   "cell_type": "code",
   "execution_count": 8,
   "id": "96b824f5",
   "metadata": {},
   "outputs": [
    {
     "name": "stdout",
     "output_type": "stream",
     "text": [
      "Total marks are:  237\n",
      "Percentage is:  79.0\n"
     ]
    }
   ],
   "source": [
    "maths = input(\"Enter marks in maths:\")\n",
    "science = input(\"Enter marks in science:\")\n",
    "english = input(\"Enter marks in english:\")\n",
    "total = int(maths) + int(science) + int(english)\n",
    "print(\"Total marks are: \", total)   \n",
    "per = (total / 300) * 100\n",
    "print(\"Percentage is: \", per)"
   ]
  },
  {
   "cell_type": "markdown",
   "id": "50a4cc57",
   "metadata": {},
   "source": [
    "## len function "
   ]
  },
  {
   "cell_type": "code",
   "execution_count": 9,
   "id": "ff2b2451",
   "metadata": {},
   "outputs": [
    {
     "name": "stdout",
     "output_type": "stream",
     "text": [
      "19\n"
     ]
    }
   ],
   "source": [
    "a = \"I am Parmar Darshan\"\n",
    "print(len(a))  # len function returns the length of the string"
   ]
  },
  {
   "cell_type": "code",
   "execution_count": 10,
   "id": "d05d76d8",
   "metadata": {},
   "outputs": [
    {
     "name": "stdout",
     "output_type": "stream",
     "text": [
      "9\n"
     ]
    }
   ],
   "source": [
    "l = [1,2,3,4,5,6,7,8,9]\n",
    "print(len(l))"
   ]
  },
  {
   "cell_type": "markdown",
   "id": "bfeff7a9",
   "metadata": {},
   "source": [
    "## Min and Max Function "
   ]
  },
  {
   "cell_type": "code",
   "execution_count": 11,
   "id": "dff7fe1a",
   "metadata": {},
   "outputs": [
    {
     "name": "stdout",
     "output_type": "stream",
     "text": [
      "9\n",
      "1\n"
     ]
    }
   ],
   "source": [
    "L = [1,2,3,4,5,6,7,8,9]\n",
    "print(max(L))  # max function returns the maximum value in the list\n",
    "print(min(L))  # min function returns the minimum value in the list"
   ]
  },
  {
   "cell_type": "code",
   "execution_count": 18,
   "id": "d00535b7",
   "metadata": {},
   "outputs": [
    {
     "name": "stdout",
     "output_type": "stream",
     "text": [
      "The numbers are:  45636 8569 123 456 12\n",
      "The maximum number is:  45636\n",
      "The minimum number is:  12\n"
     ]
    }
   ],
   "source": [
    "a = int(input(\"Enter a number 1: \"))\n",
    "b = int(input(\"Enter another number 2: \"))\n",
    "c = int(input(\"Enter another number 3: \"))\n",
    "d = int(input(\"Enter another number 4: \"))\n",
    "e = int(input(\"Enter another number 5: \"))\n",
    "print(\"The numbers are: \", a, b, c, d, e)\n",
    "print(\"The maximum number is: \", int(max(a, b, c, d, e)))\n",
    "print(\"The minimum number is: \", int(min(a, b, c, d, e)))"
   ]
  },
  {
   "cell_type": "markdown",
   "id": "1b26379b",
   "metadata": {},
   "source": [
    "## Sorted Function "
   ]
  },
  {
   "cell_type": "code",
   "execution_count": 19,
   "id": "ccaae5d4",
   "metadata": {},
   "outputs": [
    {
     "name": "stdout",
     "output_type": "stream",
     "text": [
      "[0, 12, 23, 34, 45, 56, 67, 78, 78, 89]\n",
      "[89, 78, 78, 67, 56, 45, 34, 23, 12, 0]\n",
      "[23, 78, 0, 45, 67, 89, 12, 34, 56, 78]\n",
      "[0, 12, 23, 34, 45, 56, 67, 78, 78, 89]\n",
      "[89, 78, 78, 67, 56, 45, 34, 23, 12, 0]\n"
     ]
    }
   ],
   "source": [
    "a = [23, 78,0, 45, 67, 89, 12, 34, 56, 78]\n",
    "print(sorted(a))  # sorted function returns the sorted list in ascending order\n",
    "print(sorted(a, reverse=True))  # sorted function returns the sorted list in descending order\n",
    "print(a)  # original list remains unchanged\n",
    "a.sort()  # sort function sorts the list in ascending order\n",
    "print(a)  # original list is changed\n",
    "a.sort(reverse=True)  # sort function sorts the list in descending order\n",
    "print(a)  # original list is changed"
   ]
  },
  {
   "cell_type": "code",
   "execution_count": 20,
   "id": "d58085a3",
   "metadata": {},
   "outputs": [
    {
     "name": "stdout",
     "output_type": "stream",
     "text": [
      "The numbers are:  456 85 -96 45 36\n",
      "[-96, 36, 45, 85, 456]\n",
      "[456, 85, 45, 36, -96]\n"
     ]
    }
   ],
   "source": [
    "a = int(input(\"Enter a number 1: \"))\n",
    "b = int(input(\"Enter another number 2: \"))\n",
    "c = int(input(\"Enter another number 3: \"))\n",
    "d = int(input(\"Enter another number 4: \"))\n",
    "e = int(input(\"Enter another number 5: \"))\n",
    "print(\"The numbers are: \", a, b, c, d, e)\n",
    "print(sorted([a, b, c, d, e]))  # sorted function returns the sorted list in ascending order\n",
    "print(sorted([a, b, c, d, e], reverse=True))  # sorted function returns the sorted list in descending order\n"
   ]
  },
  {
   "cell_type": "code",
   "execution_count": null,
   "id": "5ede819e",
   "metadata": {},
   "outputs": [],
   "source": []
  }
 ],
 "metadata": {
  "kernelspec": {
   "display_name": "Python 3",
   "language": "python",
   "name": "python3"
  },
  "language_info": {
   "codemirror_mode": {
    "name": "ipython",
    "version": 3
   },
   "file_extension": ".py",
   "mimetype": "text/x-python",
   "name": "python",
   "nbconvert_exporter": "python",
   "pygments_lexer": "ipython3",
   "version": "3.12.1"
  }
 },
 "nbformat": 4,
 "nbformat_minor": 5
}
