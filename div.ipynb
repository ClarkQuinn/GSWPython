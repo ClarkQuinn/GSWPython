{
 "cells": [
  {
   "cell_type": "markdown",
   "id": "8b522b71",
   "metadata": {},
   "source": [
    "Div mod Function"
   ]
  },
  {
   "cell_type": "code",
   "execution_count": 2,
   "id": "8089f778",
   "metadata": {},
   "outputs": [
    {
     "name": "stdout",
     "output_type": "stream",
     "text": [
      "(3, 4)\n"
     ]
    },
    {
     "data": {
      "text/plain": [
       "tuple"
      ]
     },
     "execution_count": 2,
     "metadata": {},
     "output_type": "execute_result"
    }
   ],
   "source": [
    "a = divmod(25,7)\n",
    "print(a)\n",
    "type(a)"
   ]
  },
  {
   "cell_type": "code",
   "execution_count": 3,
   "id": "4c3a7f58",
   "metadata": {},
   "outputs": [
    {
     "name": "stdout",
     "output_type": "stream",
     "text": [
      "3\n"
     ]
    }
   ],
   "source": [
    "print(a[0])"
   ]
  },
  {
   "cell_type": "code",
   "execution_count": 4,
   "id": "9e9ff3c1",
   "metadata": {},
   "outputs": [
    {
     "data": {
      "text/plain": [
       "' divide the number 148 by 12, 13, 14 and 15 and their quotient and remainder add '"
      ]
     },
     "execution_count": 4,
     "metadata": {},
     "output_type": "execute_result"
    }
   ],
   "source": [
    "\"\"\" divide the number 148 by 12, 13, 14 and 15 and their quotient and remainder add \"\"\""
   ]
  },
  {
   "cell_type": "code",
   "execution_count": null,
   "id": "7cf84007",
   "metadata": {},
   "outputs": [],
   "source": []
  }
 ],
 "metadata": {
  "kernelspec": {
   "display_name": "base",
   "language": "python",
   "name": "python3"
  },
  "language_info": {
   "codemirror_mode": {
    "name": "ipython",
    "version": 3
   },
   "file_extension": ".py",
   "mimetype": "text/x-python",
   "name": "python",
   "nbconvert_exporter": "python",
   "pygments_lexer": "ipython3",
   "version": "3.11.7"
  }
 },
 "nbformat": 4,
 "nbformat_minor": 5
}
