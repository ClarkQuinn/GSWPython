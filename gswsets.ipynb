{
 "cells": [
  {
   "cell_type": "markdown",
   "id": "5e0188e9",
   "metadata": {},
   "source": [
    "# 5.0 GSW Sets "
   ]
  },
  {
   "cell_type": "markdown",
   "id": "c4fd820b",
   "metadata": {},
   "source": [
    "A **set** is an **unordered**, **unindexed**, and **mutable** collection of **unique elements**.  \n",
    "It is useful for removing duplicates, performing set theory operations, and fast membership checks."
   ]
  },
  {
   "cell_type": "code",
   "execution_count": 1,
   "id": "f5e6bd28",
   "metadata": {},
   "outputs": [],
   "source": [
    "# Using curly braces\n",
    "fruits = {\"apple\", \"banana\", \"cherry\"}\n",
    "\n",
    "# Using the set() constructor\n",
    "nums = set([1, 2, 3, 4])\n",
    "\n",
    "# Empty set\n",
    "empty = set()     # Not {} — that creates a dictionary!"
   ]
  },
  {
   "cell_type": "markdown",
   "metadata": {},
   "source": [
    "## Key Properties of Sets\n",
    "\n",
    "- Unordered → No guaranteed order of elements\n",
    "- No duplicates → Every element is unique\n",
    "- Mutable → Elements can be added or removed\n",
    "- Unindexed → Cannot access by index like a list"
   ]
  },
  {
   "cell_type": "code",
   "execution_count": null,
   "id": "200f935d",
   "metadata": {},
   "outputs": [],
   "source": [
    "## Iterating Through Sets\n",
    "s = {1, 2, 3}\n",
    "for item in s:\n",
    "    print(item)"
   ]
  },
  {
   "cell_type": "markdown",
   "metadata": {},
   "source": [
    "\n",
    "| Method                             | Description                                                             |\n",
    "| ---------------------------------- | ----------------------------------------------------------------------- |\n",
    "| `add(elem)`                        | Adds a given element to the set                                         |\n",
    "| `clear()`                          | Removes all elements from the set                                       |\n",
    "| `copy()`                           | Returns a shallow copy of the set                                       |\n",
    "| `difference(set)`                  | Returns elements present only in the original set, not in the given one |\n",
    "| `difference_update(set)`           | Removes elements found in another set from the original set             |\n",
    "| `discard(elem)`                    | Removes the element if present (no error if not found)                  |\n",
    "| `frozenset()`                      | Returns an immutable version of a set                                   |\n",
    "| `intersection(set)`                | Returns common elements in all sets                                     |\n",
    "| `intersection_update(set)`         | Updates the set keeping only common elements                            |\n",
    "| `isdisjoint(set)`                  | Returns `True` if sets have no elements in common                       |\n",
    "| `issubset(set)`                    | Returns `True` if all elements of this set exist in another set         |\n",
    "| `issuperset(set)`                  | Returns `True` if all elements of another set exist in this set         |\n",
    "| `pop()`                            | Removes and returns a random element                                    |\n",
    "| `remove(elem)`                     | Removes the element (raises `KeyError` if not found)                    |\n",
    "| `symmetric_difference(set)`        | Returns elements that are in either of the sets but not in both         |\n",
    "| `symmetric_difference_update(set)` | Updates the set with the symmetric difference                           |\n",
    "| `union(set)`                       | Returns all unique elements from all sets                               |\n",
    "| `update(set)`                      | Adds elements from another set                                          |\n"
   ]
  },
  {
   "cell_type": "code",
   "execution_count": null,
   "metadata": {},
   "outputs": [],
   "source": [
    "# 1. add()\n",
    "A.add(10)\n",
    "print(\"After add:\", A)"
   ]
  },
  {
   "cell_type": "code",
   "execution_count": null,
   "metadata": {},
   "outputs": [],
   "source": [
    "# 2. clear()\n",
    "C = {7, 8, 9}\n",
    "C.clear()\n",
    "print(\"After clear:\", C)"
   ]
  },
  {
   "cell_type": "code",
   "execution_count": null,
   "metadata": {},
   "outputs": [],
   "source": [
    "# 3. copy()\n",
    "D = A.copy()\n",
    "print(\"Copy of A:\", D)"
   ]
  },
  {
   "cell_type": "code",
   "execution_count": null,
   "metadata": {},
   "outputs": [],
   "source": [
    "# 4. difference()\n",
    "print(\"A - B:\", A.difference(B))  # Elements in A not in B"
   ]
  },
  {
   "cell_type": "code",
   "execution_count": null,
   "id": "1af22073",
   "metadata": {},
   "outputs": [],
   "source": [
    "# 5. difference_update()\n",
    "E = A.copy()\n",
    "E.difference_update(B)\n",
    "print(\"A after difference_update(B):\", E)"
   ]
  },
  {
   "cell_type": "code",
   "execution_count": null,
   "metadata": {},
   "outputs": [],
   "source": [
    "# 6. discard()\n",
    "A.discard(2)\n",
    "print(\"After discard 2:\", A)\n",
    "A.discard(100)  # No error if not found\n",
    "print(\"After discard 100 (not present):\", A)"
   ]
  },
  {
   "cell_type": "code",
   "execution_count": null,
   "metadata": {},
   "outputs": [],
   "source": [
    "# 7. frozenset()\n",
    "frozen = frozenset({1, 2, 3})\n",
    "print(\"Frozen Set:\", frozen)"
   ]
  },
  {
   "cell_type": "code",
   "execution_count": null,
   "metadata": {},
   "outputs": [],
   "source": [
    "# 8. intersection()\n",
    "print(\"A ∩ B:\", A.intersection(B))"
   ]
  },
  {
   "cell_type": "code",
   "execution_count": null,
   "metadata": {},
   "outputs": [],
   "source": [
    "# 9. intersection_update()\n",
    "F = A.copy()\n",
    "F.intersection_update(B)\n",
    "print(\"A after intersection_update(B):\", F)"
   ]
  },
  {
   "cell_type": "code",
   "execution_count": null,
   "metadata": {},
   "outputs": [],
   "source": [
    "# 10. isdisjoint()\n",
    "print(\"A and B disjoint?\", A.isdisjoint(B))\n",
    "print(\"{10, 20} and B disjoint?\", {10, 20}.isdisjoint(B))"
   ]
  },
  {
   "cell_type": "code",
   "execution_count": null,
   "metadata": {},
   "outputs": [],
   "source": [
    "# 11. issubset()\n",
    "print(\"{3, 4} subset of B?\", {3, 4}.issubset(B))"
   ]
  },
  {
   "cell_type": "code",
   "execution_count": null,
   "id": "e9a83d6b",
   "metadata": {},
   "outputs": [],
   "source": [
    "# 12. issuperset()\n",
    "print(\"B superset of {3, 4}?\", B.issuperset({3, 4}))"
   ]
  },
  {
   "cell_type": "code",
   "execution_count": null,
   "metadata": {},
   "outputs": [],
   "source": [
    "# 13. pop()\n",
    "G = {100, 200, 300}\n",
    "removed = G.pop()\n",
    "print(\"Popped element:\", removed)\n",
    "print(\"After pop:\", G)"
   ]
  },
  {
   "cell_type": "code",
   "execution_count": null,
   "metadata": {},
   "outputs": [],
   "source": [
    "# 14. remove()\n",
    "H = {1, 2, 3}\n",
    "H.remove(2)\n",
    "print(\"After remove 2:\", H)\n",
    "# H.remove(100)  # Uncommenting this raises KeyError"
   ]
  },
  {
   "cell_type": "code",
   "execution_count": null,
   "metadata": {},
   "outputs": [],
   "source": [
    "# 15. symmetric_difference()\n",
    "print(\"A △ B:\", A.symmetric_difference(B))"
   ]
  },
  {
   "cell_type": "code",
   "execution_count": null,
   "id": "569eaa49",
   "metadata": {},
   "outputs": [],
   "source": [
    "# 16. symmetric_difference_update()\n",
    "I = A.copy()\n",
    "I.symmetric_difference_update(B)\n",
    "print(\"After symmetric_difference_update(B):\", I)"
   ]
  },
  {
   "cell_type": "code",
   "execution_count": 1,
   "id": "1dd1e9d6",
   "metadata": {},
   "outputs": [
    {
     "ename": "NameError",
     "evalue": "name 'A' is not defined",
     "output_type": "error",
     "traceback": [
      "\u001b[31m---------------------------------------------------------------------------\u001b[39m",
      "\u001b[31mNameError\u001b[39m                                 Traceback (most recent call last)",
      "\u001b[36mCell\u001b[39m\u001b[36m \u001b[39m\u001b[32mIn[1]\u001b[39m\u001b[32m, line 2\u001b[39m\n\u001b[32m      1\u001b[39m \u001b[38;5;66;03m# 17. union()\u001b[39;00m\n\u001b[32m----> \u001b[39m\u001b[32m2\u001b[39m \u001b[38;5;28mprint\u001b[39m(\u001b[33m\"\u001b[39m\u001b[33mA ∪ B:\u001b[39m\u001b[33m\"\u001b[39m, \u001b[43mA\u001b[49m.union(B))\n",
      "\u001b[31mNameError\u001b[39m: name 'A' is not defined"
     ]
    }
   ],
   "source": [
    "# 17. union()\n",
    "print(\"A ∪ B:\", A.union(B))"
   ]
  },
  {
   "cell_type": "code",
   "execution_count": 2,
   "metadata": {},
   "outputs": [
    {
     "name": "stdout",
     "output_type": "stream",
     "text": [
      "After update: {1, 2, 3, 4}\n"
     ]
    }
   ],
   "source": [
    "# 18. update()\n",
    "J = {1, 2}\n",
    "J.update({3, 4})\n",
    "print(\"After update:\", J)"
   ]
  },
  {
   "cell_type": "code",
   "execution_count": null,
   "id": "7bb8b51e",
   "metadata": {},
   "outputs": [],
   "source": []
  }
 ],
 "metadata": {
  "kernelspec": {
   "display_name": "Python 3",
   "language": "python",
   "name": "python3"
  },
  "language_info": {
   "codemirror_mode": {
    "name": "ipython",
    "version": 3
   },
   "file_extension": ".py",
   "mimetype": "text/x-python",
   "name": "python",
   "nbconvert_exporter": "python",
   "pygments_lexer": "ipython3",
   "version": "3.12.1"
  }
 },
 "nbformat": 4,
 "nbformat_minor": 5
}
