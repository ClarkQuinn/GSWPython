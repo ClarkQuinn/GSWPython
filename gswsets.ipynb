{
 "cells": [
  {
   "cell_type": "markdown",
   "id": "5e0188e9",
   "metadata": {},
   "source": [
    "# 5.0 GSW Sets "
   ]
  },
  {
   "cell_type": "markdown",
   "id": "c4fd820b",
   "metadata": {},
   "source": [
    "A **set** is an **unordered**, **unindexed**, and **mutable** collection of **unique elements**.  \n",
    "It is useful for removing duplicates, performing set theory operations, and fast membership checks."
   ]
  },
  {
   "cell_type": "code",
   "execution_count": null,
   "id": "f5e6bd28",
   "metadata": {},
   "outputs": [],
   "source": [
    "# Using curly braces\n",
    "fruits = {\"apple\", \"banana\", \"cherry\"}\n",
    "\n",
    "# Using the set() constructor\n",
    "nums = set([1, 2, 3, 4])\n",
    "\n",
    "# Empty set\n",
    "empty = set()     # Not {} — that creates a dictionary!"
   ]
  },
  {
   "cell_type": "markdown",
   "metadata": {},
   "source": []
  }
 ],
 "metadata": {
  "kernelspec": {
   "display_name": "Python 3",
   "language": "python",
   "name": "python3"
  },
  "language_info": {
   "name": "python",
   "version": "3.12.1"
  }
 },
 "nbformat": 4,
 "nbformat_minor": 5
}
