{
 "cells": [
  {
   "cell_type": "markdown",
   "metadata": {},
   "source": [
    "# 1.0 Introduction to Python.\n",
    "\n",
    "### Python is...\n",
    "- General Purpose Language\n",
    "- High-Level Language\n",
    "- Interpreted Language\n",
    "- Multi-Paradigm Language ()\n",
    "- Scripting Language\n",
    "\n",
    "\n",
    "### Key Features \n",
    "- **Free**: Open Source Software\n",
    "- **Portable**: Platform-independent Bytecode\n",
    "- **Built-in object types and tools**: \n",
    "- **Readable Syntax**: Designed to be clear and easy to read, making the code more maintainable and understandable.\n",
    "- **Extensive Libraries**: Includes a rich standard library and a vast ecosystem of third-party packages for tasks such as data manipulation, web development, and machine learning.\n",
    "- **Dynamic Typing**: Allows variables to change types dynamically, which adds flexibility to the code.\n",
    "- **Automatic Memory Management**: Handles memory allocation and garbage collection automatically, reducing the risk of memory leaks.\n",
    "- **Cross-Platform Compatibility**: Runs on various operating systems including Windows, macOS, and Linux.\n",
    "- **Interactive Shell**: Provides an interactive mode for testing and experimenting with code snippets quickly.\n"
   ]
  },
  {
   "cell_type": "markdown",
   "metadata": {},
   "source": [
    "To get started with running Python on your machine:\n",
    "\n",
    "## Download Python:\n",
    "\n",
    "**For Linux (Ubuntu 16.10 or higher)**:   \n",
    "`sudo apt-get update`   \n",
    "`sudo apt-get install python3`\n",
    "\n",
    "**For MacOS or Windows:**:   \n",
    "Go to [this download page](https://www.python.org/downloads). \n",
    "Follow the installation as shown on the website.\n"
   ]
  },
  {
   "cell_type": "markdown",
   "metadata": {},
   "source": [
    "## 1.1 Print something\n",
    "- A normal print statement; \n",
    "nothing more or less.\n",
    "- No termination after each statement. \n",
    "Just enter."
   ]
  },
  {
   "cell_type": "code",
   "execution_count": 1,
   "metadata": {},
   "outputs": [
    {
     "name": "stdout",
     "output_type": "stream",
     "text": [
      "Hello World.\n"
     ]
    }
   ],
   "source": [
    "print(\"Hello World.\")"
   ]
  },
  {
   "cell_type": "markdown",
   "metadata": {},
   "source": [
    "> If I had infinite coding skills, what would I build?\n",
    "- An intelligent second brain to keep tabs of everything, so I don't have to\n",
    "- A perfect communal platform to learn everything, for everyone, for free.\n",
    "- A perfect have-it-all second buddy who pushes you and thinks so you don't have to"
   ]
  },
  {
   "cell_type": "markdown",
   "metadata": {},
   "source": [
    "**Running a first python file**   \n",
    "- Save the script using `.py` extension.  \n",
    "- Look at `gswpython.py` for context \n",
    "\n",
    "**Using Notebooks**   \n",
    "- Integrated learning development with LaTeX and Markdown supports.   \n",
    "- With  `.ipynb` extension   \n",
    "- Can be facilitated using Jupyter, Colab or even Visual Studio Code   "
   ]
  },
  {
   "cell_type": "code",
   "execution_count": null,
   "metadata": {},
   "outputs": [
    {
     "name": "stdout",
     "output_type": "stream",
     "text": [
      "Parmar Darshan Amitkumar Twisha Patel Amitkumar\n"
     ]
    }
   ],
   "source": [
    "print(\"Parmar Darshan Amitkumar\", \"Patel Twisha Amitkumar\")"
   ]
  },
  {
   "cell_type": "markdown",
   "metadata": {},
   "source": [
    "**Using `\\n` for line break**"
   ]
  },
  {
   "cell_type": "code",
   "execution_count": 4,
   "metadata": {},
   "outputs": [
    {
     "name": "stdout",
     "output_type": "stream",
     "text": [
      "Parmar Darsshan Amitkumar\n",
      "Patel Twisha Amitkumar\n"
     ]
    }
   ],
   "source": [
    "print(\"Parmar Darsshan Amitkumar\\nPatel Twisha Amitkumar\")"
   ]
  },
  {
   "cell_type": "markdown",
   "metadata": {},
   "source": [
    "**Using `\\t` for tab spaces**"
   ]
  },
  {
   "cell_type": "code",
   "execution_count": 5,
   "metadata": {},
   "outputs": [
    {
     "name": "stdout",
     "output_type": "stream",
     "text": [
      "Patel Twisha\tParmar Darshan\n"
     ]
    }
   ],
   "source": [
    "print(\"Patel Twisha\\tParmar Darshan\")"
   ]
  },
  {
   "cell_type": "markdown",
   "metadata": {},
   "source": [
    "**Using `end` with print**  \n",
    "> By default its ends with newline "
   ]
  },
  {
   "cell_type": "code",
   "execution_count": null,
   "metadata": {},
   "outputs": [
    {
     "name": "stdout",
     "output_type": "stream",
     "text": [
      "Hello world:Python\n",
      "Programming\n"
     ]
    }
   ],
   "source": [
    "print(\"Hello world\", end=\":\")\n",
    "print(\"Python\") #without \"end\" its ends with new line \n",
    "print(\"Programming\") "
   ]
  },
  {
   "cell_type": "markdown",
   "metadata": {},
   "source": [
    "**Using `sep` with print**  (separator) "
   ]
  },
  {
   "cell_type": "code",
   "execution_count": null,
   "metadata": {},
   "outputs": [
    {
     "name": "stdout",
     "output_type": "stream",
     "text": [
      "Parmar Darshan Patel Twisha\n",
      "Parmar Darshan , Patel Twisha\n",
      "Darshan Twisha Orin Orius & Steve\n"
     ]
    }
   ],
   "source": [
    "print(\"Parmar Darshan\", \"Patel Twisha\") # without seprator \n",
    "print(\"Parmar Darshan\", \"Patel Twisha\", sep = \" , \")\n",
    "print(\"Darshan\" , \"Twisha\" , \"Orin Orius\" , \"Steve\" , sep = \" & \")"
   ]
  },
  {
   "cell_type": "markdown",
   "metadata": {},
   "source": [
    "## 1.2 Variables and Data Types\n",
    "\n",
    "- No need to explicitly mention data type.\n",
    "- Directly assign.\n",
    "- Use nothing for float or int\n",
    "- Use single or double quotes for characters and "
   ]
  },
  {
   "cell_type": "code",
   "execution_count": 2,
   "metadata": {},
   "outputs": [],
   "source": [
    "n = 3\n",
    "c = 'c'\n",
    "s = \"Hello\""
   ]
  },
  {
   "cell_type": "markdown",
   "metadata": {},
   "source": [
    "**How to print variables?**\n",
    "- Just put them in print statements!"
   ]
  },
  {
   "cell_type": "code",
   "execution_count": 3,
   "metadata": {},
   "outputs": [
    {
     "name": "stdout",
     "output_type": "stream",
     "text": [
      "3\n",
      "c\n",
      "Hello\n"
     ]
    }
   ],
   "source": [
    "print(n)\n",
    "print(c)\n",
    "print(s)"
   ]
  },
  {
   "cell_type": "markdown",
   "metadata": {},
   "source": [
    "**Input Variables?**   \n",
    "Use input statements   \n",
    "[Notice how the variable has been printed with a comma and by default spacing has been shown.]"
   ]
  },
  {
   "cell_type": "code",
   "execution_count": 4,
   "metadata": {},
   "outputs": [
    {
     "name": "stdout",
     "output_type": "stream",
     "text": [
      "Hello Twiii\n"
     ]
    }
   ],
   "source": [
    "x = input(\"Enter your name\")\n",
    "print(\"Hello\", x)"
   ]
  },
  {
   "cell_type": "markdown",
   "metadata": {},
   "source": [
    "### Data Types: "
   ]
  },
  {
   "cell_type": "markdown",
   "metadata": {},
   "source": [
    "Classification of Data items : \n",
    "\n",
    "1. Numeric : \n",
    "    - Integer \n",
    "    - Float \n",
    "    - Complex \n",
    "2. Sequence Type :\n",
    "    - strings\n",
    "    - List \n",
    "    - Tuple\n",
    "3. Boolean \n",
    "4. Set \n",
    "5. Dictionary  "
   ]
  },
  {
   "cell_type": "markdown",
   "metadata": {},
   "source": [
    "### 1.2.1 Numbers in Python\n",
    "- Integers\n",
    "- Float\n",
    "- Complex Numbers"
   ]
  },
  {
   "cell_type": "code",
   "execution_count": 5,
   "metadata": {},
   "outputs": [
    {
     "name": "stdout",
     "output_type": "stream",
     "text": [
      "4\n",
      "3.5\n"
     ]
    }
   ],
   "source": [
    "integer = 4\n",
    "float = 3.5\n",
    "print(integer)\n",
    "print(float)"
   ]
  },
  {
   "cell_type": "code",
   "execution_count": 1,
   "metadata": {},
   "outputs": [
    {
     "name": "stdout",
     "output_type": "stream",
     "text": [
      "Type of a:  <class 'int'>\n",
      "Type of b:  <class 'int'>\n",
      "Type of c:  <class 'int'>\n"
     ]
    }
   ],
   "source": [
    "a = 5\n",
    "b = -3456\n",
    "c = 0\n",
    "print(\"Type of a: \", type(a))\n",
    "print(\"Type of b: \", type(b))\n",
    "print(\"Type of c: \", type(c))"
   ]
  },
  {
   "cell_type": "code",
   "execution_count": 2,
   "metadata": {},
   "outputs": [
    {
     "name": "stdout",
     "output_type": "stream",
     "text": [
      "Type of a:  <class 'float'>\n",
      "Type of b:  <class 'float'>\n"
     ]
    }
   ],
   "source": [
    "a = 5.0\n",
    "b = -456.54\n",
    "print(\"Type of a: \", type(a))\n",
    "print(\"Type of b: \", type(b))"
   ]
  },
  {
   "cell_type": "code",
   "execution_count": 3,
   "metadata": {},
   "outputs": [
    {
     "name": "stdout",
     "output_type": "stream",
     "text": [
      "Type of a:  <class 'complex'>\n",
      "Type of b:  <class 'complex'>\n"
     ]
    }
   ],
   "source": [
    "a = 2 + 4j\n",
    "b = 3 - 5j \n",
    "print(\"Type of a: \", type(a))\n",
    "print(\"Type of b: \", type(b))"
   ]
  },
  {
   "cell_type": "markdown",
   "metadata": {},
   "source": [
    "### 1.2.2 Strings in Python\n",
    "In Python, a string is a sequence of characters enclosed in quotes.   \n",
    "Strings can be defined using single quotes, double quotes, or triple quotes.  "
   ]
  },
  {
   "cell_type": "code",
   "execution_count": 6,
   "metadata": {},
   "outputs": [],
   "source": [
    "single_quoted_string = 'Hello, World!'\n",
    "double_quoted_string = \"Hello, World!\"\n",
    "triple_quoted_string = \"\"\"Hello,\n",
    "World!\"\"\""
   ]
  },
  {
   "cell_type": "code",
   "execution_count": 4,
   "metadata": {},
   "outputs": [
    {
     "name": "stdout",
     "output_type": "stream",
     "text": [
      "String with the use of Single Quotes:  Geeks\n",
      "String with the use of Double Quotes including single quotes:  I'm a Geek <class 'str'>\n",
      "String with the use of Triple Quotes:  I'm a Geek and I live in a world of \"Geeks\" <class 'str'>\n",
      "Creating a multiline String:  Geeks \n",
      "\t\t\tFor \n",
      "\t\t\tLife\n"
     ]
    }
   ],
   "source": [
    "String1 = 'Geeks'\n",
    "print(\"String with the use of Single Quotes: \", String1)\n",
    "String2 = \"I'm a Geek\"\n",
    "print(\"String with the use of Double Quotes including single quotes: \", String2, type(String2))\n",
    "String3 = '''I'm a Geek and I live in a world of \"Geeks\"'''\n",
    "print(\"String with the use of Triple Quotes: \", String3, type(String3))\n",
    "String4 = '''Geeks \n",
    "\t\t\tFor \n",
    "\t\t\tLife'''\n",
    "print(\"Creating a multiline String: \", String4)"
   ]
  },
  {
   "cell_type": "markdown",
   "metadata": {},
   "source": [
    "Strings are immutable, meaning that once a string is created, it cannot be modified.   \n",
    "However, you can create new strings based on operations performed on existing ones.\n",
    "\n",
    "- **Immutable Strings:** Strings cannot be changed in place. Attempting to modify a specific character in a string will result in an error.\n",
    "- **Creating New Strings:** To \"modify\" a string, you need to create a new string based on the original one with the desired changes."
   ]
  },
  {
   "cell_type": "code",
   "execution_count": 7,
   "metadata": {},
   "outputs": [
    {
     "name": "stdout",
     "output_type": "stream",
     "text": [
      "Error: 'str' object does not support item assignment\n",
      "Modified String: Jython\n"
     ]
    }
   ],
   "source": [
    "# Original string\n",
    "original_string = \"Python\"\n",
    "\n",
    "# Attempt to modify the string (will result in an error)\n",
    "try:\n",
    "    original_string[0] = 'J'\n",
    "except TypeError as e:\n",
    "    print(f\"Error: {e}\")\n",
    "\n",
    "# Create a new string with modification\n",
    "modified_string = 'J' + original_string[1:]\n",
    "print(\"Modified String:\", modified_string)"
   ]
  },
  {
   "cell_type": "markdown",
   "metadata": {},
   "source": [
    "**Substrings**: Parts of strings  \n",
    "string[start: stop: step]\n",
    "- `start`: The index where the slice starts (inclusive).\n",
    "- `end`: The index where the slice ends (exclusive).\n",
    "- `step`: The step size or interval between indices (optional, default is 1).\n"
   ]
  },
  {
   "cell_type": "code",
   "execution_count": 8,
   "metadata": {},
   "outputs": [
    {
     "name": "stdout",
     "output_type": "stream",
     "text": [
      "twisha \n",
      "here\n",
      "saw\n"
     ]
    }
   ],
   "source": [
    "s1 = \"twisha was here.\"\n",
    "print(s1[0:7])\n",
    "print(s1[11:-1])\n",
    "print(s1[9:6:-1])"
   ]
  },
  {
   "cell_type": "markdown",
   "metadata": {},
   "source": [
    "String is an immutable object. Its content cannot be alteted but it can be concatenated."
   ]
  },
  {
   "cell_type": "code",
   "execution_count": 9,
   "metadata": {},
   "outputs": [
    {
     "name": "stdout",
     "output_type": "stream",
     "text": [
      "twixxx@who\n"
     ]
    }
   ],
   "source": [
    "s1 = 'twixxx'\n",
    "s2 = '@who'\n",
    "s1=s1+s2\n",
    "print(s1)"
   ]
  },
  {
   "cell_type": "markdown",
   "metadata": {},
   "source": [
    "#### Common String Methods\n",
    "1. `len()`- Returns the length of the string.\n",
    "2. `str.lower()`- Converts all characters in the string to lowercase.\n",
    "3. `str.upper()`- Converts all characters in the string to uppercase.\n",
    "4. `str.title()`- Capitalizes the first letter of each word in the string.\n",
    "5. `str.strip()`- Removes any leading and trailing whitespace characters.\n",
    "6. `str.replace()`- Replaces a specified substring with another substring.\n",
    "7. `str.split()`- Splits the string into a list of substrings based on a specified delimiter.\n",
    "8. `str.join()`- Joins a list of strings into a single string with a specified separator.\n",
    "9. `str.find()`- Returns the lowest index where a specified substring is found. Returns -1 if the substring is not found.\n",
    "10. `str.startswith()`- Checks if the string starts with a specified prefix.\n",
    "11. `str.endswith()`- Checks if the string ends with a specified suffix."
   ]
  },
  {
   "cell_type": "code",
   "execution_count": 10,
   "metadata": {},
   "outputs": [
    {
     "name": "stdout",
     "output_type": "stream",
     "text": [
      "Length of string: 18\n",
      "Lowercase: python programming\n",
      "Uppercase: PYTHON PROGRAMMING\n",
      "Title Case: Python Programming\n",
      "Stripped: Python\n",
      "Replaced: Python is awesome\n",
      "Split: ['Python', 'Java', 'C++']\n",
      "Joined: Python, Java, C++\n",
      "Find 'programming': 7\n",
      "Starts with 'Python': True\n",
      "Ends with 'programming': True\n"
     ]
    }
   ],
   "source": [
    "# 1. len()\n",
    "s = \"Python Programming\"\n",
    "length = len(s)\n",
    "print(\"Length of string:\", length)\n",
    "\n",
    "# 2. str.lower()\n",
    "s = \"Python Programming\"\n",
    "lowercase_s = s.lower()\n",
    "print(\"Lowercase:\", lowercase_s)\n",
    "\n",
    "# 3. str.upper()\n",
    "s = \"Python Programming\"\n",
    "uppercase_s = s.upper()\n",
    "print(\"Uppercase:\", uppercase_s)\n",
    "\n",
    "# 4. str.title()\n",
    "s = \"python programming\"\n",
    "title_s = s.title()\n",
    "print(\"Title Case:\", title_s)\n",
    "\n",
    "# 5. str.strip()\n",
    "s = \"   Python   \"\n",
    "stripped_s = s.strip()\n",
    "print(\"Stripped:\", stripped_s)\n",
    "\n",
    "# 6. str.replace()\n",
    "s = \"Python is fun\"\n",
    "replaced_s = s.replace(\"fun\", \"awesome\")\n",
    "print(\"Replaced:\", replaced_s)\n",
    "\n",
    "# 7. str.split()\n",
    "s = \"Python,Java,C++\"\n",
    "split_s = s.split(\",\")\n",
    "print(\"Split:\", split_s)\n",
    "\n",
    "# 8. str.join()\n",
    "words = [\"Python\", \"Java\", \"C++\"]\n",
    "joined_s = \", \".join(words)\n",
    "print(\"Joined:\", joined_s)\n",
    "\n",
    "# 9. str.find()\n",
    "s = \"Python programming\"\n",
    "index = s.find(\"programming\")\n",
    "print(\"Find 'programming':\", index)\n",
    "\n",
    "# 10. str.startswith() \n",
    "s = \"Python programming\"\n",
    "starts_with_python = s.startswith(\"Python\")\n",
    "print(\"Starts with 'Python':\", starts_with_python)\n",
    "\n",
    "# 11. str.endswith() \n",
    "s = \"Python programming\"\n",
    "ends_with_programming = s.endswith(\"programming\")\n",
    "print(\"Ends with 'programming':\", ends_with_programming)"
   ]
  },
  {
   "cell_type": "markdown",
   "metadata": {},
   "source": [
    "#### f-strings in python and format method\n",
    "f-strings can be used in python when a string needs value of external variable. \n",
    "\n",
    "Curly brace {..} are used to specify\n",
    "f-strings: `f\"string {expression}\"`\n"
   ]
  },
  {
   "cell_type": "code",
   "execution_count": 11,
   "metadata": {},
   "outputs": [
    {
     "name": "stdout",
     "output_type": "stream",
     "text": [
      "My name is Twisha and I am 20 years old.\n"
     ]
    }
   ],
   "source": [
    "name = \"Twisha\"\n",
    "age = 20\n",
    "print(f\"My name is {name} and I am {age} years old.\")"
   ]
  },
  {
   "cell_type": "markdown",
   "metadata": {},
   "source": [
    "You can also align text or numbers with `:<`, `:>`, or `:^` for left, right, or center alignment"
   ]
  },
  {
   "cell_type": "code",
   "execution_count": 12,
   "metadata": {},
   "outputs": [
    {
     "name": "stdout",
     "output_type": "stream",
     "text": [
      "Apple        Banana       Cherry\n"
     ]
    }
   ],
   "source": [
    "print(f\"{'Apple':<10} {'Banana':^10} {'Cherry':>10}\")"
   ]
  },
  {
   "cell_type": "markdown",
   "metadata": {},
   "source": [
    "The `format` method has the same use, as it takes inputs and gives a formatted string from an f-string. It allows you to insert values into placeholders {} in the string.  \n",
    "`\"string {}\".format(value)`"
   ]
  },
  {
   "cell_type": "code",
   "execution_count": 13,
   "metadata": {},
   "outputs": [
    {
     "name": "stdout",
     "output_type": "stream",
     "text": [
      "Name? Twisha\n",
      "Twisha, hellow!\n"
     ]
    }
   ],
   "source": [
    "string = input(\"Name?\")\n",
    "print(\"Name?\", string)\n",
    "s='{}, hellow!'\n",
    "print(s.format(string))"
   ]
  },
  {
   "cell_type": "markdown",
   "metadata": {},
   "source": [
    "Can use multiple braces"
   ]
  },
  {
   "cell_type": "code",
   "execution_count": 1,
   "metadata": {},
   "outputs": [
    {
     "name": "stdout",
     "output_type": "stream",
     "text": [
      "Darshan, I am Notes\n"
     ]
    }
   ],
   "source": [
    "s2=\"{}, I am {}\"\n",
    "s3=s2.format('Darshan', 'Notes')\n",
    "print(s3)"
   ]
  },
  {
   "cell_type": "markdown",
   "metadata": {},
   "source": [
    "Can also index them."
   ]
  },
  {
   "cell_type": "code",
   "execution_count": 15,
   "metadata": {},
   "outputs": [
    {
     "name": "stdout",
     "output_type": "stream",
     "text": [
      "Twisha, I am Notes\n"
     ]
    }
   ],
   "source": [
    "s2=\"{0}, I am {1}\"\n",
    "s3=s2.format('Twisha', 'Notes')\n",
    "print(s3)"
   ]
  },
  {
   "cell_type": "markdown",
   "metadata": {},
   "source": [
    "We can also use aliases."
   ]
  },
  {
   "cell_type": "code",
   "execution_count": 16,
   "metadata": {},
   "outputs": [
    {
     "name": "stdout",
     "output_type": "stream",
     "text": [
      "Twisha Patel\n"
     ]
    }
   ],
   "source": [
    "s2= \"{first} {last}\"\n",
    "s3= s2.format(first=\"Twisha\", last=\"Patel\")\n",
    "print(s3)"
   ]
  },
  {
   "cell_type": "markdown",
   "metadata": {},
   "source": [
    "### 1.2.3 Boolean values in Python\n",
    "Boolean values represent one of two possible states: `True` or `False`. They are used to perform logical operations and make decisions in Python programs.\n",
    "\n",
    "- **Boolean Type:** The boolean type in Python is `bool`, which has two values: `True` and `False`.\n",
    "- **Boolean Expressions:** Boolean values often result from comparisons and logical operations.    "
   ]
  },
  {
   "cell_type": "code",
   "execution_count": 17,
   "metadata": {},
   "outputs": [
    {
     "name": "stdout",
     "output_type": "stream",
     "text": [
      "Is Python? True\n",
      "Is Java? False\n"
     ]
    }
   ],
   "source": [
    "# Assigning boolean values\n",
    "is_python = True\n",
    "is_java = False\n",
    "\n",
    "print(\"Is Python?\", is_python)\n",
    "print(\"Is Java?\", is_java)"
   ]
  },
  {
   "cell_type": "markdown",
   "metadata": {},
   "source": [
    "### 1.2.4 Type Conversion"
   ]
  },
  {
   "cell_type": "markdown",
   "metadata": {},
   "source": [
    "There are basically two types of Type conversion in python:\n",
    "\n",
    "- Implicit Typecasting\n",
    "- Explicit typecasting\n"
   ]
  },
  {
   "cell_type": "markdown",
   "metadata": {},
   "source": [
    "**Implicit Typecasting**"
   ]
  },
  {
   "cell_type": "markdown",
   "metadata": {},
   "source": [
    "1. Integer and float"
   ]
  },
  {
   "cell_type": "code",
   "execution_count": 1,
   "metadata": {},
   "outputs": [
    {
     "name": "stdout",
     "output_type": "stream",
     "text": [
      "8.14\n"
     ]
    }
   ],
   "source": [
    "# Implicit typecasting from int to float\n",
    "integer_number = 5\n",
    "float_number = 3.14\n",
    "result = integer_number + float_number\n",
    "print(result)\n",
    "# The integer is implicitly converted to a float before the addition."
   ]
  },
  {
   "cell_type": "markdown",
   "metadata": {},
   "source": [
    "2. Integer and String"
   ]
  },
  {
   "cell_type": "code",
   "execution_count": 4,
   "metadata": {},
   "outputs": [
    {
     "name": "stdout",
     "output_type": "stream",
     "text": [
      "Error: unsupported operand type(s) for +: 'int' and 'str'\n"
     ]
    }
   ],
   "source": [
    "# Implicit typecasting from int to string\n",
    "integer_number = 10\n",
    "string_number = \"5\"\n",
    "try:\n",
    "    result = integer_number + string_number\n",
    "    print(result) \n",
    "except TypeError as e:\n",
    "    print(f\"Error: {e}\")\n",
    "\n",
    " # Output: TypeError (unsupported operand type(s) for +)"
   ]
  },
  {
   "cell_type": "markdown",
   "metadata": {},
   "source": [
    "**Explicit Typecasting**"
   ]
  },
  {
   "cell_type": "markdown",
   "metadata": {},
   "source": [
    "1. integer to Other Types"
   ]
  },
  {
   "cell_type": "code",
   "execution_count": 6,
   "metadata": {},
   "outputs": [
    {
     "name": "stdout",
     "output_type": "stream",
     "text": [
      "3.0\n"
     ]
    }
   ],
   "source": [
    "# int to float\n",
    "x = 3\n",
    "y = float(x)\n",
    "print(y)"
   ]
  },
  {
   "cell_type": "code",
   "execution_count": 7,
   "metadata": {},
   "outputs": [
    {
     "name": "stdout",
     "output_type": "stream",
     "text": [
      "True\n",
      "False\n"
     ]
    }
   ],
   "source": [
    "# int to bool\n",
    "x = 1\n",
    "y = bool(x)\n",
    "print(y)  \n",
    "\n",
    "x = 0\n",
    "y = bool(x)\n",
    "print(y)"
   ]
  },
  {
   "cell_type": "code",
   "execution_count": 8,
   "metadata": {},
   "outputs": [
    {
     "name": "stdout",
     "output_type": "stream",
     "text": [
      "10\n"
     ]
    }
   ],
   "source": [
    "# int to str\n",
    "x = 10\n",
    "y = str(x)\n",
    "print(y)"
   ]
  },
  {
   "cell_type": "markdown",
   "metadata": {},
   "source": [
    "2.  Float to Other Types"
   ]
  },
  {
   "cell_type": "code",
   "execution_count": 9,
   "metadata": {},
   "outputs": [
    {
     "name": "stdout",
     "output_type": "stream",
     "text": [
      "3\n"
     ]
    }
   ],
   "source": [
    "# float to int \n",
    "x = 3.14\n",
    "y = int(x)\n",
    "print(y)"
   ]
  },
  {
   "cell_type": "code",
   "execution_count": 10,
   "metadata": {},
   "outputs": [
    {
     "name": "stdout",
     "output_type": "stream",
     "text": [
      "True\n",
      "False\n"
     ]
    }
   ],
   "source": [
    "# float to bool\n",
    "x = 1.23\n",
    "y = bool(x)\n",
    "print(y) \n",
    "\n",
    "x = 0.0\n",
    "y = bool(x)\n",
    "print(y)"
   ]
  },
  {
   "cell_type": "code",
   "execution_count": 12,
   "metadata": {},
   "outputs": [
    {
     "name": "stdout",
     "output_type": "stream",
     "text": [
      "3.14\n"
     ]
    }
   ],
   "source": [
    "# float to str\n",
    "x = 3.14\n",
    "y = str(x)\n",
    "print(y)"
   ]
  },
  {
   "cell_type": "markdown",
   "metadata": {},
   "source": [
    "3. String to Other Types"
   ]
  },
  {
   "cell_type": "code",
   "execution_count": null,
   "metadata": {},
   "outputs": [
    {
     "name": "stdout",
     "output_type": "stream",
     "text": [
      "10\n"
     ]
    }
   ],
   "source": [
    "# str to int\n",
    "x = \"10\"\n",
    "y = int(x)\n",
    "print(y)"
   ]
  },
  {
   "cell_type": "code",
   "execution_count": null,
   "metadata": {},
   "outputs": [
    {
     "name": "stdout",
     "output_type": "stream",
     "text": [
      "Error: invalid literal for int() with base 10: 'abc'\n"
     ]
    }
   ],
   "source": [
    "# non-numeric characters\n",
    "try: \n",
    "    x = \"abc\"\n",
    "    y = int(x)  # Will raise ValueError\n",
    "except ValueError as e:\n",
    "    print(f\"Error: {e}\")\n"
   ]
  },
  {
   "cell_type": "code",
   "execution_count": null,
   "metadata": {},
   "outputs": [
    {
     "name": "stdout",
     "output_type": "stream",
     "text": [
      "3.14\n"
     ]
    }
   ],
   "source": [
    "# str to float\n",
    "\n",
    "x = \"3.14\"\n",
    "y = float(x)\n",
    "print(y)  # Output: 3.14"
   ]
  },
  {
   "cell_type": "code",
   "execution_count": 20,
   "metadata": {},
   "outputs": [
    {
     "name": "stdout",
     "output_type": "stream",
     "text": [
      "Error: invalid literal for int() with base 10: '3.14'\n"
     ]
    }
   ],
   "source": [
    "# str to int that has a floating point\n",
    "x = \"3.14\"\n",
    "try: \n",
    "    y=int(x)\n",
    "    print(y)\n",
    "except ValueError as e:\n",
    "    print(f\"Error: {e}\")"
   ]
  },
  {
   "cell_type": "code",
   "execution_count": 21,
   "metadata": {},
   "outputs": [
    {
     "name": "stdout",
     "output_type": "stream",
     "text": [
      "3.14 3\n"
     ]
    }
   ],
   "source": [
    "x = \"3.14\"\n",
    "y = float(x)\n",
    "z = int(y)\n",
    "print(y,z)"
   ]
  },
  {
   "cell_type": "code",
   "execution_count": 19,
   "metadata": {},
   "outputs": [
    {
     "name": "stdout",
     "output_type": "stream",
     "text": [
      "True\n",
      "False\n"
     ]
    }
   ],
   "source": [
    "# str to bool\n",
    "\n",
    "x = \"True\"\n",
    "y = bool(x)\n",
    "print(y)  \n",
    "\n",
    "x = \"\"\n",
    "y = bool(x)\n",
    "print(y)"
   ]
  },
  {
   "cell_type": "markdown",
   "metadata": {},
   "source": [
    "4. Boolean to Other Types"
   ]
  },
  {
   "cell_type": "code",
   "execution_count": 22,
   "metadata": {},
   "outputs": [
    {
     "name": "stdout",
     "output_type": "stream",
     "text": [
      "1.0\n",
      "0.0\n"
     ]
    }
   ],
   "source": [
    "# bool to float\n",
    "\n",
    "x = True\n",
    "y = float(x)\n",
    "print(y)  \n",
    "\n",
    "x = False\n",
    "y = float(x)\n",
    "print(y)"
   ]
  },
  {
   "cell_type": "code",
   "execution_count": 23,
   "metadata": {},
   "outputs": [
    {
     "name": "stdout",
     "output_type": "stream",
     "text": [
      "True\n",
      "False\n"
     ]
    }
   ],
   "source": [
    "# bool to str\n",
    "\n",
    "x = True\n",
    "y = str(x)\n",
    "print(y)  \n",
    "\n",
    "x = False\n",
    "y = str(x)\n",
    "print(y)"
   ]
  },
  {
   "cell_type": "code",
   "execution_count": 24,
   "metadata": {},
   "outputs": [
    {
     "name": "stdout",
     "output_type": "stream",
     "text": [
      "1\n",
      "0\n"
     ]
    }
   ],
   "source": [
    "# bool to int\n",
    "x = True\n",
    "y = int(x)\n",
    "print(y) \n",
    "\n",
    "x = False\n",
    "y = int(x)\n",
    "print(y)"
   ]
  },
  {
   "cell_type": "markdown",
   "metadata": {},
   "source": [
    "## 1.3 Operators in Python\n",
    "\n",
    "Operators in Python are special symbols that perform operations on variables and values. They can be categorized into several types, including arithmetic, comparison, logical, assignment, bitwise, identity, membership, and more.\n",
    "\n",
    "### 1.3.1 Arithmetic Operators\n",
    "\n",
    "Arithmetic operators are used to perform mathematical operations:\n",
    "\n",
    "- `+` : Addition\n",
    "- `-` : Subtraction\n",
    "- `*` : Multiplication\n",
    "- `/` : Division\n",
    "- `%` : Modulus (remainder)\n",
    "- `**` : Exponentiation\n",
    "- `//` : Floor Division (integer division)\n",
    "\n",
    "Look at the output below and speculate which type of numbers do each of these operators return"
   ]
  },
  {
   "cell_type": "code",
   "execution_count": 18,
   "metadata": {},
   "outputs": [
    {
     "name": "stdout",
     "output_type": "stream",
     "text": [
      "With integers: 10 5\n",
      "Addition: 15\n",
      "Subtraction: 5\n",
      "Multiplication: 50\n",
      "Division: 2.0\n",
      "Modulus: 0\n",
      "Exponentiation: 100000\n",
      "Floor Division: 2\n",
      "\n",
      "With floats:  10 2.3\n",
      "Addition: 12.3\n",
      "Subtraction: 7.7\n",
      "Multiplication: 23.0\n",
      "Division: 4.347826086956522\n",
      "Exponentiation: 199.52623149688787\n",
      "Floor Division: 4.0\n"
     ]
    }
   ],
   "source": [
    "a = 10\n",
    "b = 5\n",
    "print(\"With integers:\", a, b) \n",
    "print(\"Addition:\", a + b)        \n",
    "print(\"Subtraction:\", a - b)     \n",
    "print(\"Multiplication:\", a * b)   \n",
    "print(\"Division:\", a / b)         \n",
    "print(\"Modulus:\", a % b)          \n",
    "print(\"Exponentiation:\", a ** b)  \n",
    "print(\"Floor Division:\", a // b)  \n",
    "\n",
    "print()\n",
    "\n",
    "a = 10\n",
    "b = 2.3\n",
    "print(\"With floats: \", a, b) \n",
    "print(\"Addition:\", a + b)\n",
    "print(\"Subtraction:\", a - b)     \n",
    "print(\"Multiplication:\", a * b)   \n",
    "print(\"Division:\", a / b)               \n",
    "print(\"Exponentiation:\", a ** b)  \n",
    "print(\"Floor Division:\", a // b)  "
   ]
  },
  {
   "cell_type": "markdown",
   "metadata": {},
   "source": [
    "### 1.3.2 Comparison Operators\n",
    "\n",
    "Comparison operators are used to compare values:\n",
    "\n",
    "- `==` : Equal to\n",
    "- `!=` : Not equal to\n",
    "- `>`: Greater than\n",
    "- `<` : Less than\n",
    "- `>=` : Greater than or equal to\n",
    "- `<=`: Less than or equal to\n",
    "\n",
    "These return boolean values, refer to later "
   ]
  },
  {
   "cell_type": "code",
   "execution_count": 19,
   "metadata": {},
   "outputs": [
    {
     "name": "stdout",
     "output_type": "stream",
     "text": [
      "Equal to: False\n",
      "Not equal to: True\n",
      "Greater than: False\n",
      "Less than: True\n",
      "Greater than or equal to: False\n",
      "Less than or equal to: True\n"
     ]
    }
   ],
   "source": [
    "x = 5\n",
    "y = 10\n",
    "\n",
    "print(\"Equal to:\", x == y)       \n",
    "print(\"Not equal to:\", x != y)    \n",
    "print(\"Greater than:\", x > y)    \n",
    "print(\"Less than:\", x < y)       \n",
    "print(\"Greater than or equal to:\", x >= y)\n",
    "print(\"Less than or equal to:\", x <= y)    "
   ]
  },
  {
   "cell_type": "markdown",
   "metadata": {},
   "source": [
    "### 1.3.3 Logical Operators\n",
    "\n",
    "Logical operators are used to combine conditional statements:\n",
    "\n",
    "- `and` : Logical AND\n",
    "- `or` : Logical OR\n",
    "- `not` : Logical NOT"
   ]
  },
  {
   "cell_type": "code",
   "execution_count": 20,
   "metadata": {},
   "outputs": [
    {
     "name": "stdout",
     "output_type": "stream",
     "text": [
      "Logical AND: False\n",
      "Logical OR: True\n",
      "Logical NOT: False\n"
     ]
    }
   ],
   "source": [
    "a = True\n",
    "b = False\n",
    "\n",
    "print(\"Logical AND:\", a and b)   \n",
    "print(\"Logical OR:\", a or b)    \n",
    "print(\"Logical NOT:\", not a)  "
   ]
  },
  {
   "cell_type": "markdown",
   "metadata": {},
   "source": [
    "### 1.3.4 Assignment Operators\n",
    "\n",
    "Assignment operators are used to assign values to variables:\n",
    "\n",
    "- `=` : Assignment\n",
    "\n",
    "Short-hand Operators:   \n",
    "- `+=` : Add and assign\n",
    "- `-=` : Subtract and assign\n",
    "- `*=` : Multiply and assign\n",
    "- `/=` : Divide and assign\n",
    "- `%=` : Modulus and assign\n",
    "- `**=` : Exponentiation and assign\n",
    "- `//=` : Floor Division and assign"
   ]
  },
  {
   "cell_type": "code",
   "execution_count": 21,
   "metadata": {},
   "outputs": [
    {
     "name": "stdout",
     "output_type": "stream",
     "text": [
      "Add and Assign: 8\n",
      "Subtract and Assign: 6\n",
      "Multiply and Assign: 24\n",
      "Divide and Assign: 4.0\n",
      "Modulus and Assign: 1.0\n"
     ]
    }
   ],
   "source": [
    "c = 5\n",
    "\n",
    "c += 3   \n",
    "print(\"Add and Assign:\", c) \n",
    "\n",
    "c -= 2  \n",
    "print(\"Subtract and Assign:\", c)  \n",
    "c *= 4  \n",
    "print(\"Multiply and Assign:\", c)  \n",
    "\n",
    "c /= 6  \n",
    "print(\"Divide and Assign:\", c)    \n",
    "\n",
    "c %= 3   \n",
    "print(\"Modulus and Assign:\", c)  "
   ]
  },
  {
   "cell_type": "markdown",
   "metadata": {},
   "source": [
    "###  Multiple Assignments\n",
    "Multiple assignment allows you to assign values to multiple variables in a single line. It simplifies code and can be useful for initializing several variables simultaneously.\n",
    "\n",
    "**Basic Multiple Assignment**"
   ]
  },
  {
   "cell_type": "code",
   "execution_count": 22,
   "metadata": {},
   "outputs": [
    {
     "name": "stdout",
     "output_type": "stream",
     "text": [
      "1 2 3\n"
     ]
    }
   ],
   "source": [
    "a, b, c = 1, 2, 3\n",
    "print(a, b ,c)"
   ]
  },
  {
   "cell_type": "markdown",
   "metadata": {},
   "source": [
    "**Swapping becomes easier using multiple assignments**:     \n",
    "```a , b = b , a```\n",
    "And it won't throw an exception"
   ]
  },
  {
   "cell_type": "code",
   "execution_count": 23,
   "metadata": {},
   "outputs": [
    {
     "name": "stdout",
     "output_type": "stream",
     "text": [
      "Original: 10 5\n",
      "Swapped: 5 10\n"
     ]
    }
   ],
   "source": [
    "a = 10\n",
    "b = 5\n",
    "print(\"Original:\",a, b)\n",
    "a , b = b , a\n",
    "print(\"Swapped:\", a, b)"
   ]
  },
  {
   "cell_type": "markdown",
   "metadata": {},
   "source": [
    "### 1.3.5 Bitwise Operators\n",
    "\n",
    "Bitwise operators perform operations on binary representations of integers:\n",
    "\n",
    "- `&` : Bitwise AND\n",
    "- `|` : Bitwise OR\n",
    "- `^` : Bitwise XOR\n",
    "- `~` : Bitwise NOT\n",
    "- `<<` : Left Shift\n",
    "- `>>` : Right Shift"
   ]
  },
  {
   "cell_type": "code",
   "execution_count": 24,
   "metadata": {},
   "outputs": [
    {
     "name": "stdout",
     "output_type": "stream",
     "text": [
      "Bitwise AND: 0\n",
      "Bitwise OR: 14\n",
      "Bitwise XOR: 14\n",
      "Bitwise NOT: -11\n",
      "Left Shift: 40\n",
      "Right Shift: 2\n"
     ]
    }
   ],
   "source": [
    "x = 10  # 1010\n",
    "y = 4   # 0100 \n",
    "\n",
    "print(\"Bitwise AND:\", x & y)  # Output: 0 (0000 in binary)\n",
    "print(\"Bitwise OR:\", x | y)   # Output: 14 (1110 in binary)\n",
    "print(\"Bitwise XOR:\", x ^ y)  # Output: 14 (1110 in binary)\n",
    "print(\"Bitwise NOT:\", ~x)     # Output: -11 (inverts all bits)\n",
    "print(\"Left Shift:\", x << 2)  # Output: 40 (101000 in binary)\n",
    "print(\"Right Shift:\", x >> 2) # Output: 2 (0010 in binary)"
   ]
  },
  {
   "cell_type": "markdown",
   "metadata": {},
   "source": [
    "### 1.3.6 Membership Operators\n",
    "\n",
    "Membership operators test if a value is in a sequence:\n",
    "\n",
    "- `in` : Checks if a value exists within a sequence.\n",
    "- `not in` : Checks if a value does not exist within a sequence.\n",
    "\n",
    "Refer to 3.3.3 Lists for a detailed understanding"
   ]
  },
  {
   "cell_type": "code",
   "execution_count": 25,
   "metadata": {},
   "outputs": [
    {
     "name": "stdout",
     "output_type": "stream",
     "text": [
      "True\n",
      "True\n"
     ]
    }
   ],
   "source": [
    "fruits = ['apple', 'banana', 'cherry']\n",
    "\n",
    "print('apple' in fruits)    \n",
    "print('grape' not in fruits)"
   ]
  },
  {
   "cell_type": "markdown",
   "metadata": {},
   "source": [
    "### 1.3.7 Identity Operators\n",
    "\n",
    "Identity operators compare the memory locations of two objects:\n",
    "\n",
    "- `is` : Checks if two variables point to the same object.\n",
    "- `is not` : Checks if two variables point to different objects.\n"
   ]
  },
  {
   "cell_type": "code",
   "execution_count": 26,
   "metadata": {},
   "outputs": [
    {
     "name": "stdout",
     "output_type": "stream",
     "text": [
      "True\n",
      "False\n",
      "True\n",
      "False\n"
     ]
    }
   ],
   "source": [
    "a = [1, 2, 3]\n",
    "b = [1, 2, 3]\n",
    "c = a\n",
    "\n",
    "print(a is c)        \n",
    "print(a is b)       \n",
    "print(a is not b)    \n",
    "print(a is not c)   "
   ]
  },
  {
   "cell_type": "markdown",
   "metadata": {},
   "source": [
    "### 1.3.8 Conditional Expressions (Ternary Operator)\n",
    "\n",
    "The conditional expression (ternary operator) allows compact if-else statements:\n",
    "\n",
    "- `x if condition else y` : Returns `x` if the condition is `True`, otherwise returns `y`.\n"
   ]
  },
  {
   "cell_type": "code",
   "execution_count": 27,
   "metadata": {},
   "outputs": [
    {
     "name": "stdout",
     "output_type": "stream",
     "text": [
      "Adult\n"
     ]
    }
   ],
   "source": [
    "\n",
    "age = 18\n",
    "status = \"Adult\" if age >= 18 else \"Minor\"\n",
    "print(status) "
   ]
  },
  {
   "cell_type": "markdown",
   "metadata": {},
   "source": [
    "### 1.3.9 Lambda Expressions\n",
    "\n",
    "Lambda expressions create anonymous functions:\n",
    "\n",
    "- `lambda arguments: expression` : Creates a small anonymous function.\n"
   ]
  },
  {
   "cell_type": "code",
   "execution_count": 28,
   "metadata": {},
   "outputs": [
    {
     "name": "stdout",
     "output_type": "stream",
     "text": [
      "8\n",
      "[1, 4, 9, 16]\n"
     ]
    }
   ],
   "source": [
    "add = lambda x, y: x + y\n",
    "print(add(5, 3))  \n",
    "\n",
    "numbers = [1, 2, 3, 4]\n",
    "squared = list(map(lambda x: x ** 2, numbers))\n",
    "print(squared) "
   ]
  },
  {
   "cell_type": "markdown",
   "metadata": {},
   "source": [
    "## 1.4 Control Statements\n",
    "\n",
    "Control statements in Python allow you to control the flow of your program. These statements are essential for implementing logic, making decisions, and executing code repeatedly. Python has several control statements, including conditional statements, loops, and control flow modifiers like `break`, `continue`, and `pass`."
   ]
  },
  {
   "cell_type": "markdown",
   "metadata": {},
   "source": [
    "## Indentation \n",
    "- It refers to spaces that are used in the beginning of a block of statement.\n",
    "- By default Python uses 4 spaces. \n",
    "- The statements with same indentation belong to same group called a suite"
   ]
  },
  {
   "cell_type": "code",
   "execution_count": null,
   "metadata": {},
   "outputs": [],
   "source": [
    "if 10 > 5:\n",
    "    print(\"This is true!\")\n",
    "    print(\"I am tab indentation\")\n",
    "\n",
    "print(\"I have no indentation\")"
   ]
  },
  {
   "cell_type": "markdown",
   "metadata": {},
   "source": [
    "## 1.4.1  Conditional Statements\n",
    "\n",
    "### if Statement\n",
    "**Conditional test**: An expression that has a boolean value, using comparison and/or logical operators.   \n",
    "The `if` statement is used to test a specific condition. If the condition evaluates to `True`, the block of code under the `if` statement is executed.\n",
    "\n",
    "```\n",
    "if (True):    \n",
    "    #this will be executed    \n",
    "if (False):    \n",
    "    #this will not be executed\n",
    "```  "
   ]
  },
  {
   "cell_type": "code",
   "execution_count": 29,
   "metadata": {},
   "outputs": [
    {
     "name": "stdout",
     "output_type": "stream",
     "text": [
      "10 is not greater than 15\n"
     ]
    }
   ],
   "source": [
    "x = 10\n",
    "if x < 15:\n",
    "    print(x,\"is not greater than 15\")\n",
    "\n",
    "x = 20\n",
    "if x < 15:\n",
    "    print(x,\"is not greater than 15\")"
   ]
  },
  {
   "cell_type": "markdown",
   "metadata": {},
   "source": [
    "### if...else blocks\n",
    "The ``if-else`` statement allows you to execute one block of code if the condition is ``True`` and another block if the condition is ``False``."
   ]
  },
  {
   "cell_type": "markdown",
   "metadata": {},
   "source": [
    "```\n",
    "if (condition):    \n",
    "    # code to execute if condition is True    \n",
    "else:    \n",
    "    # code to execute if condition is False\n",
    "```"
   ]
  },
  {
   "cell_type": "code",
   "execution_count": 30,
   "metadata": {},
   "outputs": [
    {
     "name": "stdout",
     "output_type": "stream",
     "text": [
      "10 is not greater than 15\n"
     ]
    }
   ],
   "source": [
    "x = 10\n",
    "if x > 15:\n",
    "    print(x,\"is not greater than 15\")\n",
    "else:\n",
    "    print(x,\"is not greater than 15\")"
   ]
  },
  {
   "cell_type": "markdown",
   "metadata": {},
   "source": [
    "A code can have as many if statements as desired. However, else cannot go single-handedly, if-else must be a pair."
   ]
  },
  {
   "cell_type": "markdown",
   "metadata": {},
   "source": [
    "**Nested If**"
   ]
  },
  {
   "cell_type": "code",
   "execution_count": 4,
   "metadata": {},
   "outputs": [
    {
     "name": "stdout",
     "output_type": "stream",
     "text": [
      "x is less than 15\n",
      "x is between 5 and 15\n"
     ]
    }
   ],
   "source": [
    "# using nested if\n",
    "x = 10\n",
    "if x < 15:\n",
    "    print(\"x is less than 15\")\n",
    "    if x < 5:\n",
    "        print(\"x is also less than 5\")\n",
    "    else:\n",
    "        print(\"x is between 5 and 15\")"
   ]
  },
  {
   "cell_type": "code",
   "execution_count": null,
   "metadata": {},
   "outputs": [],
   "source": [
    "year = int(input(\"Enter a year: \"))\n",
    "\n",
    "# Check if it's a leap year\n",
    "if year % 4 == 0:\n",
    "    if year % 100 != 0:\n",
    "        print(f\"{year} is a leap year.\")\n",
    "    else:\n",
    "        if year % 400 == 0:\n",
    "            print(f\"{year} is a leap year.\")\n",
    "        else:\n",
    "            print(f\"{year} is not a leap year.\")\n",
    "else:\n",
    "    print(f\"{year} is not a leap year.\")"
   ]
  },
  {
   "cell_type": "markdown",
   "metadata": {},
   "source": [
    "**Using Logical Operators**"
   ]
  },
  {
   "cell_type": "code",
   "execution_count": null,
   "metadata": {},
   "outputs": [
    {
     "name": "stdout",
     "output_type": "stream",
     "text": [
      "Both conditions are true\n",
      "At least one condition is true\n",
      "x is not greater than 15\n",
      "x is between 5 and 15\n",
      "x is less than 15\n",
      "x is between 5 and 15\n"
     ]
    }
   ],
   "source": [
    "# using and \n",
    "x = 10\n",
    "y = 20\n",
    "if x < 15 and y > 15:\n",
    "    print(\"Both conditions are true\")\n",
    "# using or\n",
    "x = 10\n",
    "y = 20\n",
    "if x < 15 or y > 25:\n",
    "    print(\"At least one condition is true\")\n",
    "# using not\n",
    "x = 10\n",
    "if not x > 15:\n",
    "    print(\"x is not greater than 15\")\n",
    "# using if-elif-else        \n",
    "x = 10\n",
    "if x < 5:\n",
    "    print(\"x is less than 5\")\n",
    "elif x < 15:\n",
    "    print(\"x is between 5 and 15\")\n",
    "else:       \n",
    "    print(\"x is greater than or equal to 15\")\n",
    "\n"
   ]
  },
  {
   "cell_type": "code",
   "execution_count": null,
   "metadata": {},
   "outputs": [],
   "source": [
    "year = int(input(\"Enter a year: \"))\n",
    "\n",
    "# Check if it's a leap year\n",
    "if (year % 4 == 0 and year % 100 != 0) or (year % 400 == 0):\n",
    "    print(f\"{year} is a leap year.\")\n",
    "else:\n",
    "    print(f\"{year} is not a leap year.\")"
   ]
  },
  {
   "cell_type": "markdown",
   "metadata": {},
   "source": [
    "**Short-circuiting**"
   ]
  },
  {
   "cell_type": "markdown",
   "metadata": {},
   "source": [
    "In case of `and` & `or` operators in if conditions, it might be unnecessary to check all conditions. Short-circuiting is a programming concept in which the compiler skips the execution or evaluation of some sub-expressions in a logical expression."
   ]
  },
  {
   "cell_type": "code",
   "execution_count": 2,
   "metadata": {},
   "outputs": [],
   "source": [
    "def check_a():\n",
    "    print(\"Checking a\")\n",
    "    return False\n",
    "\n",
    "def check_b():\n",
    "    print(\"Checking b\")\n",
    "    return True"
   ]
  },
  {
   "cell_type": "code",
   "execution_count": 3,
   "metadata": {},
   "outputs": [
    {
     "name": "stdout",
     "output_type": "stream",
     "text": [
      "-- False and True --\n",
      "Checking a\n",
      "At least one is False\n",
      "\n",
      "-- True and False --\n",
      "Checking b\n",
      "At least one is True\n"
     ]
    }
   ],
   "source": [
    "print(\"-- False and True --\")\n",
    "if check_a() and check_b():\n",
    "    print(\"Both are True\")\n",
    "else:\n",
    "    print(\"At least one is False\")\n",
    "\n",
    "print(\"\\n-- True and False --\")\n",
    "if check_b() or check_a():\n",
    "    print(\"At least one is True\")\n",
    "else:\n",
    "    print(\"Both are False\")"
   ]
  },
  {
   "cell_type": "code",
   "execution_count": 4,
   "metadata": {},
   "outputs": [
    {
     "name": "stdout",
     "output_type": "stream",
     "text": [
      "-- False or True --\n",
      "Checking a\n",
      "Checking b\n",
      "At least one is True\n",
      "\n",
      "-- True or False --\n",
      "Checking b\n",
      "Atleast one is True\n"
     ]
    }
   ],
   "source": [
    "print(\"-- False or True --\")\n",
    "if check_a() or check_b():\n",
    "    print(\"At least one is True\")\n",
    "else:\n",
    "    print(\"Both are False\")\n",
    "\n",
    "print(\"\\n-- True or False --\")\n",
    "if check_b() or check_a():\n",
    "    print(\"Atleast one is True\")\n",
    "else:\n",
    "    print(\"Both are False\")"
   ]
  },
  {
   "cell_type": "markdown",
   "metadata": {},
   "source": [
    "observe short-circuiting by placing a print() inside a function or right before a condition."
   ]
  },
  {
   "cell_type": "code",
   "execution_count": 24,
   "metadata": {},
   "outputs": [
    {
     "name": "stdout",
     "output_type": "stream",
     "text": [
      "Invalid name\n"
     ]
    }
   ],
   "source": [
    "name = \"\"\n",
    "\n",
    "def check_alpha():\n",
    "    print(\"check_alpha() called\")\n",
    "    return name.isalpha()\n",
    "\n",
    "if name and check_alpha():\n",
    "    print(\"Valid name\")\n",
    "else:\n",
    "    print(\"Invalid name\")\n"
   ]
  },
  {
   "cell_type": "markdown",
   "metadata": {},
   "source": [
    "check_alpha() is NOT called, so you won’t see check_alpha() called in the output.    \n",
    "name is \"\" (an empty string), which is Falsey.     \n",
    "In an and expression, if the first operand is False, Python doesn’t evaluate the second — this is called short-circuiting."
   ]
  },
  {
   "cell_type": "code",
   "execution_count": 25,
   "metadata": {},
   "outputs": [
    {
     "name": "stdout",
     "output_type": "stream",
     "text": [
      "check_alpha() called\n",
      "Valid name\n"
     ]
    }
   ],
   "source": [
    "name = \"Darshan\"\n",
    "\n",
    "def check_alpha():\n",
    "    print(\"check_alpha() called\")\n",
    "    return name.isalpha()\n",
    "\n",
    "if name and check_alpha():\n",
    "    print(\"Valid name\")\n",
    "else:\n",
    "    print(\"Invalid name\")"
   ]
  },
  {
   "cell_type": "markdown",
   "metadata": {},
   "source": [
    "Here, both conditions are checked — no short-circuiting this time because the first condition is True."
   ]
  },
  {
   "cell_type": "markdown",
   "metadata": {},
   "source": [
    "### elif ladders\n",
    "\n",
    "The ``if-elif-else`` statement allows you to check multiple conditions. It is used when you have more than two possible outcomes"
   ]
  },
  {
   "cell_type": "code",
   "execution_count": 31,
   "metadata": {},
   "outputs": [
    {
     "name": "stdout",
     "output_type": "stream",
     "text": [
      "First Class\n"
     ]
    }
   ],
   "source": [
    "Grade = 90\n",
    "if Grade > 85:\n",
    "    print(\"First Class\")\n",
    "elif x > 60:\n",
    "    print(\"Second Class\")\n",
    "else:\n",
    "    print(\"Fail! :(\")"
   ]
  },
  {
   "cell_type": "code",
   "execution_count": 28,
   "metadata": {},
   "outputs": [
    {
     "name": "stdout",
     "output_type": "stream",
     "text": [
      "x is zero\n"
     ]
    }
   ],
   "source": [
    "x = 0\n",
    "\n",
    "if x > 0:\n",
    "    print(\"x is positive\")\n",
    "elif x < 0:\n",
    "    print(\"x is negative\")\n",
    "else:\n",
    "    print(\"x is zero\")"
   ]
  },
  {
   "cell_type": "markdown",
   "metadata": {},
   "source": [
    "## 1.4.2. Loops\n",
    "\n",
    "### while Loop\n",
    "The ``while`` loop continues to execute a block of code as long as the condition is ``True``."
   ]
  },
  {
   "cell_type": "markdown",
   "metadata": {},
   "source": [
    "```\n",
    "while condition:\n",
    "    block of statements to iterate\n",
    "```"
   ]
  },
  {
   "cell_type": "code",
   "execution_count": 32,
   "metadata": {},
   "outputs": [
    {
     "name": "stdout",
     "output_type": "stream",
     "text": [
      "10\n",
      "9\n",
      "8\n",
      "7\n",
      "6\n",
      "5\n",
      "4\n",
      "3\n",
      "2\n",
      "1\n",
      "Blastoff!\n"
     ]
    }
   ],
   "source": [
    "countdown = 10\n",
    "while countdown:\n",
    "    print (countdown)\n",
    "    countdown -= 1\n",
    "print (\"Blastoff!\")"
   ]
  },
  {
   "cell_type": "code",
   "execution_count": 24,
   "metadata": {},
   "outputs": [
    {
     "name": "stdout",
     "output_type": "stream",
     "text": [
      "6\n",
      "8\n",
      "10\n",
      "12\n",
      "14\n",
      "16\n",
      "18\n"
     ]
    }
   ],
   "source": [
    "# to display even numbers between m and n\n",
    "m, n = [int(i) for i in input(\"Enter minimum and maximum range:\").split(',')]\n",
    "x=m # start from m onwards\n",
    "if x % 2 !=0 : # if x is not even, start from next number\n",
    "    x=x+1\n",
    "while x>=m and x<=n:\n",
    "    print(x)\n",
    "    x+=2"
   ]
  },
  {
   "cell_type": "markdown",
   "metadata": {},
   "source": [
    "### for Loop\n",
    "The ``for`` loop is used for iterating over a sequence (like a list, tuple, dictionary, set, or string).  {See section 1.5} "
   ]
  },
  {
   "cell_type": "markdown",
   "metadata": {},
   "source": [
    "```\n",
    "for var in sequence:\n",
    "    block of statements to iterate\n",
    " ```"
   ]
  },
  {
   "cell_type": "code",
   "execution_count": 33,
   "metadata": {},
   "outputs": [
    {
     "name": "stdout",
     "output_type": "stream",
     "text": [
      "0\n",
      "1\n",
      "2\n",
      "3\n",
      "4\n"
     ]
    }
   ],
   "source": [
    "for i in range(5):  # Generates numbers from 0 to 4\n",
    "    print(i)"
   ]
  },
  {
   "cell_type": "markdown",
   "metadata": {},
   "source": [
    "The ``range()`` function is often used with for loops to generate a sequence of numbers.\n",
    "`range ( start, stop, step)` => { start, start + 2 step, start + 3 step, ..... ,start + n step } ;   n = floor(end/step) if end%step!=0 \n",
    "\n",
    "Simply, end should not be included.\n"
   ]
  },
  {
   "cell_type": "code",
   "execution_count": 34,
   "metadata": {},
   "outputs": [
    {
     "name": "stdout",
     "output_type": "stream",
     "text": [
      "0\n",
      "1\n",
      "2\n",
      "3\n",
      "4\n"
     ]
    }
   ],
   "source": [
    "for i in range(5):  # Generates numbers from 0 to 4\n",
    "    print(i)"
   ]
  },
  {
   "cell_type": "markdown",
   "metadata": {},
   "source": [
    "**For loop with Lists**"
   ]
  },
  {
   "cell_type": "code",
   "execution_count": 9,
   "metadata": {},
   "outputs": [
    {
     "name": "stdout",
     "output_type": "stream",
     "text": [
      "Data\n",
      "Science\n",
      "Python\n"
     ]
    }
   ],
   "source": [
    "l = [\"Data\", \"Science\", \"Python\"]\n",
    "for i in l:\n",
    "\tprint(i)"
   ]
  },
  {
   "cell_type": "markdown",
   "metadata": {},
   "source": [
    "**For loop with Dictionary**"
   ]
  },
  {
   "cell_type": "code",
   "execution_count": 15,
   "metadata": {},
   "outputs": [
    {
     "name": "stdout",
     "output_type": "stream",
     "text": [
      "Dictionary\tIteration\n",
      "key1 \t\t val1\n",
      "key2 \t\t 345\n"
     ]
    }
   ],
   "source": [
    "print(\"Dictionary\\tIteration\")\n",
    "d = dict()\n",
    "\n",
    "d['key1'] = \"val1\"\n",
    "d['key2'] = 345\n",
    "for i in d:\n",
    "\tprint(i,'\\t\\t',d[i])"
   ]
  },
  {
   "cell_type": "markdown",
   "metadata": {},
   "source": [
    "**For loop with strings**"
   ]
  },
  {
   "cell_type": "code",
   "execution_count": 16,
   "metadata": {},
   "outputs": [
    {
     "name": "stdout",
     "output_type": "stream",
     "text": [
      "P\n",
      "y\n",
      "t\n",
      "h\n",
      "o\n",
      "n\n"
     ]
    }
   ],
   "source": [
    "word = \"Python\"\n",
    "\n",
    "for letter in word:\n",
    "    print(letter)"
   ]
  },
  {
   "cell_type": "markdown",
   "metadata": {},
   "source": [
    "**For loop with range**"
   ]
  },
  {
   "cell_type": "code",
   "execution_count": 17,
   "metadata": {},
   "outputs": [
    {
     "name": "stdout",
     "output_type": "stream",
     "text": [
      "0 1 2 3 4 "
     ]
    }
   ],
   "source": [
    "for i in range(5):\n",
    "    print(i,end=' ')"
   ]
  },
  {
   "cell_type": "markdown",
   "metadata": {},
   "source": [
    "## Nested Loop"
   ]
  },
  {
   "cell_type": "code",
   "execution_count": 25,
   "metadata": {},
   "outputs": [
    {
     "name": "stdout",
     "output_type": "stream",
     "text": [
      "(1, 1) (1, 2) (2, 1) (2, 2) (3, 1) (3, 2) "
     ]
    }
   ],
   "source": [
    "outer_counter = 1\n",
    "while outer_counter <= 3:\n",
    "    inner_counter = 1\n",
    "    while inner_counter <= 2:\n",
    "        print(f\"({outer_counter}, {inner_counter})\", end=' ')\n",
    "        inner_counter += 1\n",
    "    outer_counter += 1"
   ]
  },
  {
   "cell_type": "code",
   "execution_count": 18,
   "metadata": {},
   "outputs": [
    {
     "name": "stdout",
     "output_type": "stream",
     "text": [
      "i= 0 \t j= 0\n",
      "i= 0 \t j= 1\n",
      "i= 0 \t j= 2\n",
      "i= 0 \t j= 3\n",
      "i= 1 \t j= 0\n",
      "i= 1 \t j= 1\n",
      "i= 1 \t j= 2\n",
      "i= 1 \t j= 3\n",
      "i= 2 \t j= 0\n",
      "i= 2 \t j= 1\n",
      "i= 2 \t j= 2\n",
      "i= 2 \t j= 3\n"
     ]
    }
   ],
   "source": [
    "for i in range(3): # i values are from 0 to 2\n",
    "    for j in range(4): # j values are from 0 to 3\n",
    "        print('i=', i, '\\t', 'j=',j) # display i and j values"
   ]
  },
  {
   "cell_type": "code",
   "execution_count": 19,
   "metadata": {},
   "outputs": [
    {
     "name": "stdout",
     "output_type": "stream",
     "text": [
      "P(1) = 0.0\n",
      "P(2) = 0.0\n",
      "P(3) = 0.004629629629629629\n",
      "P(4) = 0.013888888888888888\n",
      "P(5) = 0.027777777777777776\n",
      "P(6) = 0.046296296296296294\n",
      "P(7) = 0.06944444444444445\n",
      "P(8) = 0.09722222222222222\n",
      "P(9) = 0.11574074074074074\n",
      "P(10) = 0.125\n",
      "P(11) = 0.125\n",
      "P(12) = 0.11574074074074074\n",
      "P(13) = 0.09722222222222222\n",
      "P(14) = 0.06944444444444445\n",
      "P(15) = 0.046296296296296294\n",
      "P(16) = 0.027777777777777776\n",
      "P(17) = 0.013888888888888888\n",
      "P(18) = 0.004629629629629629\n"
     ]
    }
   ],
   "source": [
    "for sum in range(1, 19):\n",
    "    count = 0\n",
    "    for i in range(1,7):\n",
    "        for j in range(1,7):\n",
    "            for k in range(1,7):\n",
    "                if i + j + k == sum:\n",
    "                    count += 1\n",
    "    P = count / 216\n",
    "    print(f\"P({sum}) = {P}\")"
   ]
  },
  {
   "cell_type": "markdown",
   "metadata": {},
   "source": [
    "## 1.4.3 Control Flow Modifiers\n",
    "\n",
    "### `break` Statement\n",
    "The `break` statement is used to exit a loop prematurely when a certain condition is met."
   ]
  },
  {
   "cell_type": "code",
   "execution_count": 35,
   "metadata": {},
   "outputs": [
    {
     "name": "stdout",
     "output_type": "stream",
     "text": [
      "> Heyo\n",
      "Heyo\n",
      "> I need time.\n",
      "I need time.\n",
      "> Done.\n",
      "Done.\n",
      "> done\n",
      "Done.\n"
     ]
    }
   ],
   "source": [
    "while True:\n",
    "    line = input('> ')\n",
    "    print(f'> {line}')  \n",
    "    if line == 'done':\n",
    "        break\n",
    "    print(f'{line}') \n",
    "print(\"Done.\")\n"
   ]
  },
  {
   "cell_type": "markdown",
   "metadata": {},
   "source": [
    "### `continue` Statement\n",
    "The `continue` statement skips the rest of the code inside the loop for the current iteration and moves to the next iteration."
   ]
  },
  {
   "cell_type": "code",
   "execution_count": 36,
   "metadata": {},
   "outputs": [
    {
     "name": "stdout",
     "output_type": "stream",
     "text": [
      "> This is me\n",
      "This is me\n",
      "> #This is my comment\n",
      "> done\n",
      "Done.\n"
     ]
    }
   ],
   "source": [
    "while True:\n",
    "    line = input('> ')\n",
    "    print(f'> {line}')  \n",
    "    if line[0] == '#':\n",
    "        continue\n",
    "    if line == 'done':\n",
    "        break\n",
    "    print(f'{line}') \n",
    "print(\"Done.\")\n",
    "\n"
   ]
  },
  {
   "cell_type": "markdown",
   "metadata": {},
   "source": [
    "### `pass` Statement\n",
    "The `pass` statement is a placeholder and does nothing. It's useful when a statement is syntactically required but no action is needed."
   ]
  },
  {
   "cell_type": "code",
   "execution_count": 37,
   "metadata": {},
   "outputs": [
    {
     "name": "stdout",
     "output_type": "stream",
     "text": [
      "5\n",
      "6\n",
      "7\n",
      "8\n",
      "9\n"
     ]
    }
   ],
   "source": [
    "for i in range(10):\n",
    "    if i < 5:\n",
    "        pass  \n",
    "    else:\n",
    "        print(i)"
   ]
  },
  {
   "cell_type": "markdown",
   "metadata": {
    "vscode": {
     "languageId": "html"
    }
   },
   "source": [
    "## 1.5 Collections / Data Structures\n",
    "1. Lists\n",
    "    - Ordered sequence of objects\n",
    "    - Used mostly as structured data (eg. SQL)\n",
    "    - `[__]`\n",
    "2. Dictionaries\n",
    "    - Key and Value pairs of objects\n",
    "    - Used widely as unstructured data (eg. NoSQL)\n",
    "    - `{\"key\": \"value\"}`\n",
    "3. Tuples\n",
    "    - Ordered immutable lists\n",
    "    - `(__)`\n",
    "4. Sets\n",
    "    - Unordered collection of unique objects\n",
    "    - `{__}`\n",
    "5. Arrays\n",
    "    - Ordered sequence of same objects\n",
    "    - `from array import *`\n",
    "    - `arr = array('< type >', list/tuple/set)`"
   ]
  },
  {
   "cell_type": "markdown",
   "metadata": {},
   "source": [
    "### Lists Basics\n",
    "Lists are ordered collections of items that can be of different data types. They are mutable, meaning you can change their content after creation."
   ]
  },
  {
   "cell_type": "code",
   "execution_count": 5,
   "metadata": {},
   "outputs": [
    {
     "name": "stdout",
     "output_type": "stream",
     "text": [
      "<class 'list'>\n",
      "<class 'list'>\n"
     ]
    }
   ],
   "source": [
    "lst1=[] #empty list\n",
    "print(type(lst1))\n",
    "lst2=[1.0, 2, 'GFG', \"Geeks\"]\n",
    "print(type(lst1))"
   ]
  },
  {
   "cell_type": "markdown",
   "metadata": {},
   "source": [
    "### Tuple Basics\n",
    "Tuples are similar to lists but are immutable, meaning their elements cannot be changed after creation. They are defined using parentheses `()`."
   ]
  },
  {
   "cell_type": "code",
   "execution_count": 6,
   "metadata": {},
   "outputs": [
    {
     "name": "stdout",
     "output_type": "stream",
     "text": [
      "<class 'tuple'>\n",
      "<class 'tuple'>\n"
     ]
    }
   ],
   "source": [
    "tup1=('x', 'y')\n",
    "tup2=(1, 'hi', 3.0)\n",
    "print(type(tup1))\n",
    "print(type(tup2))"
   ]
  },
  {
   "cell_type": "markdown",
   "metadata": {},
   "source": [
    "## 1.6 The Zen of Python\n",
    "\n",
    "import this"
   ]
  },
  {
   "cell_type": "code",
   "execution_count": 38,
   "metadata": {},
   "outputs": [
    {
     "name": "stdout",
     "output_type": "stream",
     "text": [
      "The Zen of Python, by Tim Peters\n",
      "\n",
      "Beautiful is better than ugly.\n",
      "Explicit is better than implicit.\n",
      "Simple is better than complex.\n",
      "Complex is better than complicated.\n",
      "Flat is better than nested.\n",
      "Sparse is better than dense.\n",
      "Readability counts.\n",
      "Special cases aren't special enough to break the rules.\n",
      "Although practicality beats purity.\n",
      "Errors should never pass silently.\n",
      "Unless explicitly silenced.\n",
      "In the face of ambiguity, refuse the temptation to guess.\n",
      "There should be one-- and preferably only one --obvious way to do it.\n",
      "Although that way may not be obvious at first unless you're Dutch.\n",
      "Now is better than never.\n",
      "Although never is often better than *right* now.\n",
      "If the implementation is hard to explain, it's a bad idea.\n",
      "If the implementation is easy to explain, it may be a good idea.\n",
      "Namespaces are one honking great idea -- let's do more of those!\n"
     ]
    }
   ],
   "source": [
    "import this"
   ]
  }
 ],
 "metadata": {
  "kernelspec": {
   "display_name": "Python 3",
   "language": "python",
   "name": "python3"
  },
  "language_info": {
   "codemirror_mode": {
    "name": "ipython",
    "version": 3
   },
   "file_extension": ".py",
   "mimetype": "text/x-python",
   "name": "python",
   "nbconvert_exporter": "python",
   "pygments_lexer": "ipython3",
   "version": "3.12.1"
  }
 },
 "nbformat": 4,
 "nbformat_minor": 2
}
