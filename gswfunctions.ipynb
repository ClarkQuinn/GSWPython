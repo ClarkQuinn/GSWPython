{
 "cells": [
  {
   "cell_type": "markdown",
   "id": "f4bb1545",
   "metadata": {},
   "source": [
    "# 6.0 GSW Functions.\n",
    "\n",
    "- Functions help **break down** a program into **manageable, reusable** pieces.  \n",
    "- They let you avoid **repeating code** and make your logic easier to test and maintain.\n",
    "- DRY: Don't Repeat Yourself\n",
    "- Reduce Redundancy of Code\n",
    "\n",
    "\n",
    "- Write a block of code as a function and use those as many times as needed upon calling the said function.\n",
    "\n",
    "**Characteristics of a Function:**\n",
    "1. Modularity\n",
    "2. Reusability\n",
    "3. Abstraction"
   ]
  },
  {
   "cell_type": "markdown",
   "id": "bd8e43c1",
   "metadata": {},
   "source": [
    "**Components of a Function**\n",
    "\n",
    "A Python function has several key components:\n",
    "\n",
    "Function Name\n",
    "- Identifier you use to call the function.\n",
    "- Should follow naming rules (letters, digits, underscores, can't start with digit).\n",
    "\n",
    "Parameters (Arguments)\n",
    "- Inputs passed to the function.\n",
    "- Enclosed in parentheses.\n",
    "- Can have default values.\n",
    "\n",
    "Function Body\n",
    "- The block of code that runs when the function is called.\n",
    "- Indented after `def`.\n",
    "\n",
    "Return Statement\n",
    "- Specifies what the function gives back.\n",
    "- Optional; if omitted, the function returns `None`.\n",
    "\n",
    "Docstring (Optional)\n",
    "- String literal describing the function.\n",
    "- Defined just below the `def` line.\n",
    "\n"
   ]
  },
  {
   "cell_type": "markdown",
   "id": "dc87eb6a",
   "metadata": {},
   "source": [
    "## 6.1 Defining a Function\n",
    "\n",
    "We can define a function using the keyword def followed by function name. After the\n",
    "function name, we should write parentheses ( ) which may contain parameters.  \n",
    "\n",
    "**Function definition:**\n",
    "```python\n",
    "def fn_name(parameters):\n",
    "    ``` function docstring ```\n",
    "    < function statements >\n",
    "```\n"
   ]
  },
  {
   "cell_type": "code",
   "execution_count": 1,
   "id": "21f3e2d4",
   "metadata": {},
   "outputs": [],
   "source": [
    "def world():\n",
    "    print(\"Hello, World!\")"
   ]
  },
  {
   "cell_type": "code",
   "execution_count": 2,
   "id": "320bb820",
   "metadata": {},
   "outputs": [],
   "source": [
    "def greet(name):\n",
    "    \"\"\"\n",
    "    Function to greet a person.\n",
    "    name: str - Name of the person\n",
    "    \"\"\"\n",
    "    print(\"Hello,\", name)"
   ]
  },
  {
   "cell_type": "markdown",
   "id": "96156dff",
   "metadata": {},
   "source": [
    "## 6.2 Calling a Function\n",
    "\n",
    "A function call executes the function’s body with specified arguments. A function cannot run on its own. It runs only when we call it.\n",
    "\n",
    "**What happens on a call:**\n",
    "1. Python jumps to the function definition.\n",
    "2. Arguments are assigned to parameters.\n",
    "3. The function body runs.\n",
    "4. If `return` is present, value is returned.\n",
    "\n",
    "**Function Call:**\n",
    "```python\n",
    "fn_name(arguments)\n",
    "```"
   ]
  },
  {
   "cell_type": "code",
   "execution_count": 3,
   "id": "9aca86f5",
   "metadata": {},
   "outputs": [
    {
     "name": "stdout",
     "output_type": "stream",
     "text": [
      "Hello, World!\n"
     ]
    }
   ],
   "source": [
    "world()"
   ]
  },
  {
   "cell_type": "code",
   "execution_count": 4,
   "id": "f55602e9",
   "metadata": {},
   "outputs": [
    {
     "name": "stdout",
     "output_type": "stream",
     "text": [
      "Hello, Orin\n"
     ]
    }
   ],
   "source": [
    "# Calling the greet function\n",
    "greet(\"Orin\")"
   ]
  },
  {
   "cell_type": "code",
   "execution_count": 5,
   "id": "4ae9ef1a",
   "metadata": {},
   "outputs": [],
   "source": [
    "def wish_bday(name):\n",
    "    \"\"\"\n",
    "    Function to wish a person on their birthday.\n",
    "    name: str - Name of the person\n",
    "    \"\"\"\n",
    "    print(f\"Happy Birthday, {name}!!\")"
   ]
  },
  {
   "cell_type": "code",
   "execution_count": 6,
   "id": "76bab4b0",
   "metadata": {},
   "outputs": [
    {
     "name": "stdout",
     "output_type": "stream",
     "text": [
      "Happy Birthday, Darshan!!\n",
      "Happy Birthday, Twisha!!\n"
     ]
    }
   ],
   "source": [
    "wish_bday(\"Darshan\")\n",
    "wish_bday(\"Twisha\")"
   ]
  },
  {
   "cell_type": "markdown",
   "id": "b83bc403",
   "metadata": {},
   "source": [
    "## 6.3 Return Statements\n",
    "\n",
    "We can return the result or output from the function using a ‘return’ statement in the body of the function. Functions can **return** values using `return` keyword.\n",
    "\n",
    "```python\n",
    "return n # returns n value out of function\n",
    "return 100 # returns 100\n",
    "return lst # return the list that contains values\n",
    "return x, y, z # returns 3 values\n",
    "```\n",
    "\n",
    "No return statements results in function returning no output."
   ]
  },
  {
   "cell_type": "markdown",
   "id": "52024b51",
   "metadata": {},
   "source": [
    "### 6.3.1 Returning single value\n"
   ]
  },
  {
   "cell_type": "code",
   "execution_count": 7,
   "id": "9bca49c4",
   "metadata": {},
   "outputs": [],
   "source": [
    "def sum(a, b):\n",
    "    \"\"\" \n",
    "    Function to add two numbers.\n",
    "    a: int/float - First number\n",
    "    b: int/float - Second number \n",
    "    \"\"\"\n",
    "    return a + b"
   ]
  },
  {
   "cell_type": "code",
   "execution_count": 8,
   "id": "665186c4",
   "metadata": {},
   "outputs": [
    {
     "name": "stdout",
     "output_type": "stream",
     "text": [
      "The sum of 10 and 15 is: 25\n",
      "The sum of 1.5 and 10.75 is: 12.25\n"
     ]
    }
   ],
   "source": [
    "# call the function\n",
    "x = sum(10, 15)\n",
    "print(f'The sum of 10 and 15 is: {x}')\n",
    "\n",
    "a = 1.5\n",
    "b = 10.75\n",
    "# call the function with variables\n",
    "y = sum(a, b)\n",
    "print(f'The sum of {a} and {b} is: {y}')"
   ]
  },
  {
   "cell_type": "markdown",
   "id": "046c5a74",
   "metadata": {},
   "source": [
    "### 6.3.2 Returning multiple values"
   ]
  },
  {
   "cell_type": "code",
   "execution_count": 9,
   "id": "7313f286",
   "metadata": {},
   "outputs": [],
   "source": [
    "def sum_sub(a, b):\n",
    "    \"\"\"\n",
    "    Function to add and subtract two numbers.\n",
    "    a: int/float - First number\n",
    "    b: int/float - Second number\n",
    "    \"\"\"\n",
    "    c = a + b\n",
    "    d = a - b\n",
    "    return c, d"
   ]
  },
  {
   "cell_type": "code",
   "execution_count": 10,
   "id": "dae729cc",
   "metadata": {},
   "outputs": [
    {
     "name": "stdout",
     "output_type": "stream",
     "text": [
      "The sum of 1.5 and 10.75 is: 12.25\n",
      "The difference of 1.5 and 10.75 is: -9.25\n"
     ]
    }
   ],
   "source": [
    "# get the results from the sum_sub() function\n",
    "x, y = sum_sub(a, b)\n",
    "print(f'The sum of {a} and {b} is: {x}')\n",
    "print(f'The difference of {a} and {b} is: {y}')"
   ]
  },
  {
   "cell_type": "code",
   "execution_count": 11,
   "id": "eb32f386",
   "metadata": {},
   "outputs": [
    {
     "name": "stdout",
     "output_type": "stream",
     "text": [
      "The results are: \n",
      "15, 5, 50, 2.0, "
     ]
    }
   ],
   "source": [
    "# A function that returns multiple results\n",
    "def sum_sub_mul_div(a, b):\n",
    "    \"\"\" \n",
    "    this function returns results of addition,\n",
    "    subtraction, multiplication and division of a, b \n",
    "    a: int/float - First number\n",
    "    b: int/float - Second number\n",
    "    \"\"\"\n",
    "\n",
    "    c = a + b\n",
    "    d = a - b\n",
    "    e = a * b\n",
    "    f = a / b\n",
    "    return c, d, e, f\n",
    "\n",
    "t = sum_sub_mul_div(10, 5)\n",
    "print('The results are: ')\n",
    "for i in t:\n",
    "    print(i, end=', ')"
   ]
  },
  {
   "cell_type": "markdown",
   "id": "580d1c87",
   "metadata": {},
   "source": [
    "> `help` function returns the information about the function, i.e. the docstring."
   ]
  },
  {
   "cell_type": "code",
   "execution_count": 12,
   "id": "403d807f",
   "metadata": {},
   "outputs": [
    {
     "name": "stdout",
     "output_type": "stream",
     "text": [
      "Help on function greet in module __main__:\n",
      "\n",
      "greet(name)\n",
      "    Function to greet a person.\n",
      "    name: str - Name of the person\n",
      "\n",
      "Help on function sum in module __main__:\n",
      "\n",
      "sum(a, b)\n",
      "    Function to add two numbers.\n",
      "    a: int/float - First number\n",
      "    b: int/float - Second number\n",
      "\n",
      "Help on function sum_sub in module __main__:\n",
      "\n",
      "sum_sub(a, b)\n",
      "    Function to add and subtract two numbers.\n",
      "    a: int/float - First number\n",
      "    b: int/float - Second number\n",
      "\n"
     ]
    }
   ],
   "source": [
    "help(greet)\n",
    "help(sum)\n",
    "help(sum_sub)"
   ]
  },
  {
   "cell_type": "markdown",
   "id": "8d6dcd6f",
   "metadata": {},
   "source": [
    "**Functions are First Class Objects**   \n",
    "\n",
    "In Python, functions are considered as first class objects. It means we can use functions\n",
    "as perfect objects. In fact when we create a function, the Python interpreter internally\n",
    "creates an object. Since functions are objects, we can pass a function to another function\n",
    "just like we pass an object (or value) to a function.\n"
   ]
  },
  {
   "cell_type": "code",
   "execution_count": null,
   "id": "200e99f1",
   "metadata": {},
   "outputs": [],
   "source": []
  },
  {
   "cell_type": "markdown",
   "id": "c1a95a2d",
   "metadata": {},
   "source": [
    "## 6.4 Arguments\n",
    "- When you **call a function**, the values you pass into it are called **arguments**. These get assigned to the function’s **parameters**.\n",
    "- When a function is defined, it may have some parameters. These parameters are useful to\n",
    "receive values from outside of the function. They are called ‘formal arguments’. \n",
    "- When we call the function, we should pass data or values to the function. These values are called\n",
    "‘actual arguments’."
   ]
  },
  {
   "cell_type": "code",
   "execution_count": 13,
   "id": "c994801b",
   "metadata": {},
   "outputs": [
    {
     "name": "stdout",
     "output_type": "stream",
     "text": [
      "25\n"
     ]
    }
   ],
   "source": [
    "def sum(a, b): # a, b are formal arguments\n",
    "    c = a+b\n",
    "    print(c)\n",
    "\n",
    "# call the function\n",
    "x=10; y=15\n",
    "sum(x, y) # x, y are actual arguments"
   ]
  },
  {
   "cell_type": "markdown",
   "id": "7520153e",
   "metadata": {},
   "source": [
    "The actual arguments used in a function call are of 4 types:\n",
    "- Positional arguments\n",
    "- Keyword arguments\n",
    "- Default arguments\n",
    "- Variable length arguments "
   ]
  },
  {
   "cell_type": "markdown",
   "id": "bfc02164",
   "metadata": {},
   "source": [
    "| Type       | Keyword  | Data Structure |\n",
    "| ---------- | -------- | -------------- |\n",
    "| Positional | No       | Ordered values |\n",
    "| Keyword    | Yes      | Key-value      |\n",
    "| Default    | Optional | Built-in       |\n",
    "| \\*args     | No       | Tuple          |\n",
    "| \\*\\*kwargs | Yes      | Dictionary     |\n"
   ]
  },
  {
   "cell_type": "markdown",
   "id": "f3dcb7d3",
   "metadata": {},
   "source": [
    "### 6.4.1 Positional Arguments\n",
    "- Arguments matched to parameters **by their correct positional order**.\n",
    "- Number of arguments and their positions in the function definition = Number and position of the argument in the function call"
   ]
  },
  {
   "cell_type": "code",
   "execution_count": 14,
   "id": "b47c0229",
   "metadata": {},
   "outputs": [
    {
     "name": "stdout",
     "output_type": "stream",
     "text": [
      "Total string: NewYork\n"
     ]
    }
   ],
   "source": [
    "# positional arguments demo\n",
    "def attach(s1, s2):\n",
    "    \"\"\" to join s1 and s2 and display total string \"\"\"\n",
    "    s3 = s1+s2\n",
    "    print('Total string: '+s3)\n",
    "# call attach() and pass 2 strings\n",
    "attach('New', 'York') # positional arguments"
   ]
  },
  {
   "cell_type": "code",
   "execution_count": 15,
   "id": "c1e20419",
   "metadata": {},
   "outputs": [
    {
     "name": "stdout",
     "output_type": "stream",
     "text": [
      "5\n"
     ]
    }
   ],
   "source": [
    "def add(x, y):\n",
    "    return x + y\n",
    "\n",
    "print(add(2, 3))  # 2 -> x, 3 -> y"
   ]
  },
  {
   "cell_type": "markdown",
   "id": "3a8b6e84",
   "metadata": {},
   "source": [
    "### 6.4.2 Keyword Arguments\n",
    "- Arguments that identify the parameters by their names.\n",
    "- Explicitly name the parameters, which makes the order irrelevant."
   ]
  },
  {
   "cell_type": "code",
   "execution_count": 16,
   "id": "27f88555",
   "metadata": {},
   "outputs": [
    {
     "name": "stdout",
     "output_type": "stream",
     "text": [
      "Item = Sugar\n",
      "Price = 50.75\n",
      "\n",
      "Item = Oil\n",
      "Price = 88.00\n"
     ]
    }
   ],
   "source": [
    "# key word arguments demo\n",
    "def grocery(item, price):\n",
    "    \"\"\" to display the given arguments \"\"\"\n",
    "    print('Item = %s' % item)\n",
    "    print('Price = %.2f' % price)\n",
    "\n",
    "# call grocery() and pass 2 arguments\n",
    "grocery(item='Sugar', price=50.75) # keyword arguments\n",
    "print()\n",
    "grocery(price=88.00, item='Oil') # keyword arguments"
   ]
  },
  {
   "cell_type": "code",
   "execution_count": 17,
   "id": "419d5082",
   "metadata": {},
   "outputs": [
    {
     "name": "stdout",
     "output_type": "stream",
     "text": [
      "Twisha is 20 years old.\n"
     ]
    }
   ],
   "source": [
    "def student(name, age):\n",
    "    print(f\"{name} is {age} years old.\")\n",
    "\n",
    "student(age=20, name=\"Twisha\")"
   ]
  },
  {
   "cell_type": "markdown",
   "id": "ea656c5d",
   "metadata": {},
   "source": [
    "### 6.4.3 Default Arguments \n",
    "- Set default values for parameters.\n",
    "- If no argument is passed, the default is used."
   ]
  },
  {
   "cell_type": "code",
   "execution_count": 18,
   "id": "b9d4d11d",
   "metadata": {},
   "outputs": [
    {
     "name": "stdout",
     "output_type": "stream",
     "text": [
      "Item = Sugar\n",
      "Price = 50.75\n",
      "\n",
      "Using default arguments: \n",
      "Item = Sugar\n",
      "Price = 40.00\n"
     ]
    }
   ],
   "source": [
    "# default arguments demo\n",
    "def grocery(item, price=40.00):\n",
    "    \"\"\" to display the given arguments \"\"\"\n",
    "    print('Item = %s' % item)\n",
    "    print('Price = %.2f' % price)\n",
    "\n",
    "# call grocery() and pass 2 arguments\n",
    "grocery(item='Sugar', price=50.75) # pass 2 arguments\n",
    "\n",
    "print(\"\\nUsing default arguments: \")\n",
    "grocery(item='Sugar') # default value for price is used."
   ]
  },
  {
   "cell_type": "code",
   "execution_count": 19,
   "id": "3b6d96fc",
   "metadata": {},
   "outputs": [
    {
     "name": "stdout",
     "output_type": "stream",
     "text": [
      "Hello, Stranger!\n",
      "Hello, CQ!\n"
     ]
    }
   ],
   "source": [
    "def greet(name=\"Stranger\"):\n",
    "    print(f\"Hello, {name}!\")\n",
    "\n",
    "greet()           # Hello, stranger!\n",
    "greet(\"CQ\")     # Hello, CQ!\n"
   ]
  },
  {
   "cell_type": "markdown",
   "id": "ad5497f4",
   "metadata": {},
   "source": [
    "### 6.4.4 Variable Length Arguments\n",
    "- Argument that can also accept an unlimited amount of data as input inside the function\n",
    "- Allows a function to accept a variable number of arguments in Python\n",
    "\n",
    "Sometimes, we don't know how many arguments will be passed to a function. Python lets us handle this using:\n",
    "\n",
    "- `*args` → for **extra positional** arguments (stored as a `tuple`)\n",
    "- `**kwargs` → for **extra keyword** arguments (stored as a `dict`)\n"
   ]
  },
  {
   "cell_type": "markdown",
   "id": "ed7a15d6",
   "metadata": {},
   "source": [
    "1. The `*args` allows you to pass any number of **positional** arguments into your function.\n",
    "    - `*args` for non-keyworded variable arguments\n",
    "    - Collects extra positional arguments as a tuple"
   ]
  },
  {
   "cell_type": "code",
   "execution_count": 20,
   "id": "8ef7e1d4",
   "metadata": {},
   "outputs": [
    {
     "name": "stdout",
     "output_type": "stream",
     "text": [
      "12\n"
     ]
    }
   ],
   "source": [
    "def total(*numbers):\n",
    "    \"\"\" to add all the numbers\"\"\"\n",
    "    sum = 0\n",
    "    for number in numbers:\n",
    "        sum += number\n",
    "    return sum\n",
    "    \n",
    "print(total(2, 4, 6))  # Output: 12\n"
   ]
  },
  {
   "cell_type": "markdown",
   "id": "ee7ea609",
   "metadata": {},
   "source": [
    "2. `**kwargs` → for **extra keyword** arguments (stored as a `dict`)\n",
    "    - `**kwargs` for keyworded variable arguments\n",
    "    - Collects extra named arguments as a dictionary"
   ]
  },
  {
   "cell_type": "code",
   "execution_count": 21,
   "id": "499fdc52",
   "metadata": {},
   "outputs": [
    {
     "name": "stdout",
     "output_type": "stream",
     "text": [
      "name: CQ\n",
      "role: Dev\n",
      "mood: Focused\n"
     ]
    }
   ],
   "source": [
    "def describe(**info):\n",
    "    for key, value in info.items():\n",
    "        print(f\"{key}: {value}\")\n",
    "\n",
    "describe(name=\"CQ\", role=\"Dev\", mood=\"Focused\")\n"
   ]
  },
  {
   "cell_type": "code",
   "execution_count": 38,
   "id": "7462eb0c",
   "metadata": {},
   "outputs": [],
   "source": [
    "def sum(args):\n",
    "    \"\"\" to add all the numbers in args \"\"\"\n",
    "    total = 0\n",
    "    for arg in args:\n",
    "        total += arg\n",
    "    return total"
   ]
  },
  {
   "cell_type": "code",
   "execution_count": 42,
   "id": "8d6d931c",
   "metadata": {},
   "outputs": [
    {
     "data": {
      "text/plain": [
       "20"
      ]
     },
     "execution_count": 42,
     "metadata": {},
     "output_type": "execute_result"
    }
   ],
   "source": [
    "nums = (1,2,3,4,5,5)\n",
    "ANS = sum(nums)\n",
    "ANS"
   ]
  },
  {
   "cell_type": "code",
   "execution_count": 45,
   "id": "64698b1d",
   "metadata": {},
   "outputs": [],
   "source": [
    "def total(*nums):\n",
    "    return sum(nums)"
   ]
  },
  {
   "cell_type": "code",
   "execution_count": 48,
   "id": "8429cd4f",
   "metadata": {},
   "outputs": [
    {
     "ename": "TypeError",
     "evalue": "unsupported operand type(s) for +=: 'int' and 'tuple'",
     "output_type": "error",
     "traceback": [
      "\u001b[31m---------------------------------------------------------------------------\u001b[39m",
      "\u001b[31mTypeError\u001b[39m                                 Traceback (most recent call last)",
      "\u001b[36mCell\u001b[39m\u001b[36m \u001b[39m\u001b[32mIn[48]\u001b[39m\u001b[32m, line 1\u001b[39m\n\u001b[32m----> \u001b[39m\u001b[32m1\u001b[39m \u001b[43mtotal\u001b[49m\u001b[43m(\u001b[49m\u001b[43m(\u001b[49m\u001b[32;43m1\u001b[39;49m\u001b[43m,\u001b[49m\u001b[32;43m2\u001b[39;49m\u001b[43m,\u001b[49m\u001b[32;43m3\u001b[39;49m\u001b[43m,\u001b[49m\u001b[32;43m4\u001b[39;49m\u001b[43m)\u001b[49m\u001b[43m)\u001b[49m\n",
      "\u001b[36mCell\u001b[39m\u001b[36m \u001b[39m\u001b[32mIn[45]\u001b[39m\u001b[32m, line 2\u001b[39m, in \u001b[36mtotal\u001b[39m\u001b[34m(*nums)\u001b[39m\n\u001b[32m      1\u001b[39m \u001b[38;5;28;01mdef\u001b[39;00m\u001b[38;5;250m \u001b[39m\u001b[34mtotal\u001b[39m(*nums):\n\u001b[32m----> \u001b[39m\u001b[32m2\u001b[39m     \u001b[38;5;28;01mreturn\u001b[39;00m \u001b[38;5;28;43msum\u001b[39;49m\u001b[43m(\u001b[49m\u001b[43mnums\u001b[49m\u001b[43m)\u001b[49m\n",
      "\u001b[36mCell\u001b[39m\u001b[36m \u001b[39m\u001b[32mIn[38]\u001b[39m\u001b[32m, line 5\u001b[39m, in \u001b[36msum\u001b[39m\u001b[34m(args)\u001b[39m\n\u001b[32m      3\u001b[39m total = \u001b[32m0\u001b[39m\n\u001b[32m      4\u001b[39m \u001b[38;5;28;01mfor\u001b[39;00m arg \u001b[38;5;129;01min\u001b[39;00m args:\n\u001b[32m----> \u001b[39m\u001b[32m5\u001b[39m     \u001b[43mtotal\u001b[49m\u001b[43m \u001b[49m\u001b[43m+\u001b[49m\u001b[43m=\u001b[49m\u001b[43m \u001b[49m\u001b[43marg\u001b[49m\n\u001b[32m      6\u001b[39m \u001b[38;5;28;01mreturn\u001b[39;00m total\n",
      "\u001b[31mTypeError\u001b[39m: unsupported operand type(s) for +=: 'int' and 'tuple'"
     ]
    }
   ],
   "source": [
    "total((1,2,3,4))"
   ]
  },
  {
   "cell_type": "markdown",
   "id": "31cac574",
   "metadata": {},
   "source": [
    "### 6.4.5 Mixing Argument Types\n",
    "\n",
    "```python\n",
    "def function(positional, default, *args, **kwargs):\n",
    "    // function body\n",
    "```\n"
   ]
  },
  {
   "cell_type": "code",
   "execution_count": 22,
   "id": "16b37190",
   "metadata": {},
   "outputs": [
    {
     "name": "stdout",
     "output_type": "stream",
     "text": [
      "a: 1\n",
      "b: 3\n",
      "args: (4, 5)\n",
      "kwargs: {'x': 10, 'y': 20}\n"
     ]
    }
   ],
   "source": [
    "def everything(a, b=2, *args, **kwargs):\n",
    "    print(\"a:\", a)\n",
    "    print(\"b:\", b)\n",
    "    print(\"args:\", args)\n",
    "    print(\"kwargs:\", kwargs)\n",
    "\n",
    "everything(1, 3, 4, 5, x=10, y=20)"
   ]
  },
  {
   "cell_type": "code",
   "execution_count": null,
   "id": "fa9e5168",
   "metadata": {},
   "outputs": [
    {
     "name": "stdout",
     "output_type": "stream",
     "text": [
      "1 2 (3, 4) {'name': 'CQ', 'mood': 'cool'}\n"
     ]
    }
   ],
   "source": [
    "def demo(a, b=10, *args, **kwargs):\n",
    "    print(a, b, args, kwargs)\n",
    "\n",
    "demo(1, 2, 3, 4, name=\"CQ\", mood=\"cool\")"
   ]
  },
  {
   "cell_type": "markdown",
   "id": "132f16c2",
   "metadata": {},
   "source": [
    "## 6.6 Variable Scoping\n",
    "\n",
    "- **Variable Scope** : Region of the code where variable is defined and can be accessed.\n",
    "- It determines the visibility and lifetime of a variable.\n",
    "\n",
    "- *Lifetime*: For how long the variable takes space in the memory\n",
    "- *Visibility*: Access and Modify the variable"
   ]
  },
  {
   "cell_type": "markdown",
   "id": "0bca8e51",
   "metadata": {},
   "source": [
    "**Types of Scope in Python (LEGB Rule):**\n",
    "\n",
    "Python resolves variable names using the LEGB rule:"
   ]
  },
  {
   "cell_type": "markdown",
   "id": "a43367ef",
   "metadata": {},
   "source": [
    "| Scope      | Description                                                                 |\n",
    "|------------|-----------------------------------------------------------------------------|\n",
    "| **Local**  | Inside the function or block where it is defined.                           |\n",
    "| **Enclosing** | Surrounding functions (useful in nested functions).                      |\n",
    "| **Global** | Anywhere in the file/module, unless shadowed by a local variable.           |\n",
    "| **Built-in** | Python’s default namespace (e.g., `print()`, `len()`).                    |\n"
   ]
  },
  {
   "cell_type": "markdown",
   "id": "ee7cdee9",
   "metadata": {},
   "source": [
    "### 6.6.1 Local Scope\n",
    "- Declared inside a function. \n",
    "- Accessed only within the funcion."
   ]
  },
  {
   "cell_type": "code",
   "execution_count": 24,
   "id": "f88a4c7d",
   "metadata": {},
   "outputs": [
    {
     "name": "stdout",
     "output_type": "stream",
     "text": [
      "1\n",
      "Error: name 'local_var' is not defined\n"
     ]
    }
   ],
   "source": [
    "# local variable in a function\n",
    "def myfunction():\n",
    "    local_var=1 # this is local var\n",
    "    print(local_var)\n",
    "\n",
    "myfunction()\n",
    "try:\n",
    "    print(local_var)  # This will raise an error because local_var is not defined outside the function\n",
    "except NameError as e:\n",
    "    print(f\"Error: {e}\")"
   ]
  },
  {
   "cell_type": "markdown",
   "id": "8b04714a",
   "metadata": {},
   "source": [
    "### 6.6.2 Enclosing(Local) Scope\n",
    "- Variable in the nearest enclosing function that contains the nested function.\n",
    "- Found in nested functions.\n",
    "- The inner function can access variables from the outer (enclosing) function.\n",
    "- Not part of the global scope."
   ]
  },
  {
   "cell_type": "code",
   "execution_count": 25,
   "id": "16a3eb70",
   "metadata": {},
   "outputs": [
    {
     "name": "stdout",
     "output_type": "stream",
     "text": [
      "Hello\n"
     ]
    }
   ],
   "source": [
    "def outer():\n",
    "    enclosing_var = 'Hello'\n",
    "    def inner():\n",
    "        print(enclosing_var)  # Accessing the enclosing variable\n",
    "    inner()\n",
    "outer()\n",
    "\n",
    "# Scope of EV: Whole Outer Fucntion"
   ]
  },
  {
   "cell_type": "markdown",
   "id": "81d2b28e",
   "metadata": {},
   "source": [
    "Inner function can access variable from the outer function but cannot modify it"
   ]
  },
  {
   "cell_type": "code",
   "execution_count": 26,
   "id": "67c85874",
   "metadata": {},
   "outputs": [
    {
     "name": "stdout",
     "output_type": "stream",
     "text": [
      "Old Outer Fn: Hello\n",
      "Inner Fn: Hello\n",
      "New Outer Fn: Hello\n"
     ]
    }
   ],
   "source": [
    "def outer():\n",
    "    enclosing_var = 'Hello'\n",
    "    def inner():\n",
    "        try:\n",
    "            print(f\"Inner Fn: {enclosing_var}\")  \n",
    "        except UnboundLocalError as e:\n",
    "            print(f\"Error: {e}\")\n",
    "    print(f\"Old Outer Fn: {enclosing_var}\")  \n",
    "    inner()\n",
    "    print(f\"New Outer Fn: {enclosing_var}\")\n",
    "outer()"
   ]
  },
  {
   "cell_type": "code",
   "execution_count": 27,
   "id": "817708de",
   "metadata": {},
   "outputs": [
    {
     "name": "stdout",
     "output_type": "stream",
     "text": [
      "Old Outer Fn: Hello\n",
      "Error: cannot access local variable 'enclosing_var' where it is not associated with a value\n",
      "New Outer Fn: Hello\n"
     ]
    }
   ],
   "source": [
    "def outer():\n",
    "    enclosing_var = 'Hello'\n",
    "    def inner():\n",
    "        try:\n",
    "            print(f\"Inner Fn: {enclosing_var}\")      #Accesses a variable from the outer fn\n",
    "            enclosing_var = \"Updated Value\"          #Tries to modify the variable from the outer fn\n",
    "        except UnboundLocalError as e:\n",
    "            print(f\"Error: {e}\")                    #Throws an error because it tries to modify the enclosing variable\n",
    "    print(f\"Old Outer Fn: {enclosing_var}\")  \n",
    "    inner()\n",
    "    print(f\"New Outer Fn: {enclosing_var}\")\n",
    "outer()\n"
   ]
  },
  {
   "cell_type": "code",
   "execution_count": 28,
   "id": "48ef7451",
   "metadata": {},
   "outputs": [
    {
     "name": "stdout",
     "output_type": "stream",
     "text": [
      "Old Outer Fn: Hello\n",
      "Inner Fn: New Var\n",
      "New Outer Fn: Hello\n"
     ]
    }
   ],
   "source": [
    "def outer():\n",
    "    enclosing_var = 'Hello'\n",
    "    def inner():\n",
    "        enclosing_var = \"New Var\"     # Creates a new variable with a new scope of inner fn\n",
    "        print(f\"Inner Fn: {enclosing_var}\")  \n",
    "    print(f\"Old Outer Fn: {enclosing_var}\")  \n",
    "    inner()\n",
    "    print(f\"New Outer Fn: {enclosing_var}\")\n",
    "outer()"
   ]
  },
  {
   "cell_type": "markdown",
   "id": "76837cb9",
   "metadata": {},
   "source": [
    "To modify the enclosing variable without making an entire new variable with new scope:\n",
    "`nonlocal` keyword can be used"
   ]
  },
  {
   "cell_type": "code",
   "execution_count": 29,
   "id": "66174fa5",
   "metadata": {},
   "outputs": [
    {
     "name": "stdout",
     "output_type": "stream",
     "text": [
      "Old Outer Fn: Hello\n",
      "Inner Fn: Updated Value\n",
      "New Outer Fn: Updated Value\n"
     ]
    }
   ],
   "source": [
    "def outer():\n",
    "    enclosing_var = 'Hello'\n",
    "    def inner():\n",
    "        try:\n",
    "            nonlocal enclosing_var                 #Using nonlocal keyword to access an outer variable\n",
    "            enclosing_var = \"Updated Value\"        #Updating a nonlocal varibale of outer fn\n",
    "        except UnboundLocalError as e:\n",
    "            print(f\"Error: {e}\")\n",
    "        print(f\"Inner Fn: {enclosing_var}\")  \n",
    "    print(f\"Old Outer Fn: {enclosing_var}\")  \n",
    "    inner()\n",
    "    print(f\"New Outer Fn: {enclosing_var}\")\n",
    "outer()\n"
   ]
  },
  {
   "cell_type": "markdown",
   "id": "a6266214",
   "metadata": {},
   "source": [
    "### 6.6.3 Global Scope\n",
    "- Declared at the top level of the script \n",
    "- OR module is in the global scope "
   ]
  },
  {
   "cell_type": "code",
   "execution_count": 30,
   "id": "3130f75c",
   "metadata": {},
   "outputs": [
    {
     "name": "stdout",
     "output_type": "stream",
     "text": [
      "In the function: अत्र तत्र सर्वत्र\n",
      "Outside the function: अत्र तत्र सर्वत्र\n"
     ]
    }
   ],
   "source": [
    "global_var = \"अत्र तत्र सर्वत्र\"    \n",
    "def fun():\n",
    "    print(f\"In the function: {global_var}\")\n",
    "\n",
    "fun()\n",
    "print(f\"Outside the function: {global_var}\")"
   ]
  },
  {
   "cell_type": "code",
   "execution_count": 31,
   "id": "ccadda44",
   "metadata": {},
   "outputs": [
    {
     "name": "stdout",
     "output_type": "stream",
     "text": [
      "a = 1\n",
      "b = 2\n",
      "1\n",
      "10.75\n"
     ]
    }
   ],
   "source": [
    "# global variable example\n",
    "a=1 # this is global var\n",
    "def myfunction():\n",
    "    b=2 # this is local var\n",
    "    print('a =', a) # display globalvar\n",
    "    print('b =' , b) # display localvar\n",
    "myfunction()\n",
    "try:\n",
    "    print(a) # available\n",
    "    print(b) # error, not available\n",
    "except NameError as e:\n",
    "    print(f\"Error: {e}\")  # b is not defined outside the function"
   ]
  },
  {
   "cell_type": "markdown",
   "id": "a487a7a5",
   "metadata": {},
   "source": [
    "Any function can access global variable but cannot modify it without making its own local variable."
   ]
  },
  {
   "cell_type": "code",
   "execution_count": 32,
   "id": "e71bf5e7",
   "metadata": {},
   "outputs": [
    {
     "name": "stdout",
     "output_type": "stream",
     "text": [
      "Before the function: Global Value\n",
      "In the function: New Var\n",
      "After the function: Global Value\n"
     ]
    }
   ],
   "source": [
    "global_var = \"Global Value\"    \n",
    "def fun():\n",
    "    global_var=\"New Var\"\n",
    "    print(f\"In the function: {global_var}\")\n",
    "\n",
    "print(f\"Before the function: {global_var}\")\n",
    "fun()\n",
    "print(f\"After the function: {global_var}\")"
   ]
  },
  {
   "cell_type": "code",
   "execution_count": 33,
   "id": "b80b733e",
   "metadata": {},
   "outputs": [
    {
     "name": "stdout",
     "output_type": "stream",
     "text": [
      "Before the function: Global Value\n",
      "Error: cannot access local variable 'global_var' where it is not associated with a value\n",
      "After the function: Global Value\n"
     ]
    }
   ],
   "source": [
    "global_var = \"Global Value\"    \n",
    "def fun():\n",
    "    try: \n",
    "        print(f\"In the function: {global_var}\")\n",
    "        global_var=\"New Var\"\n",
    "    except UnboundLocalError as e:\n",
    "        print(f\"Error: {e}\")\n",
    "\n",
    "print(f\"Before the function: {global_var}\")\n",
    "fun()\n",
    "print(f\"After the function: {global_var}\")"
   ]
  },
  {
   "cell_type": "markdown",
   "id": "87c1d1b5",
   "metadata": {},
   "source": [
    "To modify the global variable without making an entire new variable with new scope:\n",
    "`global` keyword can be used"
   ]
  },
  {
   "cell_type": "code",
   "execution_count": 34,
   "id": "c9258d04",
   "metadata": {},
   "outputs": [
    {
     "name": "stdout",
     "output_type": "stream",
     "text": [
      "Before the function: Global Value\n",
      "In the function: Updated Value\n",
      "After the function: Updated Value\n"
     ]
    }
   ],
   "source": [
    "global_var = \"Global Value\"    \n",
    "def fun():\n",
    "    global global_var  # Declare global variable to modify it\n",
    "    global_var=\"Updated Value\"\n",
    "    print(f\"In the function: {global_var}\")\n",
    "\n",
    "print(f\"Before the function: {global_var}\")\n",
    "fun()\n",
    "print(f\"After the function: {global_var}\")"
   ]
  },
  {
   "cell_type": "markdown",
   "id": "227c6abb",
   "metadata": {},
   "source": [
    "### 6.6.4 Built-in Scope\n",
    "- Obtains names that are pre-defined in python\n",
    "- Eg. '`print`', '`len`', etc"
   ]
  },
  {
   "cell_type": "code",
   "execution_count": 35,
   "id": "45b1b837",
   "metadata": {},
   "outputs": [
    {
     "name": "stdout",
     "output_type": "stream",
     "text": [
      "5\n"
     ]
    }
   ],
   "source": [
    "print(len(\"Hello\"))"
   ]
  },
  {
   "cell_type": "markdown",
   "id": "edc79e4e",
   "metadata": {},
   "source": [
    "### 6.6.5 Scope Resolution\n",
    "\n",
    "- LEGB Rule\n"
   ]
  },
  {
   "cell_type": "code",
   "execution_count": 36,
   "id": "89444c3c",
   "metadata": {},
   "outputs": [
    {
     "name": "stdout",
     "output_type": "stream",
     "text": [
      "inner: local\n",
      "outer: enclosing\n",
      "global: global\n"
     ]
    }
   ],
   "source": [
    "x = \"global\"  # Global scope\n",
    "\n",
    "def outer():\n",
    "    x = \"enclosing\"  # Enclosing scope\n",
    "\n",
    "    def inner():\n",
    "        x = \"local\"  # Local scope\n",
    "        print(\"inner:\", x)\n",
    "\n",
    "    inner()\n",
    "    print(\"outer:\", x)\n",
    "\n",
    "outer()\n",
    "print(\"global:\", x)"
   ]
  }
 ],
 "metadata": {
  "kernelspec": {
   "display_name": "Python 3",
   "language": "python",
   "name": "python3"
  },
  "language_info": {
   "codemirror_mode": {
    "name": "ipython",
    "version": 3
   },
   "file_extension": ".py",
   "mimetype": "text/x-python",
   "name": "python",
   "nbconvert_exporter": "python",
   "pygments_lexer": "ipython3",
   "version": "3.12.1"
  }
 },
 "nbformat": 4,
 "nbformat_minor": 5
}
