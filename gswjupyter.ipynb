{
 "cells": [
  {
   "cell_type": "markdown",
   "id": "1610893a",
   "metadata": {},
   "source": [
    "# A1. Jupyter Notebooks\n",
    "\n",
    "Jupyter Notebooks are interactive coding environments used widely for Python development — especially in data science, machine learning, and education. They allow mixing code, output, markdown, math, and plots in a single document.\n",
    "\n",
    "- Interactive and incremental code execution\n",
    "- Markdown and LaTeX support for beautiful documentation\n",
    "- Visual output (plots, tables, images) inline with code\n",
    "- Exportable as .html, .pdf, or .py files\n",
    "- Ideal for exploratory coding, note-taking, and sharing"
   ]
  },
  {
   "cell_type": "markdown",
   "id": "b940c713",
   "metadata": {},
   "source": [
    "A program written in this way could be printed on paper and shared by hand as an actual “notebook”, but in modern times, they are shared digitally as “notebook files”, and can contain additional rich media like images, 3D models and interactive figures, along with data and other program outputs.\n",
    "\n",
    "When someone uses the term “notebook”, they might be referring to:\n",
    "- A notebook file on their computer\n",
    "- The idea of combining computer code, explanatory text, images and more into the “notebook format”\n",
    "- The “Jupyter Notebook” application, used to author and edit digital notebook files\n",
    "- Jupyter’s .ipynb notebook file format (used to save your notebook files on your computer), which is interpreted by the nbformat software library\n",
    "\n",
    "And the term “Jupyter” might refer to:\n",
    "- “Project Jupyter”, the overarching umbrella project\n",
    "- The “Jupyter Notebook” or “JupyterLab” editing programs (or other Jupyter products)\n",
    ">The name Jupyter comes from the three programming languages the project originally supported: Julia (ju), Python (pyt) and R (r)."
   ]
  },
  {
   "cell_type": "markdown",
   "id": "f81a1a56",
   "metadata": {},
   "source": [
    "> Jupyter uses the `.ipynb `file format to store notebook files on your computer (where the data and outputs of your notebook reside for long term storage). The `.ipynb` format is interpreted and modified by the nbformat software library. The `.ipynb` format is a type of json document, which holds your notebook cells, program outputs, and metadata inside a structured text file."
   ]
  },
  {
   "cell_type": "markdown",
   "id": "1accafdc",
   "metadata": {},
   "source": [
    "## Setting Up Jupyter\n"
   ]
  },
  {
   "cell_type": "markdown",
   "id": "419590b9",
   "metadata": {},
   "source": [
    "### Method 1: Using pip to install Jupyter Notebook Package\n",
    "\n",
    "**Step 1:** Install the latest Python3.  \n",
    "**Step 2:** Check if pip3 and python3 are correctly installed.\n",
    "```bash\n",
    "python3 --version\n",
    "pip3 --version\n",
    "```\n",
    "**Step 3:** Upgrade your pip to avoid errors during installation.\n",
    "```bash \n",
    "pip3 install --upgrade pip\n",
    "```   \n",
    "**Step 4:** Enter the following command to install Jupyter Notebook using pip3.\n",
    "```bash \n",
    "pip3 install jupyter\n",
    "```\n",
    "\n"
   ]
  },
  {
   "cell_type": "markdown",
   "id": "0a1a61ef",
   "metadata": {},
   "source": [
    "> **What is pip?**     \n",
    "- Python Install Packages\n",
    "- To install pip: https://pip.pypa.io/en/stable/installation/"
   ]
  },
  {
   "cell_type": "markdown",
   "id": "3c9d2877",
   "metadata": {},
   "source": [
    "### Method 2: Anaconda\n",
    "1. Install Anaconda: https://www.anaconda.com\n",
    "2. Open Anaconda Navigator → Launch Jupyter Notebook"
   ]
  },
  {
   "cell_type": "markdown",
   "id": "03fda58a",
   "metadata": {},
   "source": [
    "### Method 3: VS Code\n",
    "1. Install the Jupyter extension\n",
    "2. Open a .ipynb file and start coding!"
   ]
  },
  {
   "cell_type": "markdown",
   "id": "62a389f7",
   "metadata": {},
   "source": [
    "## The Jupyter Interface\n",
    "\n",
    "- Code Cells → Write and run Python code\n",
    "- Markdown Cells → Add notes, headings, math, lists\n",
    "- Toolbar → Run, stop, restart kernel, save notebook\n",
    "- Kernel → The engine running your Python code\n",
    "- Output → Appears below each code cell"
   ]
  },
  {
   "cell_type": "markdown",
   "id": "6a6f4441",
   "metadata": {},
   "source": [
    "## Markdown Basics\n",
    "Use Markdown cells for beautiful documentation:\n",
    "\n",
    "* `#` to `######` for headings\n",
    "* `*italic*`, `**bold**` for emphasis\n",
    "* `-`, `+`, `*` for bullet points\n",
    "* Backticks $` `code` `$ and triple backticks for code blocks\n",
    "* LaTeX math with `$ ... $` or `$$ ... $$`"
   ]
  },
  {
   "cell_type": "markdown",
   "id": "a96bbde4",
   "metadata": {},
   "source": [
    "```markdown\n",
    "# Title\n",
    "## Subtitle\n",
    "**Bold Text** and `inline code`\n",
    "```python\n",
    "\n",
    "```\n",
    "```"
   ]
  },
  {
   "cell_type": "markdown",
   "id": "428bfe4f",
   "metadata": {},
   "source": [
    "## Magic Commands\n",
    "\n",
    "Magic commands make life easier in Jupyter:\n",
    "\n",
    "```python\n",
    "%timeit sum(range(1000))    # Timing code\n",
    "%lsmagic                    # List all magics\n",
    "%who                        # Show all defined variables\n",
    "```"
   ]
  },
  {
   "cell_type": "code",
   "execution_count": 7,
   "id": "5f30deb7",
   "metadata": {},
   "outputs": [
    {
     "data": {
      "application/json": {
       "cell": {
        "!": "OSMagics",
        "HTML": "Other",
        "SVG": "Other",
        "bash": "Other",
        "capture": "ExecutionMagics",
        "code_wrap": "ExecutionMagics",
        "debug": "ExecutionMagics",
        "file": "Other",
        "html": "DisplayMagics",
        "javascript": "DisplayMagics",
        "js": "DisplayMagics",
        "latex": "DisplayMagics",
        "markdown": "DisplayMagics",
        "perl": "Other",
        "prun": "ExecutionMagics",
        "pypy": "Other",
        "python": "Other",
        "python2": "Other",
        "python3": "Other",
        "ruby": "Other",
        "script": "ScriptMagics",
        "sh": "Other",
        "svg": "DisplayMagics",
        "sx": "OSMagics",
        "system": "OSMagics",
        "time": "ExecutionMagics",
        "timeit": "ExecutionMagics",
        "writefile": "OSMagics"
       },
       "line": {
        "alias": "OSMagics",
        "alias_magic": "BasicMagics",
        "autoawait": "AsyncMagics",
        "autocall": "AutoMagics",
        "automagic": "AutoMagics",
        "autosave": "KernelMagics",
        "bookmark": "OSMagics",
        "cat": "Other",
        "cd": "OSMagics",
        "clear": "KernelMagics",
        "code_wrap": "ExecutionMagics",
        "colors": "BasicMagics",
        "conda": "PackagingMagics",
        "config": "ConfigMagics",
        "connect_info": "KernelMagics",
        "cp": "Other",
        "debug": "ExecutionMagics",
        "dhist": "OSMagics",
        "dirs": "OSMagics",
        "doctest_mode": "BasicMagics",
        "ed": "Other",
        "edit": "KernelMagics",
        "env": "OSMagics",
        "gui": "BasicMagics",
        "hist": "Other",
        "history": "HistoryMagics",
        "killbgscripts": "ScriptMagics",
        "ldir": "Other",
        "less": "KernelMagics",
        "lf": "Other",
        "lk": "Other",
        "ll": "Other",
        "load": "CodeMagics",
        "load_ext": "ExtensionMagics",
        "loadpy": "CodeMagics",
        "logoff": "LoggingMagics",
        "logon": "LoggingMagics",
        "logstart": "LoggingMagics",
        "logstate": "LoggingMagics",
        "logstop": "LoggingMagics",
        "ls": "Other",
        "lsmagic": "BasicMagics",
        "lx": "Other",
        "macro": "ExecutionMagics",
        "magic": "BasicMagics",
        "mamba": "PackagingMagics",
        "man": "KernelMagics",
        "matplotlib": "PylabMagics",
        "micromamba": "PackagingMagics",
        "mkdir": "Other",
        "more": "KernelMagics",
        "mv": "Other",
        "notebook": "BasicMagics",
        "page": "BasicMagics",
        "pastebin": "CodeMagics",
        "pdb": "ExecutionMagics",
        "pdef": "NamespaceMagics",
        "pdoc": "NamespaceMagics",
        "pfile": "NamespaceMagics",
        "pinfo": "NamespaceMagics",
        "pinfo2": "NamespaceMagics",
        "pip": "PackagingMagics",
        "popd": "OSMagics",
        "pprint": "BasicMagics",
        "precision": "BasicMagics",
        "prun": "ExecutionMagics",
        "psearch": "NamespaceMagics",
        "psource": "NamespaceMagics",
        "pushd": "OSMagics",
        "pwd": "OSMagics",
        "pycat": "OSMagics",
        "pylab": "PylabMagics",
        "qtconsole": "KernelMagics",
        "quickref": "BasicMagics",
        "recall": "HistoryMagics",
        "rehashx": "OSMagics",
        "reload_ext": "ExtensionMagics",
        "rep": "Other",
        "rerun": "HistoryMagics",
        "reset": "NamespaceMagics",
        "reset_selective": "NamespaceMagics",
        "rm": "Other",
        "rmdir": "Other",
        "run": "ExecutionMagics",
        "save": "CodeMagics",
        "sc": "OSMagics",
        "set_env": "OSMagics",
        "store": "StoreMagics",
        "sx": "OSMagics",
        "system": "OSMagics",
        "tb": "ExecutionMagics",
        "time": "ExecutionMagics",
        "timeit": "ExecutionMagics",
        "unalias": "OSMagics",
        "unload_ext": "ExtensionMagics",
        "uv": "PackagingMagics",
        "who": "NamespaceMagics",
        "who_ls": "NamespaceMagics",
        "whos": "NamespaceMagics",
        "xdel": "NamespaceMagics",
        "xmode": "BasicMagics"
       }
      },
      "text/plain": [
       "Available line magics:\n",
       "%alias  %alias_magic  %autoawait  %autocall  %automagic  %autosave  %bookmark  %cat  %cd  %clear  %code_wrap  %colors  %conda  %config  %connect_info  %cp  %debug  %dhist  %dirs  %doctest_mode  %ed  %edit  %env  %gui  %hist  %history  %killbgscripts  %ldir  %less  %lf  %lk  %ll  %load  %load_ext  %loadpy  %logoff  %logon  %logstart  %logstate  %logstop  %ls  %lsmagic  %lx  %macro  %magic  %mamba  %man  %matplotlib  %micromamba  %mkdir  %more  %mv  %notebook  %page  %pastebin  %pdb  %pdef  %pdoc  %pfile  %pinfo  %pinfo2  %pip  %popd  %pprint  %precision  %prun  %psearch  %psource  %pushd  %pwd  %pycat  %pylab  %qtconsole  %quickref  %recall  %rehashx  %reload_ext  %rep  %rerun  %reset  %reset_selective  %rm  %rmdir  %run  %save  %sc  %set_env  %store  %sx  %system  %tb  %time  %timeit  %unalias  %unload_ext  %uv  %who  %who_ls  %whos  %xdel  %xmode\n",
       "\n",
       "Available cell magics:\n",
       "%%!  %%HTML  %%SVG  %%bash  %%capture  %%code_wrap  %%debug  %%file  %%html  %%javascript  %%js  %%latex  %%markdown  %%perl  %%prun  %%pypy  %%python  %%python2  %%python3  %%ruby  %%script  %%sh  %%svg  %%sx  %%system  %%time  %%timeit  %%writefile\n",
       "\n",
       "Automagic is ON, % prefix IS NOT needed for line magics."
      ]
     },
     "execution_count": 7,
     "metadata": {},
     "output_type": "execute_result"
    }
   ],
   "source": [
    "%lsmagic"
   ]
  },
  {
   "cell_type": "code",
   "execution_count": 8,
   "id": "7f772252",
   "metadata": {},
   "outputs": [
    {
     "name": "stdout",
     "output_type": "stream",
     "text": [
      "Interactive namespace is empty.\n"
     ]
    }
   ],
   "source": [
    "%who"
   ]
  },
  {
   "cell_type": "code",
   "execution_count": 9,
   "id": "7cc8325e",
   "metadata": {},
   "outputs": [
    {
     "name": "stdout",
     "output_type": "stream",
     "text": [
      "13.6 μs ± 524 ns per loop (mean ± std. dev. of 7 runs, 100,000 loops each)\n"
     ]
    }
   ],
   "source": [
    "%timeit sum(range(1000))"
   ]
  },
  {
   "cell_type": "markdown",
   "id": "4da7a6f8",
   "metadata": {},
   "source": [
    "## File Types and Saving\n",
    "\n",
    "* Files are saved as `.ipynb` (JSON format)\n",
    "* Export to PDF/HTML from *File > Download As*\n",
    "* You can checkpoint and restore notebooks anytime\n"
   ]
  },
  {
   "cell_type": "code",
   "execution_count": null,
   "id": "c099047f",
   "metadata": {},
   "outputs": [],
   "source": []
  },
  {
   "cell_type": "code",
   "execution_count": null,
   "id": "1c0ffa6c",
   "metadata": {},
   "outputs": [],
   "source": []
  }
 ],
 "metadata": {
  "kernelspec": {
   "display_name": "Python 3",
   "language": "python",
   "name": "python3"
  },
  "language_info": {
   "codemirror_mode": {
    "name": "ipython",
    "version": 3
   },
   "file_extension": ".py",
   "mimetype": "text/x-python",
   "name": "python",
   "nbconvert_exporter": "python",
   "pygments_lexer": "ipython3",
   "version": "3.12.1"
  }
 },
 "nbformat": 4,
 "nbformat_minor": 5
}
