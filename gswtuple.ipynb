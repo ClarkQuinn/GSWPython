{
 "cells": [
  {
   "cell_type": "markdown",
   "id": "afbd9a92",
   "metadata": {},
   "source": [
    "# 4.0 GSW Tuple"
   ]
  },
  {
   "cell_type": "markdown",
   "id": "a54334ba",
   "metadata": {},
   "source": [
    "A **tuple** is an **ordered**, **immutable**, and **indexable** collection in Python.  \n",
    "It is similar to a list, but **cannot be changed after creation**, making it ideal for fixed data."
   ]
  },
  {
   "cell_type": "markdown",
   "id": "11e998e6",
   "metadata": {},
   "source": [
    "## Tuple Properties"
   ]
  },
  {
   "cell_type": "markdown",
   "id": "d22004ce",
   "metadata": {},
   "source": [
    "- Ordered → Elements have a defined position.\n",
    "- Immutable → You cannot modify or delete elements.\n",
    "- Allow Duplicates → Tuples can contain repeated values.\n",
    "- Indexable → You can access elements by index."
   ]
  },
  {
   "cell_type": "markdown",
   "id": "257b2d64",
   "metadata": {},
   "source": [
    "##  Creating Tuples"
   ]
  },
  {
   "cell_type": "code",
   "execution_count": 1,
   "id": "9c89dc06",
   "metadata": {},
   "outputs": [
    {
     "name": "stdout",
     "output_type": "stream",
     "text": [
      "(1, 2, 3)\n",
      "('apple', 'banana', 'cherry')\n",
      "(4, 5, 6)\n",
      "('only',)\n"
     ]
    }
   ],
   "source": [
    "t1 = (1, 2, 3)\n",
    "t2 = (\"apple\", \"banana\", \"cherry\")\n",
    "t3 = tuple([4, 5, 6])  # Using the constructor\n",
    "\n",
    "single = (\"only\",)     # Comma required for single-element tuples!\n",
    "\n",
    "print(t1, t2, t3, single, sep=\"\\n\")"
   ]
  },
  {
   "cell_type": "markdown",
   "id": "36de9beb",
   "metadata": {},
   "source": [
    "## Accesing elements "
   ]
  },
  {
   "cell_type": "markdown",
   "id": "d037fa36",
   "metadata": {},
   "source": [
    "Tuple elements can be accessed using both positive and negative indices.  \n",
    "Negative indexing starts from the end of the tuple."
   ]
  },
  {
   "cell_type": "code",
   "execution_count": null,
   "id": "17818483",
   "metadata": {},
   "outputs": [
    {
     "name": "stdout",
     "output_type": "stream",
     "text": [
      "1\n",
      "5\n"
     ]
    }
   ],
   "source": [
    "tpl = (1, 2, 3, 4, 5)\n",
    "print(tpl[0])\n",
    "print(tpl[-1])"
   ]
  },
  {
   "cell_type": "markdown",
   "id": "d75ce49d",
   "metadata": {},
   "source": [
    "##  Iterating Over a Tuple\n",
    "Tuples can be looped over using `for` loops."
   ]
  },
  {
   "cell_type": "code",
   "execution_count": 3,
   "id": "d8d77ad6",
   "metadata": {},
   "outputs": [
    {
     "name": "stdout",
     "output_type": "stream",
     "text": [
      "1\n",
      "2\n",
      "3\n",
      "4\n",
      "5\n"
     ]
    }
   ],
   "source": [
    "for i in tpl:\n",
    "    print(i)"
   ]
  },
  {
   "cell_type": "markdown",
   "id": "7262c71f",
   "metadata": {},
   "source": [
    "##  Unpacking Tuple"
   ]
  },
  {
   "cell_type": "code",
   "execution_count": 6,
   "id": "aac4ee75",
   "metadata": {},
   "outputs": [
    {
     "name": "stdout",
     "output_type": "stream",
     "text": [
      "1\n",
      "2\n",
      "3\n"
     ]
    }
   ],
   "source": [
    "\n",
    "a,b,c = (1 , 2, 3)\n",
    "print(a)\n",
    "print(b)\n",
    "print(c)"
   ]
  },
  {
   "cell_type": "markdown",
   "id": "f9ec766f",
   "metadata": {},
   "source": [
    "## Join tuples"
   ]
  },
  {
   "cell_type": "code",
   "execution_count": 7,
   "id": "b560fa2a",
   "metadata": {},
   "outputs": [
    {
     "name": "stdout",
     "output_type": "stream",
     "text": [
      "(1, 2, 3)\n",
      "('apple', 'banana', 'cherry')\n",
      "(1, 2, 3, 'apple', 'banana', 'cherry')\n"
     ]
    }
   ],
   "source": [
    "\n",
    "t4 = t1 + t2\n",
    "print(t1)\n",
    "print(t2)\n",
    "print(t4)"
   ]
  },
  {
   "cell_type": "markdown",
   "id": "727ae558",
   "metadata": {},
   "source": [
    "## Repetition in tuple"
   ]
  },
  {
   "cell_type": "code",
   "execution_count": 8,
   "id": "869959bd",
   "metadata": {},
   "outputs": [
    {
     "name": "stdout",
     "output_type": "stream",
     "text": [
      "(1, 2, 3, 1, 2, 3, 1, 2, 3)\n"
     ]
    }
   ],
   "source": [
    "t5 = (t1)*3\n",
    "print(t5)"
   ]
  },
  {
   "cell_type": "markdown",
   "id": "4d116979",
   "metadata": {},
   "source": [
    "## Functions to Process Tuples"
   ]
  },
  {
   "cell_type": "markdown",
   "id": "25f9462b",
   "metadata": {},
   "source": [
    "\n",
    "\n",
    "\n",
    "\n",
    "\n",
    "| Function      | Example                | Description                                                                 |\n",
    "|---------------|------------------------|-----------------------------------------------------------------------------|\n",
    "| len()       | len(tpl)             | Returns the number of elements in the tuple.                               |\n",
    "| min()       | min(tpl)             | Returns the smallest element in the tuple.                                 |\n",
    "| max()       | max(tpl)             | Returns the largest element in the tuple.                                  |\n",
    "| count()     | tpl.count(x)         | Returns the number of times x appears in the tuple.                      |\n",
    "| index()     | tpl.index(x)         | Returns the index of the first occurrence of x. Raises ValueError if not found. |\n",
    "| sorted()    | sorted(tpl)          | Returns a *new list* with tuple elements sorted in ascending order.      |\n",
    "|               | sorted(tpl, reverse=True) | Sorts the tuple elements in descending order.                        |\n",
    "\n"
   ]
  },
  {
   "cell_type": "code",
   "execution_count": 9,
   "id": "2d0190ea",
   "metadata": {},
   "outputs": [
    {
     "name": "stdout",
     "output_type": "stream",
     "text": [
      "6\n",
      "1\n",
      "9\n",
      "2\n",
      "2\n",
      "[1, 2, 2, 4, 7, 9]\n",
      "[9, 7, 4, 2, 2, 1]\n"
     ]
    }
   ],
   "source": [
    "tpl = (4, 2, 7, 2, 9, 1)\n",
    "\n",
    "print(len(tpl))           # 6\n",
    "print(min(tpl))           # 1\n",
    "print(max(tpl))           # 9\n",
    "print(tpl.count(2))       # 2\n",
    "print(tpl.index(7))       # 2\n",
    "print(sorted(tpl))        # [1, 2, 2, 4, 7, 9]\n",
    "print(sorted(tpl, reverse=True))  # [9, 7, 4, 2, 2, 1]"
   ]
  },
  {
   "cell_type": "markdown",
   "id": "c9ebaa23",
   "metadata": {},
   "source": [
    "## Slicing "
   ]
  },
  {
   "cell_type": "markdown",
   "id": "cfe64b4a",
   "metadata": {},
   "source": [
    "\n",
    "Tuple slicing is used to extract a **subset** of elements from a tuple.  \n",
    "The syntax is the same as list slicing: `tuple[start:stop:step]`\n",
    "\n",
    "- `start`: The index to begin the slice (inclusive)\n",
    "- `stop`: The index to end the slice (exclusive)\n",
    "- `step`: The stride or interval between elements (optional)\n",
    "\n",
    "If omitted:\n",
    "- `start` defaults to `0`\n",
    "- `stop` defaults to the length of the tuple\n",
    "- `step` defaults to `1`"
   ]
  },
  {
   "cell_type": "code",
   "execution_count": 12,
   "id": "0aee61f4",
   "metadata": {},
   "outputs": [
    {
     "name": "stdout",
     "output_type": "stream",
     "text": [
      "(45, 85, 98, 89, 58, 23)\n",
      "(85, 98, 89, 58)\n",
      "(98, 89, 58, 23, 11)\n",
      "(45, 85, 98, 89)\n",
      "(58, 23, 11)\n",
      "(11, 23, 58, 89, 98, 85, 45)\n",
      "(45, 98, 58, 11)\n",
      "(85, 89)\n"
     ]
    }
   ],
   "source": [
    "darshan = (45, 85, 98, 89, 58, 23, 11)\n",
    "print(darshan[0:6])\n",
    "print(darshan[1:5])  # Slicing from index 1 to 4\n",
    "print(darshan[2:])   # Slicing from index 2 to the end\n",
    "print(darshan[:4])   # Slicing from the start to index 3\n",
    "print(darshan[-3:])  # Last three elements\n",
    "print(darshan[::-1])  # Reversing the tuple\n",
    "print(darshan[::2])  # Every second element\n",
    "print(darshan[1:5:2])  # Slicing with step, from index 1 to 4, every second element"
   ]
  },
  {
   "cell_type": "markdown",
   "id": "1eb0aab4",
   "metadata": {},
   "source": [
    "- Slicing *does not modify* the original tuple.\n",
    "- Negative indices can be used to slice from the end.\n",
    "- You can use slicing to *reverse a tuple*, skip elements, or extract sub-tuples.\n",
    "\n",
    "Tuple slicing is a safe way to work with portions of data — perfect for immutable collections."
   ]
  },
  {
   "cell_type": "markdown",
   "id": "86b3c899",
   "metadata": {},
   "source": [
    "## Nested Tuple"
   ]
  },
  {
   "cell_type": "markdown",
   "id": "4c10656a",
   "metadata": {},
   "source": [
    "A tuple inserted inside another tuple is called nested tuple."
   ]
  },
  {
   "cell_type": "code",
   "execution_count": 14,
   "id": "13c57997",
   "metadata": {},
   "outputs": [
    {
     "name": "stdout",
     "output_type": "stream",
     "text": [
      "(50, 60, 70, 80, 90, (200, 201))\n"
     ]
    }
   ],
   "source": [
    "tpl = (50,60,70,80,90, (200, 201))\n",
    "print(tpl)"
   ]
  },
  {
   "cell_type": "markdown",
   "id": "015d33c7",
   "metadata": {},
   "source": [
    "## Nesting of tuples"
   ]
  },
  {
   "cell_type": "code",
   "execution_count": 13,
   "id": "c544af7a",
   "metadata": {},
   "outputs": [
    {
     "name": "stdout",
     "output_type": "stream",
     "text": [
      "(20, 45, 89, 56, 75)\n",
      "(78, 63, 23, 52, 44)\n",
      "((20, 45, 89, 56, 75), (78, 63, 23, 52, 44))\n"
     ]
    }
   ],
   "source": [
    "tuple1 = (20, 45, 89, 56, 75)\n",
    "tuple2 = (78, 63, 23, 52, 44)\n",
    "tuple3 = (tuple1, tuple2)\n",
    "print(tuple1)\n",
    "print(tuple2)\n",
    "print(tuple3)"
   ]
  },
  {
   "cell_type": "markdown",
   "id": "7889d657",
   "metadata": {},
   "source": [
    "## inserting a new element into a tuple"
   ]
  },
  {
   "cell_type": "code",
   "execution_count": 15,
   "id": "e0ecf179",
   "metadata": {},
   "outputs": [
    {
     "name": "stdout",
     "output_type": "stream",
     "text": [
      "(20, 45, 89, 56, 75, 100)\n"
     ]
    }
   ],
   "source": [
    "tuple1 = (20, 45, 89, 56, 75)\n",
    "l1 = list(tuple1)  # Convert tuple to list\n",
    "l1.append(100)  # Append an element\n",
    "tuple1 = tuple(l1)  # Convert back to tuple\n",
    "print(tuple1)  # (20, 45, 89, 56, 75, 100)\n"
   ]
  },
  {
   "cell_type": "code",
   "execution_count": 17,
   "id": "0ff6e323",
   "metadata": {},
   "outputs": [
    {
     "name": "stdout",
     "output_type": "stream",
     "text": [
      "('Visnu', 'Anupama', 'Lakshmi', 'Bheeshma')\n",
      "('Visnu', 'darshan', 'Anupama', 'Lakshmi', 'Bheeshma')\n"
     ]
    }
   ],
   "source": [
    "\n",
    "names = ('Visnu', 'Anupama', 'Lakshmi', 'Bheeshma')\n",
    "print(names)\n",
    "# accept new name and position number\n",
    "lst= [input('Enter a new name: ')]\n",
    "new = tuple(lst)\n",
    "pos = int(input('Enter position no: '))\n",
    "# copy from 0th to pos-2 into another tuple names1\n",
    "names1 = names[0:pos-1]\n",
    "# concatenate new element at pos-1\n",
    "names1 = names1+new\n",
    "# concatenate the remaining elements of names from pos-1 till end\n",
    "names = names1+names[pos-1:]\n",
    "print(names)"
   ]
  },
  {
   "cell_type": "markdown",
   "id": "cf45610d",
   "metadata": {},
   "source": [
    "## modifying an existing element of a tuple"
   ]
  },
  {
   "cell_type": "code",
   "execution_count": 18,
   "id": "94657698",
   "metadata": {},
   "outputs": [
    {
     "name": "stdout",
     "output_type": "stream",
     "text": [
      "(10, 20, 30, 40, 50)\n",
      "(10, 20, 30, 40, 99)\n"
     ]
    }
   ],
   "source": [
    "\n",
    "num = (10, 20, 30, 40, 50)\n",
    "print(num)\n",
    "# accept new element and position number\n",
    "lst= [int(input('Enter a new element: '))]\n",
    "new = tuple(lst)\n",
    "pos = int(input('Enter position no: '))\n",
    "# copy from 0th to pos-2 into another tuple num1\n",
    "num1 = num[0:pos-1] \n",
    "# concatenate new element at pos-1\n",
    "num1 = num1+new\n",
    "# concatenate the remaining elements of num from pos till end\n",
    "num = num1+num[pos:]\n",
    "print(num)"
   ]
  },
  {
   "cell_type": "markdown",
   "id": "a0a2fcef",
   "metadata": {},
   "source": [
    "## deleting an element of a tuple"
   ]
  },
  {
   "cell_type": "code",
   "execution_count": 19,
   "id": "ab5c18ca",
   "metadata": {},
   "outputs": [
    {
     "name": "stdout",
     "output_type": "stream",
     "text": [
      "(10, 20, 30, 40, 50)\n",
      "(10, 20, 40, 50)\n"
     ]
    }
   ],
   "source": [
    "num = (10, 20, 30, 40, 50)\n",
    "print(num)\n",
    "# accept position number of the element to delete\n",
    "pos = int(input('Enter position no: '))\n",
    "# copy from 0th to pos-2 into another tuple num1\n",
    "num1 = num[0:pos-1]\n",
    "# concatenate the remaining elements of num from pos till end\n",
    "num = num1+num[pos:]\n",
    "print(num)"
   ]
  },
  {
   "cell_type": "code",
   "execution_count": null,
   "id": "5c70648c",
   "metadata": {},
   "outputs": [],
   "source": []
  }
 ],
 "metadata": {
  "kernelspec": {
   "display_name": "Python 3",
   "language": "python",
   "name": "python3"
  },
  "language_info": {
   "codemirror_mode": {
    "name": "ipython",
    "version": 3
   },
   "file_extension": ".py",
   "mimetype": "text/x-python",
   "name": "python",
   "nbconvert_exporter": "python",
   "pygments_lexer": "ipython3",
   "version": "3.12.1"
  }
 },
 "nbformat": 4,
 "nbformat_minor": 5
}
