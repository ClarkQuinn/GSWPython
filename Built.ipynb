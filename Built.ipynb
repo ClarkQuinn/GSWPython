{
 "cells": [
  {
   "cell_type": "markdown",
   "id": "f9f8f632",
   "metadata": {},
   "source": [
    "\n",
    "# Round function\n"
   ]
  },
  {
   "cell_type": "code",
   "execution_count": 1,
   "id": "0a728de0",
   "metadata": {},
   "outputs": [
    {
     "name": "stdout",
     "output_type": "stream",
     "text": [
      "4\n"
     ]
    }
   ],
   "source": [
    "a = 4.2564\n",
    "print(round(a))"
   ]
  },
  {
   "cell_type": "code",
   "execution_count": 2,
   "id": "67e76324",
   "metadata": {},
   "outputs": [
    {
     "data": {
      "text/plain": [
       "13"
      ]
     },
     "execution_count": 2,
     "metadata": {},
     "output_type": "execute_result"
    }
   ],
   "source": [
    "a = 12.6\n",
    "round(a)"
   ]
  },
  {
   "cell_type": "code",
   "execution_count": 5,
   "id": "0eff838e",
   "metadata": {},
   "outputs": [
    {
     "data": {
      "text/plain": [
       "45.637"
      ]
     },
     "execution_count": 5,
     "metadata": {},
     "output_type": "execute_result"
    }
   ],
   "source": [
    "a = 45.63687\n",
    "round(a,3)"
   ]
  },
  {
   "cell_type": "code",
   "execution_count": null,
   "id": "d0f800bd",
   "metadata": {},
   "outputs": [
    {
     "name": "stdout",
     "output_type": "stream",
     "text": [
      "689\n"
     ]
    }
   ],
   "source": [
    "\"\"\" Mohan buys 3 tablets cost of tablet 1 is rs. 45.46, cost of tablet 2 is rs. 68.967 , cost of tablet 3 is 574.784\"\"\"\n",
    "\n",
    "tablet_1 = 45.46\n",
    "tablet_2 = 68.967\n",
    "tablet_3 = 574.784\n",
    "\n",
    "total = tablet_1 + tablet_2 + tablet_3 \n",
    "print(round(total))"
   ]
  },
  {
   "cell_type": "code",
   "execution_count": 7,
   "id": "8e6c6a45",
   "metadata": {},
   "outputs": [
    {
     "data": {
      "text/plain": [
       "7889.565"
      ]
     },
     "execution_count": 7,
     "metadata": {},
     "output_type": "execute_result"
    }
   ],
   "source": [
    "round(7889.56454, 3)"
   ]
  },
  {
   "cell_type": "code",
   "execution_count": null,
   "id": "5f6ff2cc",
   "metadata": {},
   "outputs": [],
   "source": []
  }
 ],
 "metadata": {
  "kernelspec": {
   "display_name": "base",
   "language": "python",
   "name": "python3"
  },
  "language_info": {
   "codemirror_mode": {
    "name": "ipython",
    "version": 3
   },
   "file_extension": ".py",
   "mimetype": "text/x-python",
   "name": "python",
   "nbconvert_exporter": "python",
   "pygments_lexer": "ipython3",
   "version": "3.11.7"
  }
 },
 "nbformat": 4,
 "nbformat_minor": 5
}
