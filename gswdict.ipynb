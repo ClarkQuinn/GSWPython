{
 "cells": [
  {
   "cell_type": "markdown",
   "id": "b83a6a01",
   "metadata": {},
   "source": [
    "## 3.0 GSW Dictionaries.\n"
   ]
  },
  {
   "cell_type": "markdown",
   "id": "4232b546",
   "metadata": {},
   "source": [
    "- A dictionary reperents a group of elements arranged in the form of key value pairs. \n",
    "- In dictionary the first elements is considered as 'key' and the immediate next element is taken as its 'value'.  \n",
    "- The key and its value are seperated by the colon (:). \n",
    "- Key-values pairs are inserted in curly bracse {}. "
   ]
  },
  {
   "cell_type": "markdown",
   "id": "6486c611",
   "metadata": {},
   "source": [
    "``` python\n",
    "dict-name = {key1:value1, .... , keyn:valuen}\n",
    "```"
   ]
  },
  {
   "cell_type": "markdown",
   "id": "ec8ac84b",
   "metadata": {},
   "source": [
    "Example:\n",
    "```python\n",
    "# roll-no : name pairs\n",
    "students =\n",
    "{ \n",
    "    1 : 'Darshan'\n",
    "    2 : 'Twisha'\n",
    "    3 : 'Orin'\n",
    "    4 : 'Orius'\n",
    "    5 : 'Steve'\n",
    "}\n",
    "```"
   ]
  },
  {
   "cell_type": "markdown",
   "id": "b24c1f4b",
   "metadata": {},
   "source": [
    "- Unordered, mutable, and indexed collections of key-value pairs\n",
    "- Ideal for structured data, lookups, and fast access by keys.\n",
    "\n",
    "**Properties of keys:**\n",
    "- Unique; shouldn't be duplicated\n",
    "- Immutable data types;  i.e. strings, tuple, number"
   ]
  },
  {
   "cell_type": "markdown",
   "id": "bb88b57f",
   "metadata": {},
   "source": [
    "## 3.1 Creating a dictionary "
   ]
  },
  {
   "cell_type": "markdown",
   "id": "2068de80",
   "metadata": {},
   "source": [
    "**Empty dictionary**  \n",
    "Dictionaries can be created using curly braces `{}` or the `dict()` constructor."
   ]
  },
  {
   "cell_type": "code",
   "execution_count": 1,
   "id": "e496e693",
   "metadata": {},
   "outputs": [],
   "source": [
    "d = {}\n",
    "#or \n",
    "d = dict()"
   ]
  },
  {
   "cell_type": "markdown",
   "id": "a6381acd",
   "metadata": {},
   "source": [
    "**Dictionary with data**"
   ]
  },
  {
   "cell_type": "code",
   "execution_count": 2,
   "id": "34f91edd",
   "metadata": {},
   "outputs": [],
   "source": [
    "# Using curly braces\n",
    "person = {\"name\": \"Twisha\", \"age\": 20}\n",
    "\n",
    "# Using the dict() constructor\n",
    "person = dict(name=\"Twisha\", age=20)"
   ]
  },
  {
   "cell_type": "markdown",
   "id": "611d11c5",
   "metadata": {},
   "source": [
    "**Using dict() constructor**"
   ]
  },
  {
   "cell_type": "code",
   "execution_count": 3,
   "id": "69955316",
   "metadata": {},
   "outputs": [
    {
     "data": {
      "text/plain": [
       "{'id': 101, 'city': 'Ahmedabad'}"
      ]
     },
     "execution_count": 3,
     "metadata": {},
     "output_type": "execute_result"
    }
   ],
   "source": [
    "user = dict(id=101, city=\"Ahmedabad\")\n",
    "user"
   ]
  },
  {
   "cell_type": "markdown",
   "id": "591bd929",
   "metadata": {},
   "source": [
    "### Duplicate keys are not allowed"
   ]
  },
  {
   "cell_type": "code",
   "execution_count": 4,
   "id": "f9ab429c",
   "metadata": {},
   "outputs": [
    {
     "name": "stdout",
     "output_type": "stream",
     "text": [
      "{'Male': 'Darshan', 'Female': 'Twisha', 'Dog': 'Orius', 'Cat': 'Steve'}\n"
     ]
    }
   ],
   "source": [
    "family = {\n",
    "          \"Male\" : \"Darshan\",\n",
    "          \"Female\" : \"Twisha\",\n",
    "          \"Dog\" : \"Orin\" ,\n",
    "          \"Dog\" : \"Orius\",\n",
    "          \"Cat\" : \"Steve\"\n",
    "          }\n",
    "# The last entry for \"Dog\" will overwrite the previous one\n",
    "\n",
    "print(family)"
   ]
  },
  {
   "cell_type": "code",
   "execution_count": 5,
   "id": "770abe4a",
   "metadata": {},
   "outputs": [
    {
     "name": "stdout",
     "output_type": "stream",
     "text": [
      "{'Male': 'Darshan', 'Female': 'Twisha', 'Dog1': 'Orin', 'Dog2': 'Orius', 'Cat': 'Steve'}\n"
     ]
    }
   ],
   "source": [
    "family = {\n",
    "          \"Male\" : \"Darshan\",\n",
    "          \"Female\" : \"Twisha\",\n",
    "          \"Dog1\" : \"Orin\",\n",
    "          \"Dog2\" : \"Orius\",\n",
    "          \"Cat\" : \"Steve\"\n",
    "          }\n",
    "# The last entry for \"Dog\" will overwrite the previous one\n",
    "\n",
    "print(family)"
   ]
  },
  {
   "cell_type": "markdown",
   "id": "180cec47",
   "metadata": {},
   "source": [
    "## 3.2 Accessing and Updating Values"
   ]
  },
  {
   "cell_type": "markdown",
   "id": "c1fe83a9",
   "metadata": {},
   "source": [
    "- Values are accessed through keys"
   ]
  },
  {
   "cell_type": "code",
   "execution_count": 6,
   "id": "9c5c7f20",
   "metadata": {},
   "outputs": [
    {
     "data": {
      "text/plain": [
       "'Steve'"
      ]
     },
     "execution_count": 6,
     "metadata": {},
     "output_type": "execute_result"
    }
   ],
   "source": [
    "family[\"Cat\"]     # Access by key"
   ]
  },
  {
   "cell_type": "markdown",
   "id": "5afc683d",
   "metadata": {},
   "source": [
    "- New values can be added through new keys, and existing ones can also be updated using their keys."
   ]
  },
  {
   "cell_type": "code",
   "execution_count": 7,
   "id": "50647f22",
   "metadata": {},
   "outputs": [
    {
     "data": {
      "text/plain": [
       "{'Male': 'Darshan',\n",
       " 'Female': 'Twisha',\n",
       " 'Dog1': 'Orin',\n",
       " 'Dog2': 'Orius',\n",
       " 'Cat': 'Stevie',\n",
       " 'Fish': 'Nemo'}"
      ]
     },
     "execution_count": 7,
     "metadata": {},
     "output_type": "execute_result"
    }
   ],
   "source": [
    "family[\"Cat\"] = \"Stevie\"         # Update value\n",
    "family[\"Fish\"] = \"Nemo\"  # Add new key\n",
    "family              "
   ]
  },
  {
   "cell_type": "markdown",
   "id": "539679c1",
   "metadata": {},
   "source": [
    "- To delete the existing keys, **`del`** statement can be used."
   ]
  },
  {
   "cell_type": "code",
   "execution_count": 8,
   "id": "026de6b4",
   "metadata": {},
   "outputs": [
    {
     "data": {
      "text/plain": [
       "{'Male': 'Darshan',\n",
       " 'Female': 'Twisha',\n",
       " 'Dog1': 'Orin',\n",
       " 'Dog2': 'Orius',\n",
       " 'Cat': 'Stevie'}"
      ]
     },
     "execution_count": 8,
     "metadata": {},
     "output_type": "execute_result"
    }
   ],
   "source": [
    "del family[\"Fish\"]  # Delete key-value pair\n",
    "family"
   ]
  },
  {
   "cell_type": "markdown",
   "id": "2bb905b3",
   "metadata": {},
   "source": [
    "## 3.3 Dictionary Methods"
   ]
  },
  {
   "cell_type": "markdown",
   "id": "982d47db",
   "metadata": {},
   "source": [
    "###  Dictionary Methods \n",
    "\n",
    "| Method         | Syntax                     | Description                                                                 |\n",
    "|----------------|-----------------------------|-----------------------------------------------------------------------------|\n",
    "| `clear()`      | `d.clear()`                 | Removes all key-value pairs from dictionary `d`.                            |\n",
    "| `copy()`       | `d1 = d.copy()`             | Copies all elements from `d` into a new dictionary `d1`.                    |\n",
    "| `fromkeys()`   | `d = dict.fromkeys(s, v)`   | Creates a new dictionary with keys from sequence `s` and all values as `v`.|\n",
    "| `get()`        | `d.get(k, v)`               | Returns value of key `k`; returns `v` if key not found.                     |\n",
    "| `items()`      | `d.items()`                 | Returns a view object of all key-value pairs as tuples.                     |\n",
    "| `keys()`       | `d.keys()`                  | Returns a view object of all keys in dictionary `d`.                        |\n",
    "| `values()`     | `d.values()`                | Returns a view object of all values in dictionary `d`.                      |\n",
    "| `update()`     | `d.update(x)`               | Adds all key-value pairs from dictionary `x` to `d`.                        |\n",
    "| `pop()`        | `d.pop(k, v)`               | Removes key `k` and returns its value; returns `v` if key not found.        |\n",
    "| `setdefault()` | `d.setdefault(k, v)`        | Returns value of `k`; if not found, inserts `k:v` and returns `v`.         |\n"
   ]
  },
  {
   "cell_type": "markdown",
   "id": "7d2355be",
   "metadata": {},
   "source": [
    "### 3.3.1 Updating the dictionary"
   ]
  },
  {
   "cell_type": "markdown",
   "id": "55e9ab50",
   "metadata": {},
   "source": [
    "#### Updating a record\n",
    "\n",
    "- Updates the dictionary with key-value pairs from another dictionary.\n",
    "- `dict-name.update(new-dict)`\n",
    "- Appends contents of new dictionary to the dictionary"
   ]
  },
  {
   "cell_type": "code",
   "execution_count": 9,
   "id": "40df4706",
   "metadata": {},
   "outputs": [
    {
     "data": {
      "text/plain": [
       "{'id': 101, 'city': 'Ahmedabad', 'salary': 70000}"
      ]
     },
     "execution_count": 9,
     "metadata": {},
     "output_type": "execute_result"
    }
   ],
   "source": [
    "user.update({'salary': 70000})\n",
    "user"
   ]
  },
  {
   "cell_type": "markdown",
   "id": "b39c67f5",
   "metadata": {},
   "source": [
    "#### Deleting a value"
   ]
  },
  {
   "cell_type": "code",
   "execution_count": 10,
   "id": "ca8b8b05",
   "metadata": {},
   "outputs": [
    {
     "name": "stdout",
     "output_type": "stream",
     "text": [
      "Ahmedabad\n",
      "{'id': 101, 'salary': 70000}\n"
     ]
    }
   ],
   "source": [
    "value = user.pop('city')  \n",
    "print(value)  \n",
    "print(user)  "
   ]
  },
  {
   "cell_type": "markdown",
   "id": "54e6ca71",
   "metadata": {},
   "source": [
    "#### Clearing all values\n",
    "- `dict-name.clear()`\n",
    "- Clear the dictionary"
   ]
  },
  {
   "cell_type": "code",
   "execution_count": 11,
   "id": "08b239f8",
   "metadata": {},
   "outputs": [
    {
     "name": "stdout",
     "output_type": "stream",
     "text": [
      "User: {'id': 101, 'salary': 70000}\n",
      "User after clear: {}\n"
     ]
    }
   ],
   "source": [
    "print(\"User:\", user)\n",
    "user.clear()\n",
    "print(\"User after clear:\", user)  "
   ]
  },
  {
   "cell_type": "markdown",
   "id": "afcc9b30",
   "metadata": {},
   "source": [
    "### 3.3.2 Copy\n",
    "- `new-dict = dict-name.copy()`\n",
    "- Will copy all contents of dictionary into new dictionary\n",
    "- Changes in new dictionary won't be reflected"
   ]
  },
  {
   "cell_type": "code",
   "execution_count": 12,
   "id": "cff439f5",
   "metadata": {},
   "outputs": [
    {
     "name": "stdout",
     "output_type": "stream",
     "text": [
      "{'lang': 'Python'}\n",
      "Original: {'lang': 'Python'}\n",
      "Copy: {'lang': 'Python', 'version': 3.8}\n"
     ]
    }
   ],
   "source": [
    "original = {'lang': 'Python'}\n",
    "d1 = original.copy()\n",
    "print(d1)\n",
    "\n",
    "d1['version'] = 3.8\n",
    "print(\"Original:\", original)\n",
    "print(\"Copy:\", d1)\n"
   ]
  },
  {
   "cell_type": "markdown",
   "id": "fef89999",
   "metadata": {},
   "source": [
    "### 3.3.3 Dictionary with default values from keys\n",
    "- `dict-name = dict.fromkeys(keys, value)`\n",
    "- Generates a dictionary with specified names and assigns the vakue to every key"
   ]
  },
  {
   "cell_type": "code",
   "execution_count": 13,
   "id": "8eb534c0",
   "metadata": {},
   "outputs": [
    {
     "name": "stdout",
     "output_type": "stream",
     "text": [
      "Dictionary with default values: {'a': 0, 'b': 0, 'c': 0}\n"
     ]
    }
   ],
   "source": [
    "keys = ('a', 'b', 'c')\n",
    "default_value = 0\n",
    "d2 = dict.fromkeys(keys, default_value)\n",
    "print(\"Dictionary with default values:\", d2)"
   ]
  },
  {
   "cell_type": "markdown",
   "id": "e4756d7d",
   "metadata": {},
   "source": [
    "### 3.3.4 setdefault method:\n"
   ]
  },
  {
   "cell_type": "code",
   "execution_count": 49,
   "id": "6689a007",
   "metadata": {},
   "outputs": [
    {
     "name": "stdout",
     "output_type": "stream",
     "text": [
      "Value set for 'c': 3\n",
      "Dictionary after setdefault: {'a': 1, 'b': 2, 'c': 3}\n"
     ]
    },
    {
     "data": {
      "text/plain": [
       "3"
      ]
     },
     "execution_count": 49,
     "metadata": {},
     "output_type": "execute_result"
    }
   ],
   "source": [
    "#usage of setdefault\n",
    "d3 = {'a': 1, 'b': 2}\n",
    "value = d3.setdefault('c', 3)  # 'c' is not in d3, so it will be added\n",
    "print(\"Value set for 'c':\", value)  # Output: 3\n",
    "print(\"Dictionary after setdefault:\", d3)\n",
    "\n",
    "d3.setdefault('c', 3)"
   ]
  },
  {
   "cell_type": "markdown",
   "id": "4f74496b",
   "metadata": {},
   "source": [
    "### 3.3.5 Retrieve Information\n",
    "\n",
    "#### Retrieve particular value"
   ]
  },
  {
   "cell_type": "code",
   "execution_count": 15,
   "id": "f23c3761",
   "metadata": {},
   "outputs": [
    {
     "data": {
      "text/plain": [
       "'Stevie'"
      ]
     },
     "execution_count": 15,
     "metadata": {},
     "output_type": "execute_result"
    }
   ],
   "source": [
    "family.get(\"Cat\")"
   ]
  },
  {
   "cell_type": "markdown",
   "id": "a456e7f6",
   "metadata": {},
   "source": [
    "#### Get key-value pairs"
   ]
  },
  {
   "cell_type": "code",
   "execution_count": 16,
   "id": "3b73c839",
   "metadata": {},
   "outputs": [
    {
     "data": {
      "text/plain": [
       "dict_items([('Male', 'Darshan'), ('Female', 'Twisha'), ('Dog1', 'Orin'), ('Dog2', 'Orius'), ('Cat', 'Stevie')])"
      ]
     },
     "execution_count": 16,
     "metadata": {},
     "output_type": "execute_result"
    }
   ],
   "source": [
    "family.items()"
   ]
  },
  {
   "cell_type": "markdown",
   "id": "2d826b00",
   "metadata": {},
   "source": [
    "#### Get keys\n"
   ]
  },
  {
   "cell_type": "code",
   "execution_count": 17,
   "id": "8bfca755",
   "metadata": {},
   "outputs": [
    {
     "data": {
      "text/plain": [
       "dict_keys(['Male', 'Female', 'Dog1', 'Dog2', 'Cat'])"
      ]
     },
     "execution_count": 17,
     "metadata": {},
     "output_type": "execute_result"
    }
   ],
   "source": [
    "family.keys()"
   ]
  },
  {
   "cell_type": "markdown",
   "id": "dab4f410",
   "metadata": {},
   "source": [
    "#### Get values"
   ]
  },
  {
   "cell_type": "code",
   "execution_count": 18,
   "id": "70f1192b",
   "metadata": {},
   "outputs": [
    {
     "data": {
      "text/plain": [
       "dict_values(['Darshan', 'Twisha', 'Orin', 'Orius', 'Stevie'])"
      ]
     },
     "execution_count": 18,
     "metadata": {},
     "output_type": "execute_result"
    }
   ],
   "source": [
    "family.values()"
   ]
  },
  {
   "cell_type": "markdown",
   "id": "a3e763a0",
   "metadata": {},
   "source": [
    "## 3.4 Itertaing through the Dictionaries\n",
    "- Use for loop to iterate through keys, values, or both:"
   ]
  },
  {
   "cell_type": "code",
   "execution_count": 19,
   "id": "e72761ae",
   "metadata": {},
   "outputs": [
    {
     "name": "stdout",
     "output_type": "stream",
     "text": [
      "Family through Keys:\n",
      "Male : Darshan\n",
      "Female : Twisha\n",
      "Dog1 : Orin\n",
      "Dog2 : Orius\n",
      "Cat : Stevie\n",
      "\n",
      "Family through Values:\n",
      "Darshan\n",
      "Twisha\n",
      "Orin\n",
      "Orius\n",
      "Stevie\n",
      "\n",
      "Family through items (Keys and Values):\n",
      "Male = Darshan\n",
      "Female = Twisha\n",
      "Dog1 = Orin\n",
      "Dog2 = Orius\n",
      "Cat = Stevie\n"
     ]
    }
   ],
   "source": [
    "print(\"Family through Keys:\")\n",
    "for key in family:\n",
    "    print(key, \":\", family[key])\n",
    "\n",
    "print(\"\\nFamily through Values:\")\n",
    "for value in family.values():\n",
    "    print(value)\n",
    "\n",
    "print(\"\\nFamily through items (Keys and Values):\")\n",
    "for k, v in family.items():\n",
    "    print(f\"{k} = {v}\")"
   ]
  },
  {
   "cell_type": "markdown",
   "id": "bfe62f1b",
   "metadata": {},
   "source": [
    "## 3.5 Dictionary Operations"
   ]
  },
  {
   "cell_type": "markdown",
   "id": "1181152d",
   "metadata": {},
   "source": [
    "### 3.5.1 Check if a key exists\n",
    "\n",
    " Membership: `in` / `not in`"
   ]
  },
  {
   "cell_type": "code",
   "execution_count": 20,
   "id": "fe7559d7",
   "metadata": {},
   "outputs": [
    {
     "name": "stdout",
     "output_type": "stream",
     "text": [
      "Dog1 is in the family dictionary\n"
     ]
    }
   ],
   "source": [
    "if \"Dog1\" in family:\n",
    "    print(\"Dog1 is in the family dictionary\")\n",
    "else:\n",
    "    print(\"Dog1 is not in the family dictionary\")"
   ]
  },
  {
   "cell_type": "markdown",
   "id": "594dca02",
   "metadata": {},
   "source": [
    "### 3.5.2 Dictonary Length "
   ]
  },
  {
   "cell_type": "code",
   "execution_count": 21,
   "id": "0e2f8c50",
   "metadata": {},
   "outputs": [
    {
     "name": "stdout",
     "output_type": "stream",
     "text": [
      "5\n"
     ]
    }
   ],
   "source": [
    "print(len(family))  # Output: 5"
   ]
  },
  {
   "cell_type": "markdown",
   "id": "5933f3f4",
   "metadata": {},
   "source": [
    "### 3.5.3 Merging Dictionaries"
   ]
  },
  {
   "cell_type": "code",
   "execution_count": 22,
   "id": "bc1f4e88",
   "metadata": {},
   "outputs": [],
   "source": [
    "d1 = {\"a\": 1, \"b\": 2}\n",
    "d2 = {\"b\": 20, \"c\": 3}"
   ]
  },
  {
   "cell_type": "markdown",
   "id": "6b93bfd1",
   "metadata": {},
   "source": [
    "Using `{**d1, **d2}` (creates a new dict)"
   ]
  },
  {
   "cell_type": "code",
   "execution_count": 23,
   "id": "4d5db2a1",
   "metadata": {},
   "outputs": [
    {
     "name": "stdout",
     "output_type": "stream",
     "text": [
      "{'a': 1, 'b': 20, 'c': 3}\n"
     ]
    }
   ],
   "source": [
    "d3 = {**d1, **d2}\n",
    "print(d3)  # Output: {'a': 1, 'b': 20, 'c': 3}"
   ]
  },
  {
   "cell_type": "markdown",
   "id": "ac5db9f5",
   "metadata": {},
   "source": [
    "Using `|` operator (Python 3.9+)"
   ]
  },
  {
   "cell_type": "code",
   "execution_count": 24,
   "id": "10ae43cb",
   "metadata": {},
   "outputs": [
    {
     "name": "stdout",
     "output_type": "stream",
     "text": [
      "{'a': 1, 'b': 20, 'c': 3}\n"
     ]
    }
   ],
   "source": [
    "d3 = d1 | d2\n",
    "print(d3)"
   ]
  },
  {
   "cell_type": "markdown",
   "id": "a532de45",
   "metadata": {},
   "source": [
    "### 3.5.4 Comparing Dictionaries\n",
    "\n",
    "Check equality"
   ]
  },
  {
   "cell_type": "code",
   "execution_count": 25,
   "id": "2650c5d2",
   "metadata": {},
   "outputs": [
    {
     "name": "stdout",
     "output_type": "stream",
     "text": [
      "True\n"
     ]
    }
   ],
   "source": [
    "d1 = {\"a\": 1, \"b\": 2}\n",
    "d2 = {\"b\": 2, \"a\": 1}\n",
    "\n",
    "print(d1 == d2)  # True (order doesn’t matter)"
   ]
  },
  {
   "cell_type": "markdown",
   "id": "b39813e4",
   "metadata": {},
   "source": [
    "Compare keys and values separately"
   ]
  },
  {
   "cell_type": "code",
   "execution_count": 26,
   "id": "ba8b8d28",
   "metadata": {},
   "outputs": [
    {
     "name": "stdout",
     "output_type": "stream",
     "text": [
      "True\n",
      "False\n"
     ]
    }
   ],
   "source": [
    "\n",
    "print(d1.keys() == d2.keys())\n",
    "print(d1.values() == d2.values())"
   ]
  },
  {
   "cell_type": "markdown",
   "id": "153b466c",
   "metadata": {},
   "source": [
    "## 3.5.5 Set Operations on Keys\n",
    "\n",
    "* Find common keys\n",
    "* Find differences\n"
   ]
  },
  {
   "cell_type": "code",
   "execution_count": 27,
   "id": "c84ece3f",
   "metadata": {},
   "outputs": [
    {
     "name": "stdout",
     "output_type": "stream",
     "text": [
      "d1: {'a': 1, 'b': 2, 'c': 3}, \n",
      "d2: {'b': 2, 'c': 30, 'd': 4}\n",
      "Common keys: {'b', 'c'}\n",
      "Keys in d1 but not in d2: {'a'}\n",
      "Keys in d1 but not in d2: {'a', 'd'}\n"
     ]
    }
   ],
   "source": [
    "d1 = {\"a\": 1, \"b\": 2, \"c\": 3}\n",
    "d2 = {\"b\": 2, \"c\": 30, \"d\": 4}\n",
    "\n",
    "print(f\"d1: {d1}, \\nd2: {d2}\")\n",
    "# Common keys\n",
    "print(\"Common keys:\", d1.keys() & d2.keys())  # {'b', 'c'}\n",
    "\n",
    "# Keys in d1 but not in d2\n",
    "print(\"Keys in d1 but not in d2:\",d1.keys() - d2.keys())  # {'a'}\n",
    "\n",
    "# Key differences\n",
    "print(\"Keys in d1 but not in d2:\",d1.keys() ^ d2.keys())  # {'a', 'd'}"
   ]
  },
  {
   "cell_type": "markdown",
   "id": "1fbbdc76",
   "metadata": {},
   "source": [
    "## 3.6 Multidimensional Dictionary \n",
    "\n",
    "- When values of a dictionaries have another dictionary in it.\n",
    "- Nested dictionary\n",
    "\n",
    "```python\n",
    "students = {\n",
    "    101: {\"name\": \"Twisha\", \"age\": 20, \"course\": \"CS\"},\n",
    "    102: {\"name\": \"Darshan\", \"age\": 21, \"course\": \"DA\"},\n",
    "    103: {\"name\": \"Shraddha\", \"age\": 22, \"course\": \"EC\"}\n",
    "}\n",
    "```"
   ]
  },
  {
   "cell_type": "code",
   "execution_count": 28,
   "id": "ab87ac5d",
   "metadata": {},
   "outputs": [
    {
     "data": {
      "text/plain": [
       "{101: {'name': 'Twisha', 'age': 20, 'course': 'CS'},\n",
       " 102: {'name': 'Darshan', 'age': 21, 'course': 'DA'},\n",
       " 103: {'name': 'Shraddha', 'age': 22, 'course': 'EC'}}"
      ]
     },
     "execution_count": 28,
     "metadata": {},
     "output_type": "execute_result"
    }
   ],
   "source": [
    "students = {\n",
    "    101: {\"name\": \"Twisha\", \"age\": 20, \"course\": \"CS\"},\n",
    "    102: {\"name\": \"Darshan\", \"age\": 21, \"course\": \"DA\"},\n",
    "    103: {\"name\": \"Shraddha\", \"age\": 22, \"course\": \"EC\"}\n",
    "}\n",
    "\n",
    "students"
   ]
  },
  {
   "cell_type": "markdown",
   "id": "9037c010",
   "metadata": {},
   "source": [
    "### 3.6.1 Accessing Nested Values"
   ]
  },
  {
   "cell_type": "code",
   "execution_count": 29,
   "id": "8d504dad",
   "metadata": {},
   "outputs": [
    {
     "name": "stdout",
     "output_type": "stream",
     "text": [
      "Twisha\n",
      "DA\n"
     ]
    }
   ],
   "source": [
    "print(students[101][\"name\"])    \n",
    "print(students[102][\"course\"])  "
   ]
  },
  {
   "cell_type": "markdown",
   "id": "6ae7938e",
   "metadata": {},
   "source": [
    "### 3.6.2 Adding new record in a dictionary"
   ]
  },
  {
   "cell_type": "code",
   "execution_count": 30,
   "id": "d79c4752",
   "metadata": {},
   "outputs": [
    {
     "data": {
      "text/plain": [
       "{101: {'name': 'Twisha', 'age': 20, 'course': 'CS'},\n",
       " 102: {'name': 'Darshan', 'age': 21, 'course': 'DA'},\n",
       " 103: {'name': 'Shraddha', 'age': 22, 'course': 'EC'},\n",
       " 104: {'name': 'Steve', 'age': 2, 'course': 'CAT'}}"
      ]
     },
     "execution_count": 30,
     "metadata": {},
     "output_type": "execute_result"
    }
   ],
   "source": [
    "students[104] = {'name': 'Steve', 'age': 2 , 'course': 'CAT'}\n",
    "students\n"
   ]
  },
  {
   "cell_type": "markdown",
   "id": "35a94d9a",
   "metadata": {},
   "source": [
    "### 3.6.3 Updating Values"
   ]
  },
  {
   "cell_type": "code",
   "execution_count": 31,
   "id": "d71cb804",
   "metadata": {},
   "outputs": [
    {
     "data": {
      "text/plain": [
       "{101: {'name': 'Twisha', 'age': 20, 'course': 'CS'},\n",
       " 102: {'name': 'Darshan', 'age': 21, 'course': 'DA'},\n",
       " 103: {'name': 'Shraddha', 'age': 20, 'course': 'EC'},\n",
       " 104: {'name': 'Steve', 'age': 2, 'course': 'CAT'}}"
      ]
     },
     "execution_count": 31,
     "metadata": {},
     "output_type": "execute_result"
    }
   ],
   "source": [
    "students[103]['age'] = 20\n",
    "students"
   ]
  },
  {
   "cell_type": "markdown",
   "id": "ff27622a",
   "metadata": {},
   "source": [
    "### 3.6.4 Deleting Elements"
   ]
  },
  {
   "cell_type": "code",
   "execution_count": 32,
   "id": "391041cf",
   "metadata": {},
   "outputs": [
    {
     "data": {
      "text/plain": [
       "{101: {'name': 'Twisha', 'age': 20, 'course': 'CS'},\n",
       " 102: {'name': 'Darshan', 'age': 21, 'course': 'DA'},\n",
       " 103: {'name': 'Shraddha', 'age': 20, 'course': 'EC'}}"
      ]
     },
     "execution_count": 32,
     "metadata": {},
     "output_type": "execute_result"
    }
   ],
   "source": [
    "del students[104]\n",
    "students"
   ]
  },
  {
   "cell_type": "markdown",
   "id": "556b2998",
   "metadata": {},
   "source": [
    "### 3.6.5 Iterating Through the Data"
   ]
  },
  {
   "cell_type": "code",
   "execution_count": 33,
   "id": "275b2f84",
   "metadata": {},
   "outputs": [
    {
     "name": "stdout",
     "output_type": "stream",
     "text": [
      "ID: 101\n",
      "  name : Twisha\n",
      "  age : 20\n",
      "  course : CS\n",
      "ID: 102\n",
      "  name : Darshan\n",
      "  age : 21\n",
      "  course : DA\n",
      "ID: 103\n",
      "  name : Shraddha\n",
      "  age : 20\n",
      "  course : EC\n"
     ]
    }
   ],
   "source": [
    "for student_id, info in students.items():\n",
    "    print(\"ID:\", student_id)\n",
    "    for key, value in info.items():\n",
    "        print(f\"  {key} : {value}\")\n"
   ]
  },
  {
   "cell_type": "code",
   "execution_count": 34,
   "id": "3667264a",
   "metadata": {},
   "outputs": [
    {
     "name": "stdout",
     "output_type": "stream",
     "text": [
      "+ ----------------------------- +\n",
      "| Roll No.| Name \t|Course |\n",
      "+ ----------------------------- +\n",
      "|101  \t  | Twisha \t| CS \t|\n",
      "|102  \t  | Darshan \t| DA \t|\n",
      "|103  \t  | Shraddha \t| EC \t|\n",
      "+ ----------------------------- +\n"
     ]
    }
   ],
   "source": [
    "print(\"+\",\"-\"*29, \"+\")\n",
    "print(\"| Roll No.| Name \\t|Course |\")\n",
    "print(\"+\",\"-\"*29, \"+\")\n",
    "for i in students.keys():\n",
    "    print(f\"|{i}  \\t  | {students[i]['name']} \\t| {students[i]['course']} \\t|\")\n",
    "print(\"+\",\"-\"*29, \"+\")"
   ]
  },
  {
   "cell_type": "markdown",
   "id": "d18d83a6",
   "metadata": {},
   "source": [
    "## 3.7 Dictionary Comprehensions"
   ]
  },
  {
   "cell_type": "markdown",
   "id": "243b4e3d",
   "metadata": {},
   "source": [
    "Dictionary comprehensions allow for concise creation of dictionaries using a single line of code. \n",
    "\n",
    "\n"
   ]
  },
  {
   "cell_type": "markdown",
   "id": "dc4bcb14",
   "metadata": {},
   "source": [
    "```python\n",
    "{key_expr: value_expr for item in iterable if condition}\n",
    "```"
   ]
  },
  {
   "cell_type": "code",
   "execution_count": 35,
   "id": "0d9186d9",
   "metadata": {},
   "outputs": [
    {
     "data": {
      "text/plain": [
       "{1: 1, 2: 4, 3: 9, 4: 16, 5: 25}"
      ]
     },
     "execution_count": 35,
     "metadata": {},
     "output_type": "execute_result"
    }
   ],
   "source": [
    "squares = {x: x**2 for x in range(1,6)}\n",
    "squares"
   ]
  },
  {
   "cell_type": "markdown",
   "id": "cb5fc6e8",
   "metadata": {},
   "source": [
    "### 3.7.1 Conditional Comprehensions"
   ]
  },
  {
   "cell_type": "code",
   "execution_count": 36,
   "id": "d33da424",
   "metadata": {},
   "outputs": [
    {
     "data": {
      "text/plain": [
       "{2: 8, 4: 64, 6: 216, 8: 512, 10: 1000}"
      ]
     },
     "execution_count": 36,
     "metadata": {},
     "output_type": "execute_result"
    }
   ],
   "source": [
    "even_cubes = {x: x**3 for x in range(1, 11) if x % 2 == 0}\n",
    "even_cubes"
   ]
  },
  {
   "cell_type": "markdown",
   "id": "bfff2394",
   "metadata": {},
   "source": [
    "### 3.7.2 Nested Comprehensions"
   ]
  },
  {
   "cell_type": "code",
   "execution_count": 37,
   "id": "d33da424",
   "metadata": {},
   "outputs": [
    {
     "data": {
      "text/plain": [
       "{1: {1: 1, 2: 2, 3: 3}, 2: {1: 2, 2: 4, 3: 6}, 3: {1: 3, 2: 6, 3: 9}}"
      ]
     },
     "execution_count": 37,
     "metadata": {},
     "output_type": "execute_result"
    }
   ],
   "source": [
    "# Nested dictionary comprehension\n",
    "nested_dict = {x: {y: x * y for y in range(1, 4)} for x in range(1, 4)}\n",
    "nested_dict"
   ]
  },
  {
   "cell_type": "code",
   "execution_count": 38,
   "id": "6b6fea9a",
   "metadata": {},
   "outputs": [
    {
     "name": "stdout",
     "output_type": "stream",
     "text": [
      "{(0, 0): 1, (0, 1): 2, (0, 2): 3, (1, 0): 4, (1, 1): 5, (1, 2): 6, (2, 0): 7, (2, 1): 8, (2, 2): 9}\n"
     ]
    }
   ],
   "source": [
    "matrix = [[1, 2, 3], [4, 5, 6], [7, 8, 9]]\n",
    "final_dct = {(i, j): matrix[i][j] for i in range(3) for j in range(3)}\n",
    "print(final_dct)"
   ]
  },
  {
   "cell_type": "markdown",
   "id": "872c53f6",
   "metadata": {},
   "source": [
    "### 3.7.3 Special Keys with Strings\n",
    "\n",
    "Can create keys dynamically by including expressions or strings in the key."
   ]
  },
  {
   "cell_type": "code",
   "execution_count": 39,
   "id": "981f4b97",
   "metadata": {},
   "outputs": [
    {
     "name": "stdout",
     "output_type": "stream",
     "text": [
      "{'num_1': 1, 'num_2': 2, 'num_3': 3, 'num_4': 4, 'num_5': 5, 'num_6': 6, 'num_7': 7, 'num_8': 8, 'num_9': 9, 'num_10': 10}\n"
     ]
    }
   ],
   "source": [
    "dct = {'num_' + str(i): i for i in range(1, 11)}\n",
    "print(dct)"
   ]
  },
  {
   "cell_type": "markdown",
   "id": "82c36d56",
   "metadata": {},
   "source": [
    "### 3.7.4 Shortlisting Based on Values\n",
    "Can also filter dictionary items based on their values using dictionary comprehension."
   ]
  },
  {
   "cell_type": "code",
   "execution_count": 40,
   "id": "340d8b97",
   "metadata": {},
   "outputs": [
    {
     "name": "stdout",
     "output_type": "stream",
     "text": [
      "{'num_3': 3, 'num_6': 6, 'num_9': 9}\n"
     ]
    }
   ],
   "source": [
    "#select only those key-value pairs where the value is divisible by 3.\n",
    "dct = {'num_' + str(i): i for i in range(1, 11)}\n",
    "dct = {k: v for k, v in dct.items() if v % 3 == 0}\n",
    "print(dct)"
   ]
  },
  {
   "cell_type": "markdown",
   "id": "250eef14",
   "metadata": {},
   "source": [
    "# 3.8 Typecasting to and from Dictionaries\n",
    "- Converting other data types to dictionaries and vice versa.\n",
    "- **From List of Tuples**: `dict([('a', 1), ('b', 2)])` creates a dictionary from a list of key-value tuples.\n",
    "- **From List of Lists**: `dict([['a', 1], ['b', 2]])` creates a dictionary from a list of lists.\n",
    "- **From JSON**: `json.loads(json_string)` converts a JSON string to a dictionary.\n",
    "- **To JSON**: `json.dumps(dict_name)` converts a dictionary to a JSON string.\n",
    "- **From String**: `dict(zip(keys, values))` creates a dictionary from two lists (keys and values).\n",
    "- **To String**: `str(dict_name)` converts a dictionary to a string representation.\n",
    "- **From Set**: `dict.fromkeys(set, value)` creates a dictionary with keys from a set and a default value.\n",
    "- **To Set**: `set(dict_name.keys())` creates a set from the keys of a dictionary.\n",
    "\n"
   ]
  },
  {
   "cell_type": "markdown",
   "id": "8edacf27",
   "metadata": {},
   "source": [
    "### 3.7.1 From List"
   ]
  },
  {
   "cell_type": "code",
   "execution_count": 41,
   "id": "6d26334d",
   "metadata": {},
   "outputs": [
    {
     "name": "stdout",
     "output_type": "stream",
     "text": [
      "['Apple', 'Banana', 'Grapes']\n",
      "{'Apple': 5, 'Banana': 6, 'Grapes': 6}\n"
     ]
    }
   ],
   "source": [
    "lst = ['Apple', 'Banana', 'Grapes']\n",
    "dct = {item: len(item) for item in lst}\n",
    "print(lst)\n",
    "print(dct)"
   ]
  },
  {
   "cell_type": "code",
   "execution_count": 42,
   "id": "06fb4f36",
   "metadata": {},
   "outputs": [
    {
     "name": "stdout",
     "output_type": "stream",
     "text": [
      "{5: 'Apple', 6: 'Grapes'}\n"
     ]
    }
   ],
   "source": [
    "dct = {len(item): item for item in lst}\n",
    "print(dct)"
   ]
  },
  {
   "cell_type": "code",
   "execution_count": 43,
   "id": "ce59a956",
   "metadata": {},
   "outputs": [
    {
     "name": "stdout",
     "output_type": "stream",
     "text": [
      "COUNTRY         -- CAPITAL        \n",
      "USA             -- Washington     \n",
      "India           -- New Delhi      \n",
      "Germany         -- Berlin         \n",
      "France          -- Paris          \n"
     ]
    }
   ],
   "source": [
    "# converting lists into a dictionary\n",
    "# take two separate lists with elements\n",
    "countries = [\"USA\", \"India\", \"Germany\", \"France\"]\n",
    "cities = ['Washington', 'New Delhi', 'Berlin', 'Paris']\n",
    "# make a dictionary\n",
    "z = zip(countries, cities)\n",
    "d = dict(z)\n",
    "# display key - value pairs from dictionary d\n",
    "print('{:15s} -- {:15s}'.format('COUNTRY', 'CAPITAL'))\n",
    "for k in d:\n",
    " print('{:15s} -- {:15s}'.format(k, d[k]))"
   ]
  },
  {
   "cell_type": "markdown",
   "id": "d776462e",
   "metadata": {},
   "source": [
    "### 3.7.2 From list of Tuples"
   ]
  },
  {
   "cell_type": "code",
   "execution_count": 44,
   "id": "d45d1db7",
   "metadata": {},
   "outputs": [
    {
     "name": "stdout",
     "output_type": "stream",
     "text": [
      "Dictionary from list of tuples: {'a': 1, 'b': 2, 'c': 3}\n"
     ]
    }
   ],
   "source": [
    "# Using dict() with a list of tuples\n",
    "\n",
    "d = dict([('a', 1), ('b', 2), ('c', 3)])\n",
    "print(\"Dictionary from list of tuples:\", d)"
   ]
  },
  {
   "cell_type": "code",
   "execution_count": 45,
   "id": "b234e2ff",
   "metadata": {},
   "outputs": [
    {
     "name": "stdout",
     "output_type": "stream",
     "text": [
      "Merged dictionary: {'a': 1, 'b': 20, 'c': 3}\n"
     ]
    }
   ],
   "source": [
    "# Merging dictionaries using zip\n",
    "d1 = {'a': 1, 'b': 2}\n",
    "d2 = {'b': 20, 'c': 3}\n",
    "d_merged = dict(zip(d1.keys(), d1.values()))  # Start with d1\n",
    "for key, value in d2.items():\n",
    "    d_merged[key] = value  # Add or update keys from d2\n",
    "print(\"Merged dictionary:\", d_merged)\n"
   ]
  },
  {
   "cell_type": "markdown",
   "id": "8d3474e3",
   "metadata": {},
   "source": [
    "### 3.7.3 From Strings"
   ]
  },
  {
   "cell_type": "code",
   "execution_count": 46,
   "id": "ee7c2738",
   "metadata": {},
   "outputs": [
    {
     "name": "stdout",
     "output_type": "stream",
     "text": [
      "{'Bologna': 23, 'Siraf': 20, 'Miera': 19, 'Caine': 22}\n"
     ]
    }
   ],
   "source": [
    "# converting a string into a dictionary\n",
    "# take a string\n",
    "string = \"Bologna=23,Siraf=20,Miera=19,Caine=22\"\n",
    "# brake the string at ',' and then at '='\n",
    "# store the pieces into a list lst\n",
    "lst=[]\n",
    "for x in string.split(','):\n",
    "    y= x.split('=')\n",
    "    lst.append(y)\n",
    "# convert the list into dictionary 'd'\n",
    "# but this 'd' will have both name and age as strings\n",
    "d = dict(lst)\n",
    "# create a new dictionary 'd1' with name as string\n",
    "# and age as integer\n",
    "d1={}\n",
    "for k, v in d.items():\n",
    "    d1[k] = int(v)\n",
    "# display the final dictionary\n",
    "print(d1)"
   ]
  },
  {
   "cell_type": "markdown",
   "id": "3c58ded0",
   "metadata": {},
   "source": [
    "### 3.7.4 From Dictionary to Other Data Types"
   ]
  },
  {
   "cell_type": "code",
   "execution_count": 47,
   "id": "426f5a96",
   "metadata": {},
   "outputs": [
    {
     "name": "stdout",
     "output_type": "stream",
     "text": [
      "List of tuples from dictionary: [('a', 1), ('b', 2), ('c', 3)]\n",
      "List of keys from dictionary: ['a', 'b', 'c']\n",
      "List of values from dictionary: [1, 2, 3]\n",
      "Set of keys from dictionary: {'c', 'b', 'a'}\n",
      "Set of tuples from dictionary: {('c', 3), ('a', 1), ('b', 2)}\n",
      "Set of values from dictionary: {1, 2, 3}\n",
      "String from dictionary: {'a': 1, 'b': 2, 'c': 3}\n"
     ]
    }
   ],
   "source": [
    "# typecasting from dictionary \n",
    "# to a list of tuples\n",
    "d = {'a': 1, 'b': 2, 'c': 3}\n",
    "lst_of_tuples = list(d.items())\n",
    "print(\"List of tuples from dictionary:\", lst_of_tuples)\n",
    "\n",
    "# typecasting from dictionary\n",
    "# to a list of keys\n",
    "lst_of_keys = list(d.keys())\n",
    "print(\"List of keys from dictionary:\", lst_of_keys)\n",
    "\n",
    "# typecasting from dictionary\n",
    "# to a list of values\n",
    "lst_of_values = list(d.values())\n",
    "print(\"List of values from dictionary:\", lst_of_values)\n",
    "\n",
    "# typecasting from dictionary to a set\n",
    "set_of_keys = set(d.keys())\n",
    "print(\"Set of keys from dictionary:\", set_of_keys)\n",
    "\n",
    "# typecasting from dictionary to a set of tuples\n",
    "set_of_tuples = set(d.items())\n",
    "print(\"Set of tuples from dictionary:\", set_of_tuples)\n",
    "\n",
    "# typecasting from dictionary to a set of values\n",
    "set_of_values = set(d.values())\n",
    "print(\"Set of values from dictionary:\", set_of_values)\n",
    "\n",
    "\n",
    "# typecasting from dictionary to a string\n",
    "str_from_dict = str(d)\n",
    "print(\"String from dictionary:\", str_from_dict)\n"
   ]
  },
  {
   "cell_type": "markdown",
   "id": "1b04be13",
   "metadata": {},
   "source": [
    "## 3.8 Ordered Dictionaries\n",
    "- Python 3.7+ maintains insertion order by default.\n",
    "- For explicit order preservation, use `collections.OrderedDict`.\n",
    "- `OrderedDict` allows for maintaining the order of keys as they were added, even in older Python versions.\n",
    "```python\n",
    "from collections import OrderedDict\n",
    "ordered_dict = OrderedDict()\n",
    "```"
   ]
  },
  {
   "cell_type": "code",
   "execution_count": 48,
   "id": "0bafdff8",
   "metadata": {},
   "outputs": [
    {
     "name": "stdout",
     "output_type": "stream",
     "text": [
      "10 A\n",
      "11 B\n",
      "12 C\n",
      "13 D\n"
     ]
    }
   ],
   "source": [
    "# create an ordered dictionary\n",
    "from collections import OrderedDict\n",
    "d = OrderedDict() # d is ordered dictionary\n",
    "d[10] = 'A'\n",
    "d[11] = 'B'\n",
    "d[12] = 'C'\n",
    "d[13] = 'D'\n",
    "# display the ordered dictionary\n",
    "for i, j in d.items():\n",
    "    print(i, j)"
   ]
  }
 ],
 "metadata": {
  "kernelspec": {
   "display_name": "Python 3",
   "language": "python",
   "name": "python3"
  },
  "language_info": {
   "codemirror_mode": {
    "name": "ipython",
    "version": 3
   },
   "file_extension": ".py",
   "mimetype": "text/x-python",
   "name": "python",
   "nbconvert_exporter": "python",
   "pygments_lexer": "ipython3",
   "version": "3.12.1"
  }
 },
 "nbformat": 4,
 "nbformat_minor": 5
}
