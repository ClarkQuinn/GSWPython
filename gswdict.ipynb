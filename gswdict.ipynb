{
 "cells": [
  {
   "cell_type": "markdown",
   "id": "b83a6a01",
   "metadata": {},
   "source": [
    "## 3.0 GSW Dictionaries.\n"
   ]
  },
  {
   "cell_type": "markdown",
   "id": "4232b546",
   "metadata": {},
   "source": [
    "- A dictionary reperents a group of elements arranged in the form of key value pairs. \n",
    "- In dictionary the first elements is considered as 'key' and the immediate next element is taken as its 'value'.  \n",
    "- The key and its value are seperated by the colon (:). \n",
    "- Key-values pairs are inserted in curly bracse {}. "
   ]
  },
  {
   "cell_type": "markdown",
   "id": "6486c611",
   "metadata": {},
   "source": [
    "```python\n",
    "dict-name = {key1:value1, .... , keyn:valuen}\n",
    "```"
   ]
  },
  {
   "cell_type": "markdown",
   "id": "ec8ac84b",
   "metadata": {},
   "source": [
    "Example:\n",
    "```python\n",
    "# roll-no : name pairs\n",
    "students =\n",
    "{ \n",
    "    1 : 'Darshan'\n",
    "    2 : 'Twisha'\n",
    "    3 : 'Orin'\n",
    "    4 : 'Orius'\n",
    "    5 : 'Steve'\n",
    "}\n",
    "```"
   ]
  },
  {
   "cell_type": "markdown",
   "id": "b24c1f4b",
   "metadata": {},
   "source": [
    "- Unordered, mutable, and indexed collections of key-value pairs\n",
    "- Ideal for structured data, lookups, and fast access by keys.\n",
    "\n",
    "**Properties of keys:**\n",
    "- Unique; shouldn't be duplicated\n",
    "- Immutable data types;  i.e. strings, tuple, number"
   ]
  },
  {
   "cell_type": "markdown",
   "id": "bb88b57f",
   "metadata": {},
   "source": [
    "## 3.1 Creating a dictionary "
   ]
  },
  {
   "cell_type": "markdown",
   "id": "2068de80",
   "metadata": {},
   "source": [
    "**Empty dictionary**  \n",
    "Dictionaries can be created using curly braces `{}` or the `dict()` constructor."
   ]
  },
  {
   "cell_type": "code",
   "execution_count": 2,
   "id": "e496e693",
   "metadata": {},
   "outputs": [],
   "source": [
    "d = {}\n",
    "#or \n",
    "d = dict()"
   ]
  },
  {
   "cell_type": "markdown",
   "id": "a6381acd",
   "metadata": {},
   "source": [
    "**Dictionary with data**"
   ]
  },
  {
   "cell_type": "code",
   "execution_count": 3,
   "id": "34f91edd",
   "metadata": {},
   "outputs": [],
   "source": [
    "# Using curly braces\n",
    "person = {\"name\": \"Twisha\", \"age\": 20}\n",
    "\n",
    "# Using the dict() constructor\n",
    "person = dict(name=\"Twisha\", age=20)"
   ]
  },
  {
   "cell_type": "markdown",
   "id": "611d11c5",
   "metadata": {},
   "source": [
    "**Using dict() constructor**"
   ]
  },
  {
   "cell_type": "code",
   "execution_count": 4,
   "id": "69955316",
   "metadata": {},
   "outputs": [
    {
     "data": {
      "text/plain": [
       "{'id': 101, 'city': 'Ahmedabad'}"
      ]
     },
     "execution_count": 4,
     "metadata": {},
     "output_type": "execute_result"
    }
   ],
   "source": [
    "user = dict(id=101, city=\"Ahmedabad\")\n",
    "user"
   ]
  },
  {
   "cell_type": "markdown",
   "id": "591bd929",
   "metadata": {},
   "source": [
    "### Duplicate keys are not allowed"
   ]
  },
  {
   "cell_type": "code",
   "execution_count": 5,
   "id": "f9ab429c",
   "metadata": {},
   "outputs": [
    {
     "name": "stdout",
     "output_type": "stream",
     "text": [
      "{'Male': 'Darshan', 'Female': 'Twisha', 'Dog': 'Orius', 'Cat': 'Steve'}\n"
     ]
    }
   ],
   "source": [
    "family = {\n",
    "          \"Male\" : \"Darshan\",\n",
    "          \"Female\" : \"Twisha\",\n",
    "          \"Dog\" : \"Orin\" ,\n",
    "          \"Dog\" : \"Orius\",\n",
    "          \"Cat\" : \"Steve\"\n",
    "          }\n",
    "# The last entry for \"Dog\" will overwrite the previous one\n",
    "\n",
    "print(family)"
   ]
  },
  {
   "cell_type": "code",
   "execution_count": 6,
   "id": "770abe4a",
   "metadata": {},
   "outputs": [
    {
     "name": "stdout",
     "output_type": "stream",
     "text": [
      "{'Male': 'Darshan', 'Female': 'Twisha', 'Dog1': 'Orin', 'Dog2': 'Orius', 'Cat': 'Steve'}\n"
     ]
    }
   ],
   "source": [
    "family = {\n",
    "          \"Male\" : \"Darshan\",\n",
    "          \"Female\" : \"Twisha\",\n",
    "          \"Dog1\" : \"Orin\",\n",
    "          \"Dog2\" : \"Orius\",\n",
    "          \"Cat\" : \"Steve\"\n",
    "          }\n",
    "# The last entry for \"Dog\" will overwrite the previous one\n",
    "\n",
    "print(family)"
   ]
  },
  {
   "cell_type": "markdown",
   "id": "77547e3d",
   "metadata": {},
   "source": [
    "### Dictonary Length "
   ]
  },
  {
   "cell_type": "code",
   "execution_count": 7,
   "id": "fd63b6e5",
   "metadata": {},
   "outputs": [
    {
     "name": "stdout",
     "output_type": "stream",
     "text": [
      "5\n"
     ]
    }
   ],
   "source": [
    "print(len(family))  # Output: 5"
   ]
  },
  {
   "cell_type": "markdown",
   "id": "180cec47",
   "metadata": {},
   "source": [
    "## 3.2 Accessing and Updating Values"
   ]
  },
  {
   "cell_type": "markdown",
   "id": "c1fe83a9",
   "metadata": {},
   "source": [
    "- Values are accessed through keys"
   ]
  },
  {
   "cell_type": "code",
   "execution_count": 8,
   "id": "9c5c7f20",
   "metadata": {},
   "outputs": [
    {
     "data": {
      "text/plain": [
       "'Steve'"
      ]
     },
     "execution_count": 8,
     "metadata": {},
     "output_type": "execute_result"
    }
   ],
   "source": [
    "family[\"Cat\"]     # Access by key"
   ]
  },
  {
   "cell_type": "markdown",
   "id": "5afc683d",
   "metadata": {},
   "source": [
    "- New values can be added through new keys, and existing ones can also be updated using their keys."
   ]
  },
  {
   "cell_type": "code",
   "execution_count": 9,
   "id": "50647f22",
   "metadata": {},
   "outputs": [
    {
     "data": {
      "text/plain": [
       "{'Male': 'Darshan',\n",
       " 'Female': 'Twisha',\n",
       " 'Dog1': 'Orin',\n",
       " 'Dog2': 'Orius',\n",
       " 'Cat': 'Stevie',\n",
       " 'Fish': 'Nemo'}"
      ]
     },
     "execution_count": 9,
     "metadata": {},
     "output_type": "execute_result"
    }
   ],
   "source": [
    "family[\"Cat\"] = \"Stevie\"         # Update value\n",
    "family[\"Fish\"] = \"Nemo\"  # Add new key\n",
    "family              "
   ]
  },
  {
   "cell_type": "markdown",
   "id": "539679c1",
   "metadata": {},
   "source": [
    "- To delete the existing keys, **`del`** statement can be used."
   ]
  },
  {
   "cell_type": "code",
   "execution_count": 10,
   "id": "026de6b4",
   "metadata": {},
   "outputs": [
    {
     "data": {
      "text/plain": [
       "{'Male': 'Darshan',\n",
       " 'Female': 'Twisha',\n",
       " 'Dog1': 'Orin',\n",
       " 'Dog2': 'Orius',\n",
       " 'Cat': 'Stevie'}"
      ]
     },
     "execution_count": 10,
     "metadata": {},
     "output_type": "execute_result"
    }
   ],
   "source": [
    "del family[\"Fish\"]  # Delete key-value pair\n",
    "family"
   ]
  },
  {
   "cell_type": "markdown",
   "id": "2bb905b3",
   "metadata": {},
   "source": [
    "## 3.3 Dictionary Methods"
   ]
  },
  {
   "cell_type": "markdown",
   "id": "982d47db",
   "metadata": {},
   "source": [
    "###  Dictionary Methods \n",
    "\n",
    "| Method         | Syntax                     | Description                                                                 |\n",
    "|----------------|-----------------------------|-----------------------------------------------------------------------------|\n",
    "| `clear()`      | `d.clear()`                 | Removes all key-value pairs from dictionary `d`.                            |\n",
    "| `copy()`       | `d1 = d.copy()`             | Copies all elements from `d` into a new dictionary `d1`.                    |\n",
    "| `fromkeys()`   | `d = dict.fromkeys(s, v)`   | Creates a new dictionary with keys from sequence `s` and all values as `v`.|\n",
    "| `get()`        | `d.get(k, v)`               | Returns value of key `k`; returns `v` if key not found.                     |\n",
    "| `items()`      | `d.items()`                 | Returns a view object of all key-value pairs as tuples.                     |\n",
    "| `keys()`       | `d.keys()`                  | Returns a view object of all keys in dictionary `d`.                        |\n",
    "| `values()`     | `d.values()`                | Returns a view object of all values in dictionary `d`.                      |\n",
    "| `update()`     | `d.update(x)`               | Adds all key-value pairs from dictionary `x` to `d`.                        |\n",
    "| `pop()`        | `d.pop(k, v)`               | Removes key `k` and returns its value; returns `v` if key not found.        |\n",
    "| `setdefault()` | `d.setdefault(k, v)`        | Returns value of `k`; if not found, inserts `k:v` and returns `v`.         |\n"
   ]
  },
  {
   "cell_type": "markdown",
   "id": "7d2355be",
   "metadata": {},
   "source": [
    "### 3.3.1 Updating the dictionary"
   ]
  },
  {
   "cell_type": "markdown",
   "id": "55e9ab50",
   "metadata": {},
   "source": [
    "#### Updating a record\n",
    "\n",
    "- Updates the dictionary with key-value pairs from another dictionary.\n",
    "- `dict-name.update(new-dict)`\n",
    "- Appends contents of new dictionary to the dictionary"
   ]
  },
  {
   "cell_type": "code",
   "execution_count": 11,
   "id": "40df4706",
   "metadata": {},
   "outputs": [
    {
     "data": {
      "text/plain": [
       "{'id': 101, 'city': 'Ahmedabad', 'salary': 70000}"
      ]
     },
     "execution_count": 11,
     "metadata": {},
     "output_type": "execute_result"
    }
   ],
   "source": [
    "user.update({'salary': 70000})\n",
    "user"
   ]
  },
  {
   "cell_type": "markdown",
   "id": "b39c67f5",
   "metadata": {},
   "source": [
    "#### Deleting a value"
   ]
  },
  {
   "cell_type": "code",
   "execution_count": 12,
   "id": "ca8b8b05",
   "metadata": {},
   "outputs": [
    {
     "name": "stdout",
     "output_type": "stream",
     "text": [
      "Ahmedabad\n",
      "{'id': 101, 'salary': 70000}\n"
     ]
    }
   ],
   "source": [
    "value = user.pop('city')  \n",
    "print(value)  \n",
    "print(user)  "
   ]
  },
  {
   "cell_type": "markdown",
   "id": "54e6ca71",
   "metadata": {},
   "source": [
    "#### Clearing all values\n",
    "- `dict-name.clear()`\n",
    "- Clear the dictionary"
   ]
  },
  {
   "cell_type": "code",
   "execution_count": 13,
   "id": "08b239f8",
   "metadata": {},
   "outputs": [
    {
     "name": "stdout",
     "output_type": "stream",
     "text": [
      "User: {'id': 101, 'salary': 70000}\n",
      "User after clear: {}\n"
     ]
    }
   ],
   "source": [
    "print(\"User:\", user)\n",
    "user.clear()\n",
    "print(\"User after clear:\", user)  "
   ]
  },
  {
   "cell_type": "markdown",
   "id": "afcc9b30",
   "metadata": {},
   "source": [
    "### 3.3.2 Copy\n",
    "- `new-dict = dict-name.copy()`\n",
    "- Will copy all contents of dictionary into new dictionary\n",
    "- Changes in new dictionary won't be reflected"
   ]
  },
  {
   "cell_type": "code",
   "execution_count": 14,
   "id": "cff439f5",
   "metadata": {},
   "outputs": [
    {
     "name": "stdout",
     "output_type": "stream",
     "text": [
      "{'lang': 'Python'}\n",
      "Original: {'lang': 'Python'}\n",
      "Copy: {'lang': 'Python', 'version': 3.8}\n"
     ]
    }
   ],
   "source": [
    "original = {'lang': 'Python'}\n",
    "d1 = original.copy()\n",
    "print(d1)\n",
    "\n",
    "d1['version'] = 3.8\n",
    "print(\"Original:\", original)\n",
    "print(\"Copy:\", d1)\n"
   ]
  },
  {
   "cell_type": "markdown",
   "id": "fef89999",
   "metadata": {},
   "source": [
    "### 3.3.3 Dictionary with default values from keys\n",
    "- `dict-name = dict.fromkeys(keys, value)`\n",
    "- Generates a dictionary with specified names and assigns the vakue to every key"
   ]
  },
  {
   "cell_type": "code",
   "execution_count": 15,
   "id": "8eb534c0",
   "metadata": {},
   "outputs": [
    {
     "name": "stdout",
     "output_type": "stream",
     "text": [
      "Dictionary with default values: {'a': 0, 'b': 0, 'c': 0}\n"
     ]
    }
   ],
   "source": [
    "keys = ('a', 'b', 'c')\n",
    "default_value = 0\n",
    "d2 = dict.fromkeys(keys, default_value)\n",
    "print(\"Dictionary with default values:\", d2)"
   ]
  },
  {
   "cell_type": "code",
   "execution_count": 22,
   "id": "6689a007",
   "metadata": {},
   "outputs": [
    {
     "name": "stdout",
     "output_type": "stream",
     "text": [
      "Value set for 'c': 3\n",
      "Dictionary after setdefault: {'a': 1, 'b': 2, 'c': 3}\n"
     ]
    }
   ],
   "source": [
    "#usage of setdefault\n",
    "d3 = {'a': 1, 'b': 2}\n",
    "value = d3.setdefault('c', 3)  # 'c' is not in d3, so it will be added\n",
    "print(\"Value set for 'c':\", value)  # Output: 3\n",
    "print(\"Dictionary after setdefault:\", d3)"
   ]
  },
  {
   "cell_type": "markdown",
   "id": "cde632cc",
   "metadata": {},
   "source": [
    "### 3.3.4 "
   ]
  },
  {
   "cell_type": "markdown",
   "id": "4f74496b",
   "metadata": {},
   "source": [
    "### 3.3.5 Retrieve Information\n",
    "\n",
    "#### Retrieve particular value"
   ]
  },
  {
   "cell_type": "code",
   "execution_count": 16,
   "id": "f23c3761",
   "metadata": {},
   "outputs": [
    {
     "data": {
      "text/plain": [
       "'Stevie'"
      ]
     },
     "execution_count": 16,
     "metadata": {},
     "output_type": "execute_result"
    }
   ],
   "source": [
    "family.get(\"Cat\")"
   ]
  },
  {
   "cell_type": "markdown",
   "id": "a456e7f6",
   "metadata": {},
   "source": [
    "#### Get key-value pairs"
   ]
  },
  {
   "cell_type": "code",
   "execution_count": 17,
   "id": "3b73c839",
   "metadata": {},
   "outputs": [
    {
     "data": {
      "text/plain": [
       "dict_items([('Male', 'Darshan'), ('Female', 'Twisha'), ('Dog1', 'Orin'), ('Dog2', 'Orius'), ('Cat', 'Stevie')])"
      ]
     },
     "execution_count": 17,
     "metadata": {},
     "output_type": "execute_result"
    }
   ],
   "source": [
    "family.items()"
   ]
  },
  {
   "cell_type": "markdown",
   "id": "2d826b00",
   "metadata": {},
   "source": [
    "#### Get keys\n"
   ]
  },
  {
   "cell_type": "code",
   "execution_count": 18,
   "id": "8bfca755",
   "metadata": {},
   "outputs": [
    {
     "data": {
      "text/plain": [
       "dict_keys(['Male', 'Female', 'Dog1', 'Dog2', 'Cat'])"
      ]
     },
     "execution_count": 18,
     "metadata": {},
     "output_type": "execute_result"
    }
   ],
   "source": [
    "family.keys()"
   ]
  },
  {
   "cell_type": "markdown",
   "id": "dab4f410",
   "metadata": {},
   "source": [
    "#### Get values"
   ]
  },
  {
   "cell_type": "code",
   "execution_count": 19,
   "id": "70f1192b",
   "metadata": {},
   "outputs": [
    {
     "data": {
      "text/plain": [
       "dict_values(['Darshan', 'Twisha', 'Orin', 'Orius', 'Stevie'])"
      ]
     },
     "execution_count": 19,
     "metadata": {},
     "output_type": "execute_result"
    }
   ],
   "source": [
    "family.values()"
   ]
  },
  {
   "cell_type": "markdown",
   "id": "a3e763a0",
   "metadata": {},
   "source": [
    "## 3.4 Itertaing through the Dictionaries\n",
    "- Use for loop to iterate through keys, values, or both:"
   ]
  },
  {
   "cell_type": "code",
   "execution_count": 20,
   "id": "e72761ae",
   "metadata": {},
   "outputs": [
    {
     "name": "stdout",
     "output_type": "stream",
     "text": [
      "Family through Keys:\n",
      "Male : Darshan\n",
      "Female : Twisha\n",
      "Dog1 : Orin\n",
      "Dog2 : Orius\n",
      "Cat : Stevie\n",
      "\n",
      "Family through Values:\n",
      "Darshan\n",
      "Twisha\n",
      "Orin\n",
      "Orius\n",
      "Stevie\n",
      "\n",
      "Family through items (Keys and Values):\n",
      "Male = Darshan\n",
      "Female = Twisha\n",
      "Dog1 = Orin\n",
      "Dog2 = Orius\n",
      "Cat = Stevie\n"
     ]
    }
   ],
   "source": [
    "print(\"Family through Keys:\")\n",
    "for key in family:\n",
    "    print(key, \":\", family[key])\n",
    "\n",
    "print(\"\\nFamily through Values:\")\n",
    "for value in family.values():\n",
    "    print(value)\n",
    "\n",
    "print(\"\\nFamily through items (Keys and Values):\")\n",
    "for k, v in family.items():\n",
    "    print(f\"{k} = {v}\")"
   ]
  },
  {
   "cell_type": "markdown",
   "id": "bfe62f1b",
   "metadata": {},
   "source": [
    "## Check if key exist "
   ]
  },
  {
   "cell_type": "code",
   "execution_count": 21,
   "id": "fe7559d7",
   "metadata": {},
   "outputs": [
    {
     "name": "stdout",
     "output_type": "stream",
     "text": [
      "Dog1 is in the family dictionary\n"
     ]
    }
   ],
   "source": [
    "if \"Dog1\" in family:\n",
    "    print(\"Dog1 is in the family dictionary\")\n",
    "else:\n",
    "    print(\"Dog1 is not in the family dictionary\")"
   ]
  },
  {
   "cell_type": "code",
   "execution_count": null,
   "id": "bf047d1a",
   "metadata": {},
   "outputs": [],
   "source": []
  }
 ],
 "metadata": {
  "kernelspec": {
   "display_name": "Python 3",
   "language": "python",
   "name": "python3"
  },
  "language_info": {
   "codemirror_mode": {
    "name": "ipython",
    "version": 3
   },
   "file_extension": ".py",
   "mimetype": "text/x-python",
   "name": "python",
   "nbconvert_exporter": "python",
   "pygments_lexer": "ipython3",
   "version": "3.12.1"
  }
 },
 "nbformat": 4,
 "nbformat_minor": 5
}
