{
 "cells": [
  {
   "cell_type": "markdown",
   "metadata": {},
   "source": [
    "# 2.0 GSW Lists.\n",
    "\n",
    "A **list** is a value that contains multiple values in an ordered sequence.   \n",
    "**Items** are the values inside of a list, separated by commas.     \n",
    "Lists are the most used dataype in Python Language. \n",
    "\n",
    "- Mutable\n",
    "- Ordered collections of arbitrary objects\n",
    "- Accessed by offset\n",
    "- Variable length\n",
    "- Heterogeneous\n",
    "- Arbitrarily nestable\n",
    "- Arrays of object references"
   ]
  },
  {
   "cell_type": "markdown",
   "metadata": {},
   "source": [
    "## 2.1 Creating a list\n",
    "- reprsented by square brackets [..] \n",
    "- `list-name = [ o1, o2, o3 ]`"
   ]
  },
  {
   "cell_type": "code",
   "execution_count": 1,
   "metadata": {},
   "outputs": [
    {
     "name": "stdout",
     "output_type": "stream",
     "text": [
      "['Coding', 'Reading', 'Thinking', 'Dining']\n"
     ]
    }
   ],
   "source": [
    "hobbies = ['Coding', 'Reading', 'Thinking', 'Dining']\n",
    "print(hobbies) "
   ]
  },
  {
   "cell_type": "code",
   "execution_count": 2,
   "metadata": {},
   "outputs": [
    {
     "name": "stdout",
     "output_type": "stream",
     "text": [
      "[21, 'Rose', 'CSE', 30, 40, 50]\n"
     ]
    }
   ],
   "source": [
    "# creating a student_info list to store the information about the student roll no,name, course and marks scored\n",
    "Student_info = [21, 'Rose', \"CSE\", 30, 40, 50]\n",
    "print(Student_info)"
   ]
  },
  {
   "cell_type": "markdown",
   "metadata": {},
   "source": [
    "**Using list() Constructor**:\n",
    "    List by passing an iterable (like a string, tuple or another list) to list() function."
   ]
  },
  {
   "cell_type": "code",
   "execution_count": 3,
   "metadata": {},
   "outputs": [
    {
     "name": "stdout",
     "output_type": "stream",
     "text": [
      "[1, 2, 3, 'apple', 4.5]\n"
     ]
    }
   ],
   "source": [
    "# From a tuple\n",
    "a = list((1, 2, 3, 'apple', 4.5))  \n",
    "\n",
    "print(a)"
   ]
  },
  {
   "cell_type": "markdown",
   "metadata": {},
   "source": [
    "**List with Repeated Elements**:\n",
    "Create a list with repeated elements using the multiplication operator."
   ]
  },
  {
   "cell_type": "code",
   "execution_count": 4,
   "metadata": {},
   "outputs": [
    {
     "name": "stdout",
     "output_type": "stream",
     "text": [
      "[2, 2, 2, 2, 2]\n",
      "[0, 0, 0, 0, 0, 0, 0]\n"
     ]
    }
   ],
   "source": [
    "# Create a list [2, 2, 2, 2, 2]\n",
    "a = [2] * 5\n",
    "\n",
    "# Create a list [0, 0, 0, 0, 0, 0, 0]\n",
    "b = [0] * 7\n",
    "\n",
    "print(a)\n",
    "print(b)"
   ]
  },
  {
   "cell_type": "markdown",
   "metadata": {},
   "source": [
    "User inputted list:"
   ]
  },
  {
   "cell_type": "code",
   "execution_count": 6,
   "metadata": {},
   "outputs": [
    {
     "name": "stdout",
     "output_type": "stream",
     "text": [
      "List of elements: ['8', '7', ' 5', '5', '4', '1', '3']\n"
     ]
    }
   ],
   "source": [
    "n = int(input(\"Number of elements in the list?\"))\n",
    "for i in range(n):\n",
    "    element = input(\"Enter element: \")\n",
    "    if i == 0:\n",
    "        my_list = [element]  # Initialize the list with the first element\n",
    "    else:\n",
    "        my_list.append(element)  # Append subsequent elements\n",
    "print(\"List of elements:\", my_list)"
   ]
  },
  {
   "cell_type": "code",
   "execution_count": 8,
   "metadata": {},
   "outputs": [
    {
     "name": "stdout",
     "output_type": "stream",
     "text": [
      "List: [2, 3, 4, 6, 8, 9]\n"
     ]
    }
   ],
   "source": [
    "list1 = list(map(int ,input(\"Enter numbers separated by space: \").split())) \n",
    "print(\"List:\", list1)"
   ]
  },
  {
   "cell_type": "markdown",
   "metadata": {},
   "source": [
    "## 2.2 Accessing List Elements:\n",
    "- Indexing represents accessing elements by their position number in the list. \n",
    "- Zero-indexed, meaning the first item has an index of 0.\n",
    "- Negative indexing: -1 indexing from end\n",
    "\n",
    "- list = [ list[0], list[1], list[2],...., list[-2], list[-1] ]"
   ]
  },
  {
   "cell_type": "code",
   "execution_count": 9,
   "metadata": {},
   "outputs": [
    {
     "name": "stdout",
     "output_type": "stream",
     "text": [
      "Coding\n",
      "Dining\n"
     ]
    }
   ],
   "source": [
    "print(hobbies[0])  \n",
    "print(hobbies[-1])  "
   ]
  },
  {
   "cell_type": "code",
   "execution_count": 10,
   "metadata": {},
   "outputs": [
    {
     "name": "stdout",
     "output_type": "stream",
     "text": [
      "Student_roll : 21 , Student_name : Rose, Student_totalMarks : 120 "
     ]
    }
   ],
   "source": [
    "\n",
    "Student_info = [21, 'Rose', \"CSE\", 30, 40, 50, 120]\n",
    "print(\"Student_roll :\", Student_info[0], end=' , ')\n",
    "print(\"Student_name :\", Student_info[1], end=', ')\n",
    "print(\"Student_totalMarks :\", Student_info[-1], end=' ')"
   ]
  },
  {
   "cell_type": "markdown",
   "metadata": {},
   "source": [
    "- **Updating Elements:**"
   ]
  },
  {
   "cell_type": "code",
   "execution_count": 11,
   "metadata": {},
   "outputs": [
    {
     "name": "stdout",
     "output_type": "stream",
     "text": [
      "[10, 25, 30, 40, 50]\n"
     ]
    }
   ],
   "source": [
    "a = [10, 20, 30, 40, 50]\n",
    "\n",
    "# Change the second element\n",
    "a[1] = 25 \n",
    "\n",
    "print(a)"
   ]
  },
  {
   "cell_type": "markdown",
   "metadata": {},
   "source": [
    "## 2.3 List Methods"
   ]
  },
  {
   "cell_type": "markdown",
   "metadata": {},
   "source": [
    "| **Method**   | **Example**             | **Description**                                                  |\n",
    "|--------------|-------------------------|------------------------------------------------------------------|\n",
    "| `index()`    | `list.index(x)`         | Returns the first occurrence of `x` in the list.                |\n",
    "| `append()`   | `list.append(x)`        | Appends `x` at the end of the list.                             |\n",
    "| `insert()`   | `list.insert(i, x)`     | Inserts `x` at the position specified by index `i`.             |\n",
    "| `copy()`     | `list.copy()`           | Returns a shallow copy of the list.                             |\n",
    "| `extend()`   | `list.extend(list1)`    | Appends all elements of `list1` to the end of the list.         |\n",
    "| `count()`    | `list.count(x)`         | Returns the number of times `x` occurs in the list.             |\n",
    "| `remove()`   | `list.remove(x)`        | Removes the first occurrence of `x` from the list.              |\n",
    "| `pop()`      | `list.pop()`            | Removes and returns the last element of the list.               |\n",
    "| `sort()`     | `list.sort()`           | Sorts the list in ascending order in-place.                     |\n",
    "| `reverse()`  | `list.reverse()`        | Reverses the elements of the list in-place.                     |\n",
    "| `clear()`    | `list.clear()`          | Deletes all elements from the list, making it empty.            |\n"
   ]
  },
  {
   "cell_type": "markdown",
   "metadata": {},
   "source": [
    "### 2.3.1 Adding Elements\n",
    "\n",
    "  - **Append**:\n",
    "    - `list-name.append(element)`\n",
    "    - add an item to the end of the list\n",
    "  - **Extend**: \n",
    "    - `list-name.extend([elements])`\n",
    "    - add multiple elements to the end of the list\n",
    "  - **Insert**: \n",
    "    - `list-name.insert(index, element)`\n",
    "    - adds an element at a specific position"
   ]
  },
  {
   "cell_type": "code",
   "execution_count": null,
   "metadata": {},
   "outputs": [
    {
     "name": "stdout",
     "output_type": "stream",
     "text": [
      "After append(10): [10]\n",
      "After insert(0, 5): [5, 10]\n",
      "After extend([15, 20, 25]): [5, 10, 15, 20, 25]\n"
     ]
    }
   ],
   "source": [
    "# Initialize an empty list\n",
    "a = []\n",
    "\n",
    "# Adding 10 to end of list\n",
    "a.append(10)  \n",
    "print(\"After append(10):\", a)  \n",
    "\n",
    "# Inserting 5 at index 0\n",
    "a.insert(0, 5)\n",
    "print(\"After insert(0, 5):\", a) \n",
    "\n",
    "# Adding multiple elements  [15, 20, 25] at the end\n",
    "a.extend([15, 20, 25])  \n",
    "print(\"After extend([15, 20, 25]):\", a)"
   ]
  },
  {
   "cell_type": "code",
   "execution_count": 13,
   "metadata": {},
   "outputs": [
    {
     "name": "stdout",
     "output_type": "stream",
     "text": [
      "['Coding', 'Reading', 'Thinking', 'Dining', 'Math']\n"
     ]
    }
   ],
   "source": [
    "hobbies.append('Math') \n",
    "print(hobbies)"
   ]
  },
  {
   "cell_type": "code",
   "execution_count": 14,
   "metadata": {},
   "outputs": [
    {
     "name": "stdout",
     "output_type": "stream",
     "text": [
      "[21, 'Rose', 'CSE', 20, 30, 50, 120, 50]\n"
     ]
    }
   ],
   "source": [
    "Student_info = [21, \"Rose\", \"CSE\", 20, 30, 50, 120]\n",
    "Student_info.append(50)\n",
    "print(Student_info)"
   ]
  },
  {
   "cell_type": "markdown",
   "metadata": {},
   "source": [
    "### 2.3.2 Removing Elements:\n",
    "- **Append**: \n",
    "  - `list-name.remove(element)`\n",
    "  - delete an item by value\n",
    "- **Pop**: `\n",
    "  - `list-name.pop(index)`\n",
    "  - remove the element at a specific index or the last element if no index is specified\n",
    "- **Delete Statement**: \n",
    "  - `del list-name[index]`\n",
    "  - delete an element at a specified index"
   ]
  },
  {
   "cell_type": "code",
   "execution_count": 15,
   "metadata": {},
   "outputs": [
    {
     "name": "stdout",
     "output_type": "stream",
     "text": [
      "After remove(30): [10, 20, 40, 50]\n",
      "Popped element: 20\n",
      "After pop(1): [10, 40, 50]\n",
      "After del a[0]: [40, 50]\n"
     ]
    }
   ],
   "source": [
    "a = [10, 20, 30, 40, 50]\n",
    "\n",
    "# Removes the first occurrence of 30\n",
    "a.remove(30)  \n",
    "print(\"After remove(30):\", a)\n",
    "\n",
    "# Removes the element at index 1 (20)\n",
    "popped_val = a.pop(1)  \n",
    "print(\"Popped element:\", popped_val)\n",
    "print(\"After pop(1):\", a) \n",
    "\n",
    "# Deletes the first element (10)\n",
    "del a[0]  \n",
    "print(\"After del a[0]:\", a)"
   ]
  },
  {
   "cell_type": "code",
   "execution_count": 16,
   "metadata": {},
   "outputs": [
    {
     "name": "stdout",
     "output_type": "stream",
     "text": [
      "['Coding', 'Reading', 'Thinking', 'Dining']\n"
     ]
    }
   ],
   "source": [
    "hobbies.remove('Math') \n",
    "print(hobbies)"
   ]
  },
  {
   "cell_type": "code",
   "execution_count": 17,
   "metadata": {},
   "outputs": [
    {
     "name": "stdout",
     "output_type": "stream",
     "text": [
      "[21, 'Rose', 'CSE', 20, 30, 120]\n"
     ]
    }
   ],
   "source": [
    "Student_info = [21, \"Rose\", \"CSE\", 20, 30, 50, 120]\n",
    "Student_info.remove(50)\n",
    "print(Student_info)"
   ]
  },
  {
   "cell_type": "markdown",
   "metadata": {},
   "source": [
    "### 2.3.2 Finding Information\n",
    "\n",
    "1. Finding the location of an element\n",
    "    - `index(x, start, end)`\n",
    "    - Returns the first index of x; Optional start and end bounds for search.\n",
    "2. Counting occurences of element\n",
    "    - `count(x)`\n",
    "    - Counts how many times x appears in the list"
   ]
  },
  {
   "cell_type": "code",
   "execution_count": 18,
   "metadata": {},
   "outputs": [
    {
     "name": "stdout",
     "output_type": "stream",
     "text": [
      "1\n",
      "3\n",
      "2\n"
     ]
    }
   ],
   "source": [
    "numbers = [1, 2, 3, 2]\n",
    "print(numbers.index(2))     \n",
    "print(numbers.index(2, 2))  \n",
    "print(numbers.count(2))"
   ]
  },
  {
   "cell_type": "markdown",
   "metadata": {},
   "source": [
    "### 2.3.3 Reordering Elements\n",
    "\n",
    "1. **`sort`**: \n",
    "    - `list-name.sort(key, reverse)`\n",
    "    - Sorts the list in-place\n",
    "2. **`reverse`**:\n",
    "    - `list-name.reverse()`\n",
    "    - Reverses the list in-place."
   ]
  },
  {
   "cell_type": "code",
   "execution_count": 19,
   "metadata": {},
   "outputs": [
    {
     "name": "stdout",
     "output_type": "stream",
     "text": [
      "Sorted list in ascending order: [0, 1, 3, 5, 7, 8, 10, 12]\n",
      "Sorted list in descending order: [12, 10, 8, 7, 5, 3, 1, 0]\n"
     ]
    }
   ],
   "source": [
    "numbers = [0, 10, 8, 12, 5, 3, 7, 1]\n",
    "numbers.sort()             # Ascending\n",
    "print(\"Sorted list in ascending order:\", numbers)\n",
    "numbers.sort(reverse=True) # Descending\n",
    "print(\"Sorted list in descending order:\", numbers)"
   ]
  },
  {
   "cell_type": "code",
   "execution_count": 20,
   "metadata": {},
   "outputs": [
    {
     "name": "stdout",
     "output_type": "stream",
     "text": [
      "Reversed list: [1, 7, 3, 5, 12, 8, 10, 0]\n"
     ]
    }
   ],
   "source": [
    "numbers = [0,10,8,12, 5, 3, 7, 1]\n",
    "numbers.reverse()\n",
    "print(\"Reversed list:\", numbers)"
   ]
  },
  {
   "cell_type": "markdown",
   "metadata": {},
   "source": [
    "### 2.3.4 Copying list\n",
    "\n",
    "- `copy()`\n",
    "- Returns a shallow copy of the list."
   ]
  },
  {
   "cell_type": "code",
   "execution_count": 21,
   "metadata": {},
   "outputs": [
    {
     "name": "stdout",
     "output_type": "stream",
     "text": [
      "Copied list: [1, 7, 3, 5, 12, 8, 10, 0]\n",
      "Original list after copying: [1, 7, 3, 5, 12, 8, 10, 0]\n",
      "Copied list after appending 100: [1, 7, 3, 5, 12, 8, 10, 0, 100]\n"
     ]
    }
   ],
   "source": [
    "copy = numbers.copy()\n",
    "print(\"Copied list:\", copy)\n",
    "\n",
    "copy.append(100)\n",
    "print(\"Original list after copying:\", numbers)\n",
    "print(\"Copied list after appending 100:\", copy)"
   ]
  },
  {
   "cell_type": "markdown",
   "metadata": {},
   "source": [
    "## 2.4  Slicing Lists\n",
    "Slicing represents extracting a part of a list by mentioning starting and ending position numbers.      \n",
    "The general format of `slicing is: [start: stop: stepsize]`       \n",
    "By default `start` will be 0, `stop` will be the last element and `stepsize` will be 1. \n",
    "   - Getting a List from Another List with Slices\n",
    "   - `list[start:end]`: Slices the original list from the `list[start]` to `list[end-1]`"
   ]
  },
  {
   "cell_type": "code",
   "execution_count": 22,
   "metadata": {},
   "outputs": [
    {
     "data": {
      "text/plain": [
       "[2, 3, 4]"
      ]
     },
     "execution_count": 22,
     "metadata": {},
     "output_type": "execute_result"
    }
   ],
   "source": [
    "mylist=[0,1,2,3,4,5,6,7,8,9]\n",
    "mylist[2:5]"
   ]
  },
  {
   "cell_type": "code",
   "execution_count": 23,
   "metadata": {},
   "outputs": [
    {
     "name": "stdout",
     "output_type": "stream",
     "text": [
      "same as mylist: [0, 1, 2, 3, 4, 5, 6, 7, 8, 9]\n",
      "first five elements: [0, 1, 2, 3, 4]\n",
      "last five elements: [5, 6, 7, 8, 9]\n"
     ]
    }
   ],
   "source": [
    "print(\"same as mylist:\", mylist[:])\n",
    "print(\"first five elements:\", mylist[:5])\n",
    "print(\"last five elements:\", mylist[-5:])"
   ]
  },
  {
   "cell_type": "markdown",
   "metadata": {},
   "source": [
    "- Can also specify steps: `list[start:end:step]`"
   ]
  },
  {
   "cell_type": "code",
   "execution_count": 24,
   "metadata": {},
   "outputs": [
    {
     "data": {
      "text/plain": [
       "[3, 6, 9]"
      ]
     },
     "execution_count": 24,
     "metadata": {},
     "output_type": "execute_result"
    }
   ],
   "source": [
    "mylist[3::3]"
   ]
  },
  {
   "cell_type": "markdown",
   "metadata": {},
   "source": [
    "## 2.5 List Functions"
   ]
  },
  {
   "cell_type": "markdown",
   "metadata": {},
   "source": [
    "| **Function**      | **Purpose**                                |\n",
    "| ----------------- | ------------------------------------------ |\n",
    "| `len()`           | Count number of items                      |\n",
    "| `sum()`           | Add up all numeric items                   |\n",
    "| `max()` / `min()` | Return largest / smallest element          |\n",
    "| `sorted()`        | Return a sorted copy                       |\n",
    "| `any()` / `all()` | Logical checks across list elements        |\n",
    "| `enumerate()`     | Iterate with index and item simultaneously |\n"
   ]
  },
  {
   "cell_type": "markdown",
   "metadata": {},
   "source": [
    "### 2.5.1 Length of the list\n",
    "\n",
    "- `len(list-name)`\n",
    "- Returns the number of elements in the list."
   ]
  },
  {
   "cell_type": "code",
   "execution_count": 25,
   "metadata": {},
   "outputs": [
    {
     "name": "stdout",
     "output_type": "stream",
     "text": [
      "['Coding', 'Reading', 'Thinking', 'Dining']\n"
     ]
    },
    {
     "data": {
      "text/plain": [
       "4"
      ]
     },
     "execution_count": 25,
     "metadata": {},
     "output_type": "execute_result"
    }
   ],
   "source": [
    "print(hobbies)\n",
    "len(hobbies)"
   ]
  },
  {
   "cell_type": "code",
   "execution_count": 26,
   "metadata": {},
   "outputs": [
    {
     "name": "stdout",
     "output_type": "stream",
     "text": [
      "[0, 1, 2, 3, 4, 5, 6, 7, 8, 9]\n"
     ]
    },
    {
     "data": {
      "text/plain": [
       "10"
      ]
     },
     "execution_count": 26,
     "metadata": {},
     "output_type": "execute_result"
    }
   ],
   "source": [
    "print(mylist)\n",
    "len(mylist)"
   ]
  },
  {
   "cell_type": "markdown",
   "metadata": {},
   "source": [
    "### 2.5.2 Summuation of numeric elements\n",
    "\n",
    "- `sum(list-name)`\n",
    "- Returns the sum of numeric elements in the list"
   ]
  },
  {
   "cell_type": "code",
   "execution_count": 27,
   "metadata": {},
   "outputs": [
    {
     "name": "stdout",
     "output_type": "stream",
     "text": [
      "60\n"
     ]
    }
   ],
   "source": [
    "numbers = [10, 20, 30]\n",
    "print(sum(numbers))  # 60\n"
   ]
  },
  {
   "cell_type": "markdown",
   "metadata": {},
   "source": [
    "### 2.5.3 Finding Maximum and Minimum\n",
    "\n",
    "- Use min() and max() to find the smallest and largest element in a list, respectively"
   ]
  },
  {
   "cell_type": "code",
   "execution_count": 28,
   "metadata": {},
   "outputs": [
    {
     "name": "stdout",
     "output_type": "stream",
     "text": [
      "1\n",
      "56\n"
     ]
    }
   ],
   "source": [
    "lst = [3, 5, 6, 5, 4, 3, 56, 8, 1]\n",
    "print(min(lst)) \n",
    "print(max(lst))"
   ]
  },
  {
   "cell_type": "markdown",
   "metadata": {},
   "source": [
    "### 2.5.4 Sorting\n",
    "- Returns a new sorted list (does not modify original).\n"
   ]
  },
  {
   "cell_type": "code",
   "execution_count": 29,
   "metadata": {},
   "outputs": [
    {
     "name": "stdout",
     "output_type": "stream",
     "text": [
      "[1, 2, 4, 8]\n",
      "[4, 2, 8, 1]\n"
     ]
    }
   ],
   "source": [
    "nums = [4, 2, 8, 1]\n",
    "print(sorted(nums))   # [1, 2, 4, 8]\n",
    "print(nums)           # [4, 2, 8, 1]\n"
   ]
  },
  {
   "cell_type": "markdown",
   "metadata": {},
   "source": [
    "### 2.5.5 Logical Functions\n",
    "\n",
    "1. `any(list)`: Returns True if at least one element is truthy.\n",
    "2. `all(list)`: Returns True only if all elements are truthy."
   ]
  },
  {
   "cell_type": "code",
   "execution_count": 30,
   "metadata": {},
   "outputs": [
    {
     "name": "stdout",
     "output_type": "stream",
     "text": [
      "True\n"
     ]
    }
   ],
   "source": [
    "flags = [0, 0, 1]\n",
    "print(any(flags))  # True\n"
   ]
  },
  {
   "cell_type": "code",
   "execution_count": 31,
   "metadata": {},
   "outputs": [
    {
     "name": "stdout",
     "output_type": "stream",
     "text": [
      "True\n"
     ]
    }
   ],
   "source": [
    "flags = [1, True, 2]\n",
    "print(all(flags))  # True\n"
   ]
  },
  {
   "cell_type": "markdown",
   "metadata": {},
   "source": [
    "### 2.5.6 Enumerate\n",
    "- `enumerate(list-name)` \n",
    "- Returns both index and value as a tuple in iteration.\n"
   ]
  },
  {
   "cell_type": "code",
   "execution_count": 32,
   "metadata": {},
   "outputs": [
    {
     "name": "stdout",
     "output_type": "stream",
     "text": [
      "0 red\n",
      "1 green\n",
      "2 blue\n"
     ]
    }
   ],
   "source": [
    "colors = ['red', 'green', 'blue']\n",
    "for i, color in enumerate(colors):\n",
    "    print(i, color)"
   ]
  },
  {
   "cell_type": "markdown",
   "metadata": {},
   "source": [
    "## 2.6 List Operations\n"
   ]
  },
  {
   "cell_type": "markdown",
   "metadata": {},
   "source": [
    "### 2.6.1 Arithmetic Operations\n",
    "1. Concatenation using `+`\n",
    "    - Combines two lists into one.\n",
    "2. Repetition using *\n",
    "    - Repeats a list multiple times."
   ]
  },
  {
   "cell_type": "code",
   "execution_count": 33,
   "metadata": {},
   "outputs": [
    {
     "name": "stdout",
     "output_type": "stream",
     "text": [
      "[1, 2, 3, 4]\n",
      "['x', 'x', 'x']\n"
     ]
    }
   ],
   "source": [
    "a = [1, 2]\n",
    "b = [3, 4]\n",
    "print(a + b)  # [1, 2, 3, 4]\n",
    "\n",
    "a = ['x']\n",
    "print(a * 3)  # ['x', 'x', 'x']\n"
   ]
  },
  {
   "cell_type": "markdown",
   "metadata": {},
   "source": [
    "### 2.6.2 Membership Operations\n",
    "\n",
    "- Using in / not in\n",
    "- Checks whether an element is present or absent."
   ]
  },
  {
   "cell_type": "code",
   "execution_count": 34,
   "metadata": {},
   "outputs": [
    {
     "name": "stdout",
     "output_type": "stream",
     "text": [
      "True\n",
      "True\n"
     ]
    }
   ],
   "source": [
    "colors = ['red', 'green', 'blue']\n",
    "print('green' in colors)     # True\n",
    "print('yellow' not in colors)  # True"
   ]
  },
  {
   "cell_type": "markdown",
   "metadata": {},
   "source": [
    "### 2.6.3 Comparison Operations\n",
    "- Compares lists element by element.\n",
    "- `list1 == list2`"
   ]
  },
  {
   "cell_type": "code",
   "execution_count": 35,
   "metadata": {},
   "outputs": [
    {
     "name": "stdout",
     "output_type": "stream",
     "text": [
      "True\n"
     ]
    }
   ],
   "source": [
    "a = [1, 2]\n",
    "b = [1, 2]\n",
    "print(a == b)  # True\n"
   ]
  },
  {
   "cell_type": "markdown",
   "metadata": {},
   "source": [
    "## 2.7 Iterating through the list\n",
    "\n",
    "- for loop\n",
    "1. direct iteration"
   ]
  },
  {
   "cell_type": "code",
   "execution_count": 36,
   "metadata": {},
   "outputs": [
    {
     "name": "stdout",
     "output_type": "stream",
     "text": [
      "3\n",
      "5\n",
      "6\n",
      "5\n",
      "4\n",
      "3\n",
      "56\n",
      "8\n",
      "1\n"
     ]
    }
   ],
   "source": [
    "lst = [3, 5, 6, 5, 4, 3, 56, 8, 1]\n",
    "for item in lst:\n",
    "    print(item)"
   ]
  },
  {
   "cell_type": "markdown",
   "metadata": {},
   "source": [
    "2. with index "
   ]
  },
  {
   "cell_type": "code",
   "execution_count": 37,
   "metadata": {},
   "outputs": [
    {
     "name": "stdout",
     "output_type": "stream",
     "text": [
      "0 3\n",
      "1 5\n",
      "2 6\n",
      "3 5\n",
      "4 4\n",
      "5 3\n",
      "6 56\n",
      "7 8\n",
      "8 1\n"
     ]
    }
   ],
   "source": [
    "for i in range(len(lst)):\n",
    "    print(i, lst[i])"
   ]
  },
  {
   "cell_type": "markdown",
   "metadata": {},
   "source": [
    "3. Reverse iteration"
   ]
  },
  {
   "cell_type": "code",
   "execution_count": 38,
   "metadata": {},
   "outputs": [
    {
     "name": "stdout",
     "output_type": "stream",
     "text": [
      "8 1\n",
      "7 8\n",
      "6 56\n",
      "5 3\n",
      "4 4\n",
      "3 5\n",
      "2 6\n",
      "1 5\n",
      "0 3\n"
     ]
    }
   ],
   "source": [
    "for i in range(len(lst)-1, -1, -1):\n",
    "    print(i, lst[i])"
   ]
  },
  {
   "cell_type": "markdown",
   "metadata": {},
   "source": [
    "## 2.8 Multidimensional Lists\n",
    "\n",
    "- Nested Lists: A list within another list is called a nested list.\n",
    "- Useful for representing **matrices**, **tables**, or **grids**."
   ]
  },
  {
   "cell_type": "markdown",
   "metadata": {},
   "source": [
    "### 2.8.1 2-D Lists"
   ]
  },
  {
   "cell_type": "markdown",
   "metadata": {},
   "source": [
    "An element of a 2-D list is a list itself. It can have different sizes.   \n",
    "It has a row and a column format."
   ]
  },
  {
   "cell_type": "code",
   "execution_count": 39,
   "metadata": {},
   "outputs": [],
   "source": [
    "list2d = [\n",
    "    [1, 2],\n",
    "    [4, 5, 6],\n",
    "    [7, 9]\n",
    "]"
   ]
  },
  {
   "cell_type": "markdown",
   "metadata": {},
   "source": [
    "**Accessing elements**"
   ]
  },
  {
   "cell_type": "code",
   "execution_count": 40,
   "metadata": {},
   "outputs": [
    {
     "name": "stdout",
     "output_type": "stream",
     "text": [
      "[1, 2]\n",
      "5\n"
     ]
    }
   ],
   "source": [
    "print(list2d[0])      \n",
    "print(list2d[1][1])  "
   ]
  },
  {
   "cell_type": "markdown",
   "metadata": {},
   "source": [
    "**Iterating through a list**"
   ]
  },
  {
   "cell_type": "code",
   "execution_count": 41,
   "metadata": {},
   "outputs": [
    {
     "name": "stdout",
     "output_type": "stream",
     "text": [
      "[1, 2, 3, 5] -- [4, 6, 7, 9] -- [8, 10, 11, 13] -- "
     ]
    }
   ],
   "source": [
    "List1= [ [1, 2, 3, 5], [4, 6, 7, 9], [8, 10, 11, 13] ]\n",
    "#Accesing the rows of the list\n",
    "for i in List1:\n",
    "  print(i, end = ' -- ')"
   ]
  },
  {
   "cell_type": "code",
   "execution_count": 42,
   "metadata": {},
   "outputs": [
    {
     "name": "stdout",
     "output_type": "stream",
     "text": [
      "\n",
      "\n",
      "1 , 2 , 3 , 5 , 4 , 6 , 7 , 9 , 8 , 10 , 11 , 13 , "
     ]
    }
   ],
   "source": [
    "#Accessing each element of a 2D-list \n",
    "print(\"\\n\")\n",
    "for i in range(len(List1)):\n",
    "  for j in range(len(List1[i])):\n",
    "                 print(List1[i][j], end=\" , \")"
   ]
  },
  {
   "cell_type": "markdown",
   "metadata": {},
   "source": [
    "### 2.8.2 2-D Lists as Matrices"
   ]
  },
  {
   "cell_type": "code",
   "execution_count": 43,
   "metadata": {},
   "outputs": [
    {
     "data": {
      "text/plain": [
       "[[1, 2, 3], [4, 5, 6], [7, 8, 9]]"
      ]
     },
     "execution_count": 43,
     "metadata": {},
     "output_type": "execute_result"
    }
   ],
   "source": [
    "mat = [[1,2,3], [4,5,6], [7,8,9]]\n",
    "mat"
   ]
  },
  {
   "cell_type": "code",
   "execution_count": 44,
   "metadata": {},
   "outputs": [
    {
     "name": "stdout",
     "output_type": "stream",
     "text": [
      "[1, 2, 3]\n",
      "[4, 5, 6]\n",
      "[7, 8, 9]\n"
     ]
    }
   ],
   "source": [
    "for r in mat:\n",
    "    print(r) # display row by row"
   ]
  },
  {
   "cell_type": "code",
   "execution_count": 45,
   "metadata": {},
   "outputs": [
    {
     "name": "stdout",
     "output_type": "stream",
     "text": [
      "1 2 3 \n",
      "4 5 6 \n",
      "7 8 9 \n"
     ]
    }
   ],
   "source": [
    "for r in mat:\n",
    "    for c in r: # display columns in each row\n",
    "        print(c, end=' ')\n",
    "    print()"
   ]
  },
  {
   "cell_type": "code",
   "execution_count": 46,
   "metadata": {},
   "outputs": [
    {
     "name": "stdout",
     "output_type": "stream",
     "text": [
      "1  2  3  \n",
      "4  5  6  \n",
      "7  8  9  \n"
     ]
    }
   ],
   "source": [
    "for i in range(len(mat)): # i values change from 0 to m-1\n",
    "    for j in range(len(mat[i])): # j values change from 0 to n-1\n",
    "        print('%d ' %mat[i][j], end=' ') \n",
    "    print()"
   ]
  },
  {
   "cell_type": "code",
   "execution_count": 47,
   "metadata": {},
   "outputs": [
    {
     "name": "stdout",
     "output_type": "stream",
     "text": [
      "2 4 6 4 \n",
      "5 5 7 0 \n",
      "9 7 7 1 \n"
     ]
    }
   ],
   "source": [
    "# nested lists - matrix addition\n",
    "# take matrix one with 3 rows and 4 cols\n",
    "m1 = [ [1, 2, 3, 0],\n",
    " [4, 5, 6, 0],\n",
    " [7, 8, 9, 0] ]\n",
    "# take matrix two with 3 rows and 4 cols\n",
    "m2 = [ [1, 2, 3, 4],\n",
    " [1, 0, 1, 0],\n",
    " [2, -1, -2, 1] ]\n",
    "# take matrix three with 3 rows and 4 cols and initialize with all 0s\n",
    "m3= [ 4*[0] for i in range(3) ] # repeat four 0s for 3 times\n",
    "# add the corresponding elements of m1 and m2 and store into m3\n",
    "for i in range(3):\n",
    "    for j in range(4):\n",
    "        m3[i][j]= m1[i][j]+m2[i][j]\n",
    "# display the third matrix using for loop\n",
    "for i in range(3):\n",
    "    for j in range(4):\n",
    "        print('%d ' %m3[i][j], end='')\n",
    "    print()"
   ]
  },
  {
   "cell_type": "markdown",
   "metadata": {},
   "source": [
    "### 2.8.3 List methods in 2-D\n",
    "\n",
    "1. `append()`: Adds an element at the end of the list. "
   ]
  },
  {
   "cell_type": "code",
   "execution_count": 48,
   "metadata": {},
   "outputs": [
    {
     "name": "stdout",
     "output_type": "stream",
     "text": [
      "[[2, 4, 6, 8, 10], [3, 6, 9, 12, 15], [4, 8, 12, 16, 20], [5, 10, 15, 20, 25]]\n"
     ]
    }
   ],
   "source": [
    "# Adding a sublist\n",
    "\n",
    "a = [[2, 4, 6, 8, 10], [3, 6, 9, 12, 15], [4, 8, 12, 16, 20]]\n",
    "a.append([5, 10, 15, 20, 25])\n",
    "print(a)"
   ]
  },
  {
   "cell_type": "markdown",
   "metadata": {},
   "source": [
    "2. `extend()`: Add the elements of a list (or any iterable), to the end of the current list."
   ]
  },
  {
   "cell_type": "code",
   "execution_count": 49,
   "metadata": {},
   "outputs": [
    {
     "name": "stdout",
     "output_type": "stream",
     "text": [
      "[[2, 4, 6, 8, 10, 12, 14, 16, 18], [3, 6, 9, 12, 15], [4, 8, 12, 16, 20]]\n"
     ]
    }
   ],
   "source": [
    "# Extending a sublist \n",
    "\n",
    "a = [[2, 4, 6, 8, 10], [3, 6, 9, 12, 15], [4, 8, 12, 16, 20]]\n",
    "a[0].extend([12, 14, 16, 18])     #adds elements at the end of the first sublist\n",
    "print(a)"
   ]
  },
  {
   "cell_type": "markdown",
   "metadata": {},
   "source": [
    "3. `reverse()`: Reverses the order of the list."
   ]
  },
  {
   "cell_type": "code",
   "execution_count": 50,
   "metadata": {},
   "outputs": [
    {
     "name": "stdout",
     "output_type": "stream",
     "text": [
      "[[2, 4, 6, 8, 10], [3, 6, 9, 12, 15], [20, 16, 12, 8, 4]]\n"
     ]
    }
   ],
   "source": [
    "# Reversing a sublist \n",
    "\n",
    "a = [[2, 4, 6, 8, 10], [3, 6, 9, 12, 15], [4, 8, 12, 16, 20]]\n",
    "a[2].reverse()\n",
    "print(a)"
   ]
  },
  {
   "cell_type": "markdown",
   "metadata": {},
   "source": [
    "## 2.9 List Comprehensions\n",
    "\n",
    "- Creation of new lists from an iterable object that satisfy a given condition.\n",
    "- Basic Syntax: `[expression for item in iterable]`\n",
    "- With conditions: `[expression for item in iterable if condition]`"
   ]
  },
  {
   "cell_type": "code",
   "execution_count": 52,
   "metadata": {},
   "outputs": [
    {
     "data": {
      "text/plain": [
       "[1, 4, 9, 16, 25, 36, 49, 64, 81, 100]"
      ]
     },
     "execution_count": 52,
     "metadata": {},
     "output_type": "execute_result"
    }
   ],
   "source": [
    "#Brute force squares\n",
    "squares = [] # create empty list\n",
    "for x in range(1, 11): # repeat x values from 1 to 10\n",
    "    squares.append(x**2) # add squares of x to the list\n",
    "squares"
   ]
  },
  {
   "cell_type": "code",
   "execution_count": 54,
   "metadata": {},
   "outputs": [
    {
     "data": {
      "text/plain": [
       "[1, 4, 9, 16, 25, 36, 49, 64, 81, 100]"
      ]
     },
     "execution_count": 54,
     "metadata": {},
     "output_type": "execute_result"
    }
   ],
   "source": [
    "#list comprehensions\n",
    "squares = [x**2 for x in range(1, 11)]\n",
    "squares"
   ]
  },
  {
   "cell_type": "code",
   "execution_count": 55,
   "metadata": {},
   "outputs": [
    {
     "name": "stdout",
     "output_type": "stream",
     "text": [
      "[0, 2, 4, 6, 8]\n"
     ]
    }
   ],
   "source": [
    "#even numbers\n",
    "evens = [x for x in range(10) if x % 2 == 0]\n",
    "print(evens)  # [0, 2, 4, 6, 8]\n"
   ]
  },
  {
   "cell_type": "code",
   "execution_count": null,
   "metadata": {},
   "outputs": [
    {
     "name": "stdout",
     "output_type": "stream",
     "text": [
      "['HELLO', 'WORLD']\n"
     ]
    }
   ],
   "source": [
    "words = [\"hello\", \"world\"]\n",
    "uppercased = [w.upper() for w in words]\n",
    "print(uppercased)  # ['HELLO', 'WORLD']"
   ]
  },
  {
   "cell_type": "code",
   "execution_count": 58,
   "metadata": {},
   "outputs": [
    {
     "data": {
      "text/plain": [
       "[3, 4, 5]"
      ]
     },
     "execution_count": 58,
     "metadata": {},
     "output_type": "execute_result"
    }
   ],
   "source": [
    "num1 = [1,2,3,4,5]\n",
    "num2 = [10,11,1,2]\n",
    "num3 = [i for i in num1 if i not in num2]\n",
    "num3"
   ]
  },
  {
   "cell_type": "markdown",
   "metadata": {},
   "source": [
    "### 2.9.1 Nested list comprehensions\n",
    "  \n",
    " `new_list = [[expression for item in list] for item in list]`"
   ]
  },
  {
   "cell_type": "code",
   "execution_count": 60,
   "metadata": {},
   "outputs": [
    {
     "name": "stdout",
     "output_type": "stream",
     "text": [
      "[[0, 1, 2, 3, 4], [0, 1, 2, 3, 4], [0, 1, 2, 3, 4], [0, 1, 2, 3, 4], [0, 1, 2, 3, 4]]\n"
     ]
    }
   ],
   "source": [
    "matrix = [[j for j in range(5)] for i in range(5)]   #5x5 matrix\n",
    "\n",
    "print(matrix)"
   ]
  },
  {
   "cell_type": "markdown",
   "metadata": {},
   "source": [
    "Flattening the list"
   ]
  },
  {
   "cell_type": "code",
   "execution_count": 57,
   "metadata": {},
   "outputs": [
    {
     "name": "stdout",
     "output_type": "stream",
     "text": [
      "[1, 2, 3, 4]\n"
     ]
    }
   ],
   "source": [
    "matrix = [[1, 2], [3, 4]]\n",
    "flattened = [num for row in matrix for num in row]\n",
    "print(flattened)  # [1, 2, 3, 4]\n"
   ]
  },
  {
   "cell_type": "code",
   "execution_count": null,
   "metadata": {},
   "outputs": [],
   "source": []
  }
 ],
 "metadata": {
  "kernelspec": {
   "display_name": "Python 3",
   "language": "python",
   "name": "python3"
  },
  "language_info": {
   "codemirror_mode": {
    "name": "ipython",
    "version": 3
   },
   "file_extension": ".py",
   "mimetype": "text/x-python",
   "name": "python",
   "nbconvert_exporter": "python",
   "pygments_lexer": "ipython3",
   "version": "3.12.1"
  }
 },
 "nbformat": 4,
 "nbformat_minor": 2
}
