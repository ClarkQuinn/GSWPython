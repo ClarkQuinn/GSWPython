{
 "cells": [
  {
   "cell_type": "markdown",
   "metadata": {},
   "source": [
    "# 2.0 GSW Lists.\n",
    "\n",
    "A **list** is a value that contains multiple values in an ordered sequence.   \n",
    "**Items** are the values inside of a list, separated by commas.\n",
    "\n",
    "- Mutable\n",
    "- Ordered collections of arbitrary objects\n",
    "- Accessed by offset\n",
    "- Variable length\n",
    "- Heterogeneous\n",
    "- Arbitrarily nestable\n",
    "- Arrays of object references\n",
    "\n",
    "**Creating a list**: \n",
    "- reprsented by square brackets [..] \n",
    "- `list-name = [ o1, o2, o3]`"
   ]
  },
  {
   "cell_type": "code",
   "execution_count": 1,
   "metadata": {},
   "outputs": [
    {
     "name": "stdout",
     "output_type": "stream",
     "text": [
      "['Coding', 'Reading', 'Thinking', 'Dining']\n"
     ]
    }
   ],
   "source": [
    "hobbies = ['Coding', 'Reading', 'Thinking','Dining']\n",
    "print(hobbies) "
   ]
  },
  {
   "cell_type": "markdown",
   "metadata": {},
   "source": [
    "**Accessing List Elements**:\n",
    "- Zero-indexed, meaning the first item has an index of 0.\n",
    "- Negative indexing: -1 indexing from end\n",
    "\n",
    "- list = [ list[0], list[1], list[2],...., list[-2], list[-1] ]"
   ]
  },
  {
   "cell_type": "code",
   "execution_count": 2,
   "metadata": {},
   "outputs": [
    {
     "name": "stdout",
     "output_type": "stream",
     "text": [
      "Coding\n",
      "Dining\n"
     ]
    }
   ],
   "source": [
    "print(hobbies[0])  \n",
    "print(hobbies[-1])  "
   ]
  },
  {
   "cell_type": "markdown",
   "metadata": {},
   "source": [
    "## 2.1 List Operations"
   ]
  },
  {
   "cell_type": "markdown",
   "metadata": {},
   "source": [
    "### 2.1.1 Adding and Removing Elements\n",
    "- **Adding Elements:**\n",
    "  - `append()`-  add an item to the end of the list."
   ]
  },
  {
   "cell_type": "code",
   "execution_count": 3,
   "metadata": {},
   "outputs": [
    {
     "name": "stdout",
     "output_type": "stream",
     "text": [
      "['Coding', 'Reading', 'Thinking', 'Dining', 'Math']\n"
     ]
    }
   ],
   "source": [
    "hobbies.append('Math') \n",
    "print(hobbies)"
   ]
  },
  {
   "cell_type": "markdown",
   "metadata": {},
   "source": [
    "- **Removing Elements:**\n",
    "  - `remove()`- delete an item by value."
   ]
  },
  {
   "cell_type": "code",
   "execution_count": 5,
   "metadata": {},
   "outputs": [
    {
     "name": "stdout",
     "output_type": "stream",
     "text": [
      "['Coding', 'Reading', 'Thinking', 'Dining']\n"
     ]
    }
   ],
   "source": [
    "hobbies.remove('Math') \n",
    "print(hobbies)"
   ]
  },
  {
   "cell_type": "markdown",
   "metadata": {},
   "source": [
    "### 2.1.2 Slicing Lists\n",
    "   - Getting a List from Another List with Slices\n",
    "   - `list[start:end]`: Slices the original list from the `list[start]` to `list[end-1]`"
   ]
  },
  {
   "cell_type": "code",
   "execution_count": 9,
   "metadata": {},
   "outputs": [
    {
     "data": {
      "text/plain": [
       "[2, 3, 4]"
      ]
     },
     "execution_count": 9,
     "metadata": {},
     "output_type": "execute_result"
    }
   ],
   "source": [
    "mylist=[0,1,2,3,4,5,6,7,8,9]\n",
    "mylist[2:5]"
   ]
  },
  {
   "cell_type": "code",
   "execution_count": 10,
   "metadata": {},
   "outputs": [
    {
     "name": "stdout",
     "output_type": "stream",
     "text": [
      "same as mylist: [0, 1, 2, 3, 4, 5, 6, 7, 8, 9]\n",
      "first five elements: [0, 1, 2, 3, 4]\n",
      "last five elements: [5, 6, 7, 8, 9]\n"
     ]
    }
   ],
   "source": [
    "print(\"same as mylist:\", mylist[:])\n",
    "print(\"first five elements:\", mylist[:5])\n",
    "print(\"last five elements:\", mylist[-5:])"
   ]
  },
  {
   "cell_type": "markdown",
   "metadata": {},
   "source": [
    "- Can also specify steps: `list[start:end:step]`"
   ]
  },
  {
   "cell_type": "code",
   "execution_count": 14,
   "metadata": {},
   "outputs": [
    {
     "data": {
      "text/plain": [
       "[3, 6, 9]"
      ]
     },
     "execution_count": 14,
     "metadata": {},
     "output_type": "execute_result"
    }
   ],
   "source": [
    "mylist[3::3]"
   ]
  },
  {
   "cell_type": "markdown",
   "metadata": {},
   "source": [
    "## 2.1 List Methods"
   ]
  },
  {
   "cell_type": "code",
   "execution_count": null,
   "metadata": {},
   "outputs": [],
   "source": []
  }
 ],
 "metadata": {
  "kernelspec": {
   "display_name": "base",
   "language": "python",
   "name": "python3"
  },
  "language_info": {
   "codemirror_mode": {
    "name": "ipython",
    "version": 3
   },
   "file_extension": ".py",
   "mimetype": "text/x-python",
   "name": "python",
   "nbconvert_exporter": "python",
   "pygments_lexer": "ipython3",
   "version": "3.11.7"
  }
 },
 "nbformat": 4,
 "nbformat_minor": 2
}
